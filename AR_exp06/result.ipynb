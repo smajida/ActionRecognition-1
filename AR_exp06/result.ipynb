{
 "metadata": {
  "name": "",
  "signature": "sha256:0c5b022e8face4f807662230dec2880070195f071e3576d457d0502636621136"
 },
 "nbformat": 3,
 "nbformat_minor": 0,
 "worksheets": [
  {
   "cells": [
    {
     "cell_type": "markdown",
     "metadata": {},
     "source": [
      "#\u5b9f\u9a13\uff16 \u7d50\u679c\n",
      "\u30e2\u30fc\u30b7\u30e7\u30f3\u30ad\u30e3\u30d7\u30c1\u30e3\u751f\u30c7\u30fc\u30bf\u3092PCA\u3067\u6b21\u5143\u5727\u7e2e\u2192\u30ac\u30a6\u30b7\u30a2\u30f3HMM\u3067\u5c24\u5ea6\u8a08\u7b97\u2192SVM\u3067\u884c\u52d5\u5206\u985e  \n",
      "SVMhyb, SVMlik, SVMpca, SVMmocap, HMM\u306e\uff15\u3064\u306e\u6b63\u89e3\u7387\u3092\u6bd4\u8f03\n",
      "###\u30c7\u30fc\u30bf\u306b\u3064\u3044\u3066\n",
      "\u5143\u306e\u30e2\u30fc\u30b7\u30e7\u30f3\u30ad\u30e3\u30d7\u30c1\u30e3\u30c7\u30fc\u30bf\u306f1\u30d5\u30ec\u30fc\u30e0\u3042\u305f\u308a15\u6b21\u5143\u306e\u89d2\u5ea6\u30d9\u30af\u30c8\u30eb  \n",
      "\u30d5\u30ec\u30fc\u30e0\u6570\u306f \n",
      "\u5b66\u7fd2\u30c7\u30fc\u30bf: 26059\n",
      "\u30c6\u30b9\u30c8\u30c7\u30fc\u30bf: 8557  \n",
      "###\u30d1\u30e9\u30e1\u30fc\u30bf\u306b\u3064\u3044\u3066\n",
      "PCA\u306e\u5165\u529b\u30d5\u30ec\u30fc\u30e0\u6570: 3 (\u5165\u529b\u6b21\u5143\u6570\u306f45\u6b21\u5143)  \n",
      "PCA\u306e\u51fa\u529b\u6b21\u5143\u6570: 10  \n",
      "HMM\u306e\u5165\u529b\u30b7\u30fc\u30b1\u30f3\u30b9\u9577: 20, 40, 60  \n",
      "HMM\u306e\u96a0\u308c\u72b6\u614b\u6570: 5, 10, 15  \n",
      "SVM\u306e\u5165\u529b\u30b7\u30fc\u30b1\u30f3\u30b9\u9577: 20, 40, 60  \n",
      "SVM\u306e\u30ab\u30fc\u30cd\u30eb\u306fRBF, C\u3068gamma\u306f\u30c7\u30d5\u30a9\u30eb\u30c8\u30d1\u30e9\u30e1\u30fc\u30bf\u3092\u4f7f\u7528\n",
      "###SVM\u306e\u5165\u529b\u7279\u5fb4\u91cf\n",
      "SVMhyb: PCA\u51fa\u529b+\u5c24\u5ea6  \n",
      "SVMlik: \u5c24\u5ea6  \n",
      "SVMpca: PCA\u51fa\u529b  \n",
      "SVMmocap: \u30e2\u30fc\u30b7\u30e7\u30f3\u30ad\u30e3\u30d7\u30c1\u30e3\u751f\u30c7\u30fc\u30bf"
     ]
    },
    {
     "cell_type": "code",
     "collapsed": false,
     "input": [
      "import pickle"
     ],
     "language": "python",
     "metadata": {},
     "outputs": [],
     "prompt_number": 1
    },
    {
     "cell_type": "code",
     "collapsed": false,
     "input": [
      "f = open(\"result_Lh20ns10Ls20.dump\", \"rb\")\n",
      "pickle.load(f)"
     ],
     "language": "python",
     "metadata": {},
     "outputs": [
      {
       "metadata": {},
       "output_type": "pyout",
       "prompt_number": 2,
       "text": [
        "{'accuracy_SVMhyb': 0.54620171421862163,\n",
        " 'accuracy_SVMlik': 0.54620171421862163,\n",
        " 'accuracy_SVMmocap': 0.54591239166081051,\n",
        " 'accuracy_SVMpca': 0.54580599812558572,\n",
        " 'accuracy_hmm': 0.18638706654170573,\n",
        " 'dimPCA': 10,\n",
        " 'lenSeq_hmm': 20,\n",
        " 'lenSeq_pca': 3,\n",
        " 'lenSeq_svm': 20,\n",
        " 'n_states': 10}"
       ]
      }
     ],
     "prompt_number": 2
    },
    {
     "cell_type": "code",
     "collapsed": false,
     "input": [
      "accuracy_SVMhyb = []\n",
      "accuracy_SVMlik = []\n",
      "accuracy_SVMpca = []\n",
      "accuracy_SVMmocap = []\n",
      "accuracy_hmm = []\n",
      "lenSeq_hmm = []\n",
      "lenSeq_svm = []\n",
      "n_states = []"
     ],
     "language": "python",
     "metadata": {},
     "outputs": [],
     "prompt_number": 10
    },
    {
     "cell_type": "code",
     "collapsed": false,
     "input": [
      "for Lh in [20, 40, 60]:\n",
      "    for ns in [5, 10, 15]:\n",
      "        for Ls in [20, 40, 60]:\n",
      "            if Lh == 60 and ns == 10 and Ls ==40:\n",
      "                pass\n",
      "            else:\n",
      "                filename = \"result_Lh%dns%dLs%d.dump\" % (Lh, ns, Ls)\n",
      "                f = open(filename, \"rb\")\n",
      "                result = pickle.load(f)\n",
      "                accuracy_SVMhyb.append(result[\"accuracy_SVMhyb\"])\n",
      "                accuracy_SVMlik.append(result[\"accuracy_SVMlik\"])\n",
      "                accuracy_SVMpca.append(result[\"accuracy_SVMpca\"])\n",
      "                accuracy_SVMmocap.append(result[\"accuracy_SVMmocap\"])\n",
      "                accuracy_hmm.append(result[\"accuracy_hmm\"])\n",
      "                lenSeq_hmm.append(result[\"lenSeq_hmm\"])\n",
      "                lenSeq_svm.append(result[\"lenSeq_svm\"])\n",
      "                n_states.append(result[\"n_states\"])"
     ],
     "language": "python",
     "metadata": {},
     "outputs": [],
     "prompt_number": 11
    },
    {
     "cell_type": "code",
     "collapsed": false,
     "input": [
      "bestAc_SVMhyb = max(accuracy_SVMhyb)\n",
      "i_SVMhyb = argmax(accuracy_SVMhyb)\n",
      "print \"SVMhyb: accuracy=%f, lenSeq_hmm=%d, n_states=%d, lenSeq_svm=%d\" % (bestAc_SVMhyb, lenSeq_hmm[i_SVMhyb], n_states[i_SVMhyb], lenSeq_svm[i_SVMhyb], )"
     ],
     "language": "python",
     "metadata": {},
     "outputs": [
      {
       "output_type": "stream",
       "stream": "stdout",
       "text": [
        "SVMhyb: accuracy=0.548779, lenSeq_hmm=20, n_states=5, lenSeq_svm=60\n"
       ]
      }
     ],
     "prompt_number": 15
    },
    {
     "cell_type": "code",
     "collapsed": false,
     "input": [
      "bestAc_SVMlik = max(accuracy_SVMlik)\n",
      "i_SVMlik = argmax(accuracy_SVMlik)\n",
      "print \"SVMlik: accuracy=%f, lenSeq_hmm=%d, n_states=%d, lenSeq_svm=%d\" % (bestAc_SVMlik, lenSeq_hmm[i_SVMlik], n_states[i_SVMlik], lenSeq_svm[i_SVMlik])"
     ],
     "language": "python",
     "metadata": {},
     "outputs": [
      {
       "output_type": "stream",
       "stream": "stdout",
       "text": [
        "SVMlik: accuracy=0.548779, lenSeq_hmm=20, n_states=5, lenSeq_svm=60\n"
       ]
      }
     ],
     "prompt_number": 16
    },
    {
     "cell_type": "code",
     "collapsed": false,
     "input": [
      "bestAc_SVMpca = max(accuracy_SVMpca)\n",
      "i_SVMpca = argmax(accuracy_SVMpca)\n",
      "print \"SVMpca: accuracy=%f, lenSeq_svm=%d\" % (bestAc_SVMpca, lenSeq_svm[i_SVMpca])"
     ],
     "language": "python",
     "metadata": {},
     "outputs": [
      {
       "output_type": "stream",
       "stream": "stdout",
       "text": [
        "SVMpca: accuracy=0.547552, lenSeq_svm=60\n"
       ]
      }
     ],
     "prompt_number": 21
    },
    {
     "cell_type": "code",
     "collapsed": false,
     "input": [
      "bestAc_SVMmocap = max(accuracy_SVMmocap)\n",
      "i_SVMmocap = argmax(accuracy_SVMmocap)\n",
      "print \"SVMmocap: accuracy=%f, lenSeq_svm=%d\" % (bestAc_SVMmocap,  lenSeq_svm[i_SVMmocap])"
     ],
     "language": "python",
     "metadata": {},
     "outputs": [
      {
       "output_type": "stream",
       "stream": "stdout",
       "text": [
        "SVMmocap: accuracy=0.547423, lenSeq_svm=60\n"
       ]
      }
     ],
     "prompt_number": 23
    },
    {
     "cell_type": "code",
     "collapsed": false,
     "input": [
      "bestAc_hmm = max(accuracy_hmm)\n",
      "i_hmm = argmax(accuracy_hmm)\n",
      "print \"HMM: accuracy=%f, lenSeq_hmm=%d, n_states=%d\" % (bestAc_hmm, lenSeq_hmm[i_hmm], n_states[i_hmm])"
     ],
     "language": "python",
     "metadata": {},
     "outputs": [
      {
       "output_type": "stream",
       "stream": "stdout",
       "text": [
        "HMM: accuracy=0.311323, lenSeq_hmm=60, n_states=5\n"
       ]
      }
     ],
     "prompt_number": 24
    },
    {
     "cell_type": "code",
     "collapsed": false,
     "input": [],
     "language": "python",
     "metadata": {},
     "outputs": []
    }
   ],
   "metadata": {}
  }
 ]
}