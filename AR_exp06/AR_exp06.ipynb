{
 "metadata": {
  "name": "",
  "signature": "sha256:f94fde1f279ba327ee597a17c683b737f22945eb2df0ba8317a15bc99e08a168"
 },
 "nbformat": 3,
 "nbformat_minor": 0,
 "worksheets": [
  {
   "cells": [
    {
     "cell_type": "markdown",
     "metadata": {},
     "source": [
      "#\u5b9f\u9a136\n",
      "##PCA\u306b\u3088\u308a\u6b21\u5143\u524a\u6e1b\u2192\u30ac\u30a6\u30b7\u30a2\u30f3HMM\u306b\u3088\u308a\u5c24\u5ea6\u8a08\u7b97\u2192SVM\u306b\u3088\u308a\u884c\u52d5\u5206\u985e"
     ]
    },
    {
     "cell_type": "code",
     "collapsed": false,
     "input": [
      "import numpy as np\n",
      "from sklearn.decomposition import PCA\n",
      "from sklearn.hmm import GaussianHMM\n",
      "from sklearn import svm, preprocessing\n",
      "from sklearn.metrics import accuracy_score\n",
      "import csv\n",
      "import pickle"
     ],
     "language": "python",
     "metadata": {},
     "outputs": [],
     "prompt_number": 56
    },
    {
     "cell_type": "markdown",
     "metadata": {},
     "source": [
      "###\u524d\u51e6\u7406\n",
      "\u5b66\u7fd2\u30c7\u30fc\u30bf"
     ]
    },
    {
     "cell_type": "code",
     "collapsed": false,
     "input": [
      "### \u5b66\u7fd2\u30c7\u30fc\u30bf\n",
      "# BVH\u306e\u8aad\u307f\u8fbc\u307f\n",
      "mocap_train = np.genfromtxt('../../tum_kitchen_dataset/poses_train.bvh', delimiter=\" \")\n",
      "#print data\n",
      "print mocap_train.shape"
     ],
     "language": "python",
     "metadata": {},
     "outputs": [
      {
       "output_type": "stream",
       "stream": "stdout",
       "text": [
        "(26059, 87)\n"
       ]
      }
     ],
     "prompt_number": 4
    },
    {
     "cell_type": "code",
     "collapsed": false,
     "input": [
      "# \u5b66\u7fd2\u30e9\u30d9\u30eb\u30c7\u30fc\u30bf\u306e\u8aad\u307f\u8fbc\u307f\n",
      "f_train = open('../../tum_kitchen_dataset/labels_train.csv')\n",
      "reader_train = csv.reader(f_train)\n",
      "\n",
      "labels_train_str = []\n",
      "\n",
      "# lefthand\u306e\u5217\u3092labels\u306b\u62bd\u51fa\n",
      "for row in reader_train:\n",
      "    #print row\n",
      "    if row[0] == 'instance':\n",
      "        pass\n",
      "    else:\n",
      "        labels_train_str.append(row[1])\n",
      "\n",
      "print labels_train_str[::2000]\n",
      "print len(labels_train_str)"
     ],
     "language": "python",
     "metadata": {},
     "outputs": [
      {
       "output_type": "stream",
       "stream": "stdout",
       "text": [
        "['CarryingWhileLocomoting', 'OpeningADrawer', 'Reaching', 'CarryingWhileLocomoting', 'TakingSomething', 'ClosingADrawer', 'CarryingWhileLocomoting', 'CarryingWhileLocomoting', 'CarryingWhileLocomoting', 'CarryingWhileLocomoting', 'ClosingADoor', 'CarryingWhileLocomoting', 'CarryingWhileLocomoting', 'CarryingWhileLocomoting']\n",
        "26059\n"
       ]
      }
     ],
     "prompt_number": 5
    },
    {
     "cell_type": "code",
     "collapsed": false,
     "input": [
      "# \u5b66\u7fd2\u30e9\u30d9\u30eb\u30c7\u30fc\u30bf\u306e\u6570\u5024\u3078\u306e\u5909\u63db\n",
      "# from sklearn import preprocessing\n",
      "le = preprocessing.LabelEncoder()\n",
      "\n",
      "le.fit(labels_train_str)\n",
      "\n",
      "print le.classes_, len(le.classes_)\n",
      "\n",
      "labels_train = le.transform(labels_train_str)\n",
      "print labels_train[::1000], len(labels_train)"
     ],
     "language": "python",
     "metadata": {},
     "outputs": [
      {
       "output_type": "stream",
       "stream": "stdout",
       "text": [
        "['CarryingWhileLocomoting' 'ClosingADoor' 'ClosingADrawer'\n",
        " 'LoweringAnObject' 'OpeningADoor' 'OpeningADrawer' 'Reaching'\n",
        " 'ReleasingGraspOfSomething' 'TakingSomething'] 9\n",
        "[0 0 5 0 6 7 0 0 8 0 2 0 0 4 0 0 0 5 0 2 1 7 0 8 0 7 0] 26059\n"
       ]
      }
     ],
     "prompt_number": 6
    },
    {
     "cell_type": "code",
     "collapsed": false,
     "input": [
      "lefthand_mocap_train = mocap_train[:, 40:55]\n",
      "lefthand_mocap_train.shape"
     ],
     "language": "python",
     "metadata": {},
     "outputs": [
      {
       "metadata": {},
       "output_type": "pyout",
       "prompt_number": 7,
       "text": [
        "(26059, 15)"
       ]
      }
     ],
     "prompt_number": 7
    },
    {
     "cell_type": "markdown",
     "metadata": {},
     "source": [
      "\u30c6\u30b9\u30c8\u30c7\u30fc\u30bf"
     ]
    },
    {
     "cell_type": "code",
     "collapsed": false,
     "input": [
      "mocap_test = np.genfromtxt('../../tum_kitchen_dataset/poses_test.bvh', delimiter=\" \")\n",
      "mocap_test.shape"
     ],
     "language": "python",
     "metadata": {},
     "outputs": [
      {
       "metadata": {},
       "output_type": "pyout",
       "prompt_number": 59,
       "text": [
        "(8557, 87)"
       ]
      }
     ],
     "prompt_number": 59
    },
    {
     "cell_type": "code",
     "collapsed": false,
     "input": [
      "lefthand_mocap_test = mocap_test[:, 40:55]\n",
      "lefthand_mocap_test.shape"
     ],
     "language": "python",
     "metadata": {},
     "outputs": [
      {
       "metadata": {},
       "output_type": "pyout",
       "prompt_number": 60,
       "text": [
        "(8557, 15)"
       ]
      }
     ],
     "prompt_number": 60
    },
    {
     "cell_type": "code",
     "collapsed": false,
     "input": [
      "# \u5de6\u8155\u306emocap\u306e\u5b66\u7fd2\u3001\u30c6\u30b9\u30c8\u30c7\u30fc\u30bf\u3092\u30b7\u30ea\u30a2\u30e9\u30a4\u30ba\n",
      "pickle.dump(lefthand_mocap_train, open(\"lefthand_mocap_train\", \"wb\"))\n",
      "pickle.dump(lefthand_mocap_test, open(\"lefthand_mocap_test\", \"wb\"))"
     ],
     "language": "python",
     "metadata": {},
     "outputs": [],
     "prompt_number": 65
    },
    {
     "cell_type": "markdown",
     "metadata": {},
     "source": [
      "###PCA\u306b\u3088\u308a\u30e2\u30fc\u30b7\u30e7\u30f3\u30ad\u30e3\u30d7\u30c1\u30e3\u751f\u30c7\u30fc\u30bf\u3092\u6b21\u5143\u524a\u6e1b"
     ]
    },
    {
     "cell_type": "markdown",
     "metadata": {},
     "source": [
      "\u5b66\u7fd2\u30c7\u30fc\u30bf\u3092\u6b21\u5143\u524a\u6e1b"
     ]
    },
    {
     "cell_type": "code",
     "collapsed": false,
     "input": [
      "len_anglevec = lefthand_mocap_train.shape[1]\n",
      "window_length = 3\n",
      "features_pca_train = np.empty((len(lefthand_mocap_train)-(window_length-1), len_anglevec*window_length))\n",
      "\n",
      "for i in xrange(window_length-1, len(lefthand_mocap_train)):\n",
      "    feature_reshaped = np.reshape(lefthand_mocap_train[i-(window_length-1):i+1, :], (1, len_anglevec*window_length))\n",
      "    features_pca_train[i-(window_length-1), :] = feature_reshaped\n",
      "\n",
      "print features_pca_train.shape"
     ],
     "language": "python",
     "metadata": {},
     "outputs": [
      {
       "output_type": "stream",
       "stream": "stdout",
       "text": [
        "(26057, 45)\n",
        "(26057,)\n"
       ]
      }
     ],
     "prompt_number": 8
    },
    {
     "cell_type": "markdown",
     "metadata": {},
     "source": [
      "\u30c6\u30b9\u30c8\u30c7\u30fc\u30bf\u3092\u6b21\u5143\u524a\u6e1b"
     ]
    },
    {
     "cell_type": "code",
     "collapsed": false,
     "input": [
      "features_pca_test = np.empty((len(lefthand_mocap_test)-(window_length-1), len_anglevec*window_length))\n",
      "\n",
      "for i in xrange(window_length-1, len(lefthand_mocap_test)):\n",
      "    feature_reshaped = np.reshape(lefthand_mocap_test[i-(window_length-1):i+1, :], (1, len_anglevec*window_length))\n",
      "    features_pca_test[i-(window_length-1), :] = feature_reshaped\n",
      "\n",
      "print features_pca_test.shape"
     ],
     "language": "python",
     "metadata": {},
     "outputs": [
      {
       "output_type": "stream",
       "stream": "stdout",
       "text": [
        "(8555, 45)\n"
       ]
      }
     ],
     "prompt_number": 61
    },
    {
     "cell_type": "code",
     "collapsed": false,
     "input": [
      "# \u7dda\u5f62PCA\u306e\u30e2\u30c7\u30eb\u5b9a\u7fa9\n",
      "pca = PCA(n_components=5)"
     ],
     "language": "python",
     "metadata": {},
     "outputs": [],
     "prompt_number": 9
    },
    {
     "cell_type": "code",
     "collapsed": false,
     "input": [
      "# \u7dda\u5f62PCA\u306e\u5b66\u7fd2\u3068\u5909\u63db\n",
      "lefthand_pca_train = pca.fit_transform(features_pca_train)\n",
      "lefthand_pca_test = pca.fit_transform(features_pca_test)"
     ],
     "language": "python",
     "metadata": {},
     "outputs": [],
     "prompt_number": 63
    },
    {
     "cell_type": "code",
     "collapsed": false,
     "input": [
      "print lefthand_pca_train.shape, lefthand_pca_test.shape"
     ],
     "language": "python",
     "metadata": {},
     "outputs": [
      {
       "output_type": "stream",
       "stream": "stdout",
       "text": [
        "(26057, 5) (8555, 5)\n"
       ]
      }
     ],
     "prompt_number": 64
    },
    {
     "cell_type": "code",
     "collapsed": false,
     "input": [
      "lenSeq = 30\n",
      "\n",
      "# features\u306e\u9577\u3055\u306b\u5408\u308f\u305b\u308b\u305f\u3081\u306b\u30e9\u30d9\u30eb\u5217\u306e\u524d9\u500b\u3092\u6d88\u53bb\n",
      "labels_pca_train = labels_train[lenSeq+window_length-2:]\n",
      "print labels_pca_train.shape"
     ],
     "language": "python",
     "metadata": {},
     "outputs": [
      {
       "output_type": "stream",
       "stream": "stdout",
       "text": [
        "(26028,)\n"
       ]
      }
     ],
     "prompt_number": 22
    },
    {
     "cell_type": "markdown",
     "metadata": {},
     "source": [
      "###\u5404\u884c\u52d5\u3054\u3068\u306b\u30ac\u30a6\u30b7\u30a2\u30f3HMM\u3092\u3064\u304f\u308a\u5c24\u5ea6\u3092\u8a08\u7b97\n",
      "pcaSeq\u306f\u5404\u884c\u52d5\u3054\u3068\u306e\u5b66\u7fd2\u5217\u96c6\u5408\u3092\u4e26\u3079\u305f\u30ea\u30b9\u30c8"
     ]
    },
    {
     "cell_type": "code",
     "collapsed": false,
     "input": [
      "# \u6b21\u5143\u524a\u6e1b\u3057\u305fMocap\u7cfb\u5217\u3092lenSeq\u306e\u9577\u3055\u306b\u5206\u5272\n",
      "\n",
      "# \u5404\u884c\u52d5\u6bce\u306e\u5b66\u7fd2\u30c7\u30fc\u30bf\u4fdd\u5b58\u7528\u30ea\u30b9\u30c8\n",
      "pcaSeq = [[], [], [], [], [], [], [], [], []]\n",
      "# for i in range(len(posSeq)):\n",
      "#     posSeq[i] = \n",
      "\n",
      "for i in range(lefthand_pca_train.shape[0]-(lenSeq-1)):\n",
      "    seq = lefthand_pca_train[i:i+lenSeq, :]\n",
      "#     if pcaSeq[labels_pca_train[i]] == None: # \u5bfe\u5fdc\u3059\u308b\u884c\u52d5\u30e9\u30d9\u30eb\u304cNone\u306a\u3089\u305d\u306e\u307e\u307e\u4ee3\u5165\n",
      "#         pcaSeq[labels_pca_train[i]].append(seq)\n",
      "#     else:\n",
      "    pcaSeq[labels_pca_train[i]].append(seq) # \u884c\u65b9\u5411\u306b\u30b7\u30fc\u30b1\u30f3\u30b9\u3092\u7d50\u5408"
     ],
     "language": "python",
     "metadata": {},
     "outputs": [],
     "prompt_number": 66
    },
    {
     "cell_type": "code",
     "collapsed": false,
     "input": [
      "# pcaSeq\u304c\u6b63\u3057\u304f\u3064\u304f\u308c\u3066\u3044\u308b\u304b\u78ba\u8a8d\n",
      "count_pcaSeq = 0\n",
      "for i in range(9):\n",
      "    print len(pcaSeq[i])\n",
      "    count_pcaSeq += len(pcaSeq[i])\n",
      "print pcaSeq[3][100].shape, count_pcaSeq"
     ],
     "language": "python",
     "metadata": {},
     "outputs": [
      {
       "output_type": "stream",
       "stream": "stdout",
       "text": [
        "14514\n",
        "1156\n",
        "1015\n",
        "1070\n",
        "1686\n",
        "1255\n",
        "2264\n",
        "2206\n",
        "862\n",
        "(30, 5) 26028\n"
       ]
      }
     ],
     "prompt_number": 45
    },
    {
     "cell_type": "code",
     "collapsed": false,
     "input": [
      "ghmm = GaussianHMM(n_components=3)\n",
      "ghmm.fit(pcaSeq[0])"
     ],
     "language": "python",
     "metadata": {},
     "outputs": [
      {
       "metadata": {},
       "output_type": "pyout",
       "prompt_number": 53,
       "text": [
        "GaussianHMM(algorithm='viterbi', covariance_type='diag', covars_prior=0.01,\n",
        "      covars_weight=1,\n",
        "      init_params='abcdefghijklmnopqrstuvwxyzABCDEFGHIJKLMNOPQRSTUVWXYZ',\n",
        "      means_prior=None, means_weight=0, n_components=3, n_iter=10,\n",
        "      params='abcdefghijklmnopqrstuvwxyzABCDEFGHIJKLMNOPQRSTUVWXYZ',\n",
        "      random_state=None, startprob=None, startprob_prior=1.0, thresh=0.01,\n",
        "      transmat=None, transmat_prior=1.0)"
       ]
      }
     ],
     "prompt_number": 53
    },
    {
     "cell_type": "code",
     "collapsed": false,
     "input": [
      "hidden_states = ghmm.predict(pcaSeq[5][34])\n",
      "print hidden_states"
     ],
     "language": "python",
     "metadata": {},
     "outputs": [
      {
       "output_type": "stream",
       "stream": "stdout",
       "text": [
        "[2 2 2 2 2 2 2 2 2 2 2 2 2 2 2 2 2 2 2 2 2 2 2 2 2 2 2 2 2 2]\n"
       ]
      }
     ],
     "prompt_number": 54
    },
    {
     "cell_type": "code",
     "collapsed": false,
     "input": [
      "print ghmm.score(pcaSeq[5][45])"
     ],
     "language": "python",
     "metadata": {},
     "outputs": [
      {
       "output_type": "stream",
       "stream": "stdout",
       "text": [
        "-717.907209083\n"
       ]
      }
     ],
     "prompt_number": 55
    },
    {
     "cell_type": "markdown",
     "metadata": {},
     "source": [
      "###HMM\u306e\u5c24\u5ea6\u3092\u7279\u5fb4\u3068\u3057\u305fSVM\u3067\u884c\u52d5\u5206\u985e"
     ]
    },
    {
     "cell_type": "code",
     "collapsed": false,
     "input": [],
     "language": "python",
     "metadata": {},
     "outputs": []
    }
   ],
   "metadata": {}
  }
 ]
}