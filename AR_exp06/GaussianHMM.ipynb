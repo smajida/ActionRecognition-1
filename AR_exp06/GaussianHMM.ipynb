{
 "metadata": {
  "name": "",
  "signature": "sha256:9a3528528fdec2a1fd06dee5bf1c7e1b5324a2fb9666c3811d7f1ce104984b1c"
 },
 "nbformat": 3,
 "nbformat_minor": 0,
 "worksheets": [
  {
   "cells": [
    {
     "cell_type": "markdown",
     "metadata": {},
     "source": [
      "sklearn.hmm.GaussianHMM\u306e\u30c6\u30b9\u30c8"
     ]
    },
    {
     "cell_type": "code",
     "collapsed": false,
     "input": [
      "import numpy as np\n",
      "from sklearn.hmm import GaussianHMM"
     ],
     "language": "python",
     "metadata": {},
     "outputs": [],
     "prompt_number": 2
    },
    {
     "cell_type": "code",
     "collapsed": false,
     "input": [
      "model = GaussianHMM(n_components=2)"
     ],
     "language": "python",
     "metadata": {},
     "outputs": [],
     "prompt_number": 5
    },
    {
     "cell_type": "code",
     "collapsed": false,
     "input": [
      "a = np.array([[10.2, 239.4, 59.4], [10.4, 230.0, 55.4], [10.5, 234.4, 55.7], [8.4, 250.0, 52.0]])\n",
      "b = np.array([[10.3, 240.6, 56.4], [10.7, 235.0, 55.4], [10.5, 237.4, 55.5], [8.9, 260.0, 55.0]])\n",
      "c = np.array([[10.8, 249.4, 52.4], [11.4, 220.0, 54.4], [10.0, 233.4, 58.7], [9.4, 251.0, 51.0]])"
     ],
     "language": "python",
     "metadata": {},
     "outputs": [],
     "prompt_number": 9
    },
    {
     "cell_type": "code",
     "collapsed": false,
     "input": [
      "X = [a, b, c, a, a]"
     ],
     "language": "python",
     "metadata": {},
     "outputs": [],
     "prompt_number": 10
    },
    {
     "cell_type": "code",
     "collapsed": false,
     "input": [
      "model.fit(X)"
     ],
     "language": "python",
     "metadata": {},
     "outputs": [
      {
       "metadata": {},
       "output_type": "pyout",
       "prompt_number": 14,
       "text": [
        "GaussianHMM(algorithm='viterbi', covariance_type='diag', covars_prior=0.01,\n",
        "      covars_weight=1,\n",
        "      init_params='abcdefghijklmnopqrstuvwxyzABCDEFGHIJKLMNOPQRSTUVWXYZ',\n",
        "      means_prior=None, means_weight=0, n_components=2, n_iter=10,\n",
        "      params='abcdefghijklmnopqrstuvwxyzABCDEFGHIJKLMNOPQRSTUVWXYZ',\n",
        "      random_state=None, startprob=None, startprob_prior=1.0, thresh=0.01,\n",
        "      transmat=None, transmat_prior=1.0)"
       ]
      }
     ],
     "prompt_number": 14
    },
    {
     "cell_type": "code",
     "collapsed": false,
     "input": [
      "print model.predict(a)"
     ],
     "language": "python",
     "metadata": {},
     "outputs": [
      {
       "output_type": "stream",
       "stream": "stdout",
       "text": [
        "[0 1 0 1]\n"
       ]
      }
     ],
     "prompt_number": 15
    },
    {
     "cell_type": "code",
     "collapsed": false,
     "input": [
      "print model.score(a)"
     ],
     "language": "python",
     "metadata": {},
     "outputs": [
      {
       "output_type": "stream",
       "stream": "stdout",
       "text": [
        "-23.1053050398\n"
       ]
      }
     ],
     "prompt_number": 16
    },
    {
     "cell_type": "code",
     "collapsed": false,
     "input": [
      "print np.vstack((a,b)).shape"
     ],
     "language": "python",
     "metadata": {},
     "outputs": [
      {
       "output_type": "stream",
       "stream": "stdout",
       "text": [
        "(8, 3)\n"
       ]
      }
     ],
     "prompt_number": 20
    },
    {
     "cell_type": "code",
     "collapsed": false,
     "input": [],
     "language": "python",
     "metadata": {},
     "outputs": []
    }
   ],
   "metadata": {}
  }
 ]
}