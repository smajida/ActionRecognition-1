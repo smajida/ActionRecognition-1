{
 "metadata": {
  "name": "",
  "signature": "sha256:539bdde618cb87f1fbd5013c7773f910083687c84eb5e05aa1e84db6f4dc3024"
 },
 "nbformat": 3,
 "nbformat_minor": 0,
 "worksheets": [
  {
   "cells": [
    {
     "cell_type": "markdown",
     "metadata": {},
     "source": [
      "#PCA\u51fa\u529b+\u5c24\u5ea6\u3092\u7279\u5fb4\u91cf\u3068\u3057\u305fSVM"
     ]
    },
    {
     "cell_type": "code",
     "collapsed": false,
     "input": [
      "# coding: utf-8\n",
      "# \u7dda\u5f62PCA\u3067\u6b21\u5143\u524a\u6e1b\u2192\u30ac\u30a6\u30b7\u30a2\u30f3HMM\u3067\u5c24\u5ea6\u8a08\u7b97\u2192\u5c24\u5ea6\u3092\u7279\u5fb4\u3068\u3057\u3066SVM(RBF\u30ab\u30fc\u30cd\u30eb)\n",
      "# \u30d1\u30e9\u30e1\u30fc\u30bf\u306flenSeq_hmm,n_states,lenSeq_svm\u4ee5\u5916\u56fa\u5b9a\n",
      "\n",
      "import numpy as np\n",
      "from sklearn import svm\n",
      "from sklearn.hmm import GaussianHMM\n",
      "from sklearn.decomposition import PCA\n",
      "from sklearn.metrics import accuracy_score\n",
      "import sys\n",
      "import pickle"
     ],
     "language": "python",
     "metadata": {},
     "outputs": [],
     "prompt_number": 1
    },
    {
     "cell_type": "code",
     "collapsed": false,
     "input": [
      "#\u5f15\u6570\u306e\u53d6\u5f97\n",
      "argvs = sys.argv\n",
      "N_LABEL = 9\n",
      "lenSeq_pca = 3\n",
      "dimPCA = 10\n",
      "lenSeq_hmm = 10\n",
      "n_states = 3\n",
      "lenSeq_svm = 10"
     ],
     "language": "python",
     "metadata": {},
     "outputs": [],
     "prompt_number": 2
    },
    {
     "cell_type": "code",
     "collapsed": false,
     "input": [
      "#\u30b9\u30e9\u30a4\u30c7\u30a3\u30f3\u30b0\u30a6\u30a3\u30f3\u30c9\u30a6\u95a2\u6570\n",
      "def slidingWindow(X, L):\n",
      "    # print \"input shape:\", X.shape\n",
      "    dimFeature = X.shape[1]\n",
      "    features = np.empty((X.shape[0]-(L-1), dimFeature*L))\n",
      "    for i in xrange(L-1, X.shape[0]):\n",
      "        feature_reshaped = np.reshape(X[i-(L-1):i+1, :], (1, dimFeature*L))\n",
      "        features[i-(L-1), :] = feature_reshaped\n",
      "    # print \"output shape:\", features.shape\n",
      "    \n",
      "    return features"
     ],
     "language": "python",
     "metadata": {},
     "outputs": [],
     "prompt_number": 3
    },
    {
     "cell_type": "markdown",
     "metadata": {},
     "source": [
      "##PCA"
     ]
    },
    {
     "cell_type": "code",
     "collapsed": false,
     "input": [
      "# \u30c7\u30fc\u30bf\u306e\u8aad\u307f\u8fbc\u307f\n",
      "lefthand_mocap_train = pickle.load(open(\"../TUMKitchenDataset/lefthand_mocap_train\", \"rb\"))\n",
      "lefthand_mocap_test = pickle.load(open(\"../TUMKitchenDataset/lefthand_mocap_test\", \"rb\"))\n",
      "labels_train = pickle.load(open(\"../TUMKitchenDataset/labels_train.dump\", \"rb\"))\n",
      "labels_test = pickle.load(open(\"../TUMKitchenDataset/labels_test.dump\", \"rb\"))\n",
      "\n",
      "# \u5b66\u7fd2\u30c7\u30fc\u30bf\u3001\u30c6\u30b9\u30c8\u30c7\u30fc\u30bf\u305d\u308c\u305e\u308c\u306b\u3064\u3044\u3066PCA\u306e\u5165\u529b(\u8907\u6570\u30d5\u30ec\u30fc\u30e0)\u3092\u3064\u304f\u308b\n",
      "## \u5b66\u7fd2\u30c7\u30fc\u30bf\u306ePCA\u5165\u529b\n",
      "features_pca_train = slidingWindow(lefthand_mocap_train, L=lenSeq_pca)\n",
      "\n",
      "# ## \u30c6\u30b9\u30c8\u30c7\u30fc\u30bf\u306ePCA\u5165\u529b\n",
      "features_pca_test = slidingWindow(lefthand_mocap_test, L=lenSeq_pca)\n",
      "\n",
      "# \u7dda\u5f62PCA\u3067\u5b66\u7fd2\u30c7\u30fc\u30bf\u3001\u30c6\u30b9\u30c8\u30c7\u30fc\u30bf\u306emocap\u3092\u6b21\u5143\u5727\u7e2e\n",
      "pca = PCA(n_components=dimPCA) # n_components: \u5727\u7e2e\u3059\u308b\u6b21\u5143\u6570\n",
      "## \u7dda\u5f62PCA\u306e\u5b66\u7fd2\u3068\u5909\u63db\n",
      "lefthand_pca_train = pca.fit_transform(features_pca_train)\n",
      "lefthand_pca_test = pca.fit_transform(features_pca_test)\n",
      "\n",
      "# \u30e9\u30d9\u30eb\u5217\u306e\u9577\u3055\u3092\u305d\u308d\u3048\u308b\n",
      "labels_pca_train = labels_train[lenSeq_hmm+lenSeq_pca-2:]\n",
      "labels_pca_test = labels_test[lenSeq_hmm+lenSeq_pca-2:]"
     ],
     "language": "python",
     "metadata": {},
     "outputs": [],
     "prompt_number": 4
    },
    {
     "cell_type": "code",
     "collapsed": false,
     "input": [
      "print lefthand_pca_train.shape, lefthand_pca_test.shape"
     ],
     "language": "python",
     "metadata": {},
     "outputs": [
      {
       "output_type": "stream",
       "stream": "stdout",
       "text": [
        "(26057, 10) (8555, 10)\n"
       ]
      }
     ],
     "prompt_number": 5
    },
    {
     "cell_type": "code",
     "collapsed": false,
     "input": [
      "print lefthand_mocap_train.shape, lefthand_mocap_test.shape\n",
      "print len(labels_pca_train), len(labels_pca_test)"
     ],
     "language": "python",
     "metadata": {},
     "outputs": [
      {
       "output_type": "stream",
       "stream": "stdout",
       "text": [
        "(26059, 15) (8557, 15)\n",
        "26048 8546\n"
       ]
      }
     ],
     "prompt_number": 6
    },
    {
     "cell_type": "markdown",
     "metadata": {},
     "source": [
      "##HMM"
     ]
    },
    {
     "cell_type": "code",
     "collapsed": false,
     "input": [
      "# \u6b21\u5143\u524a\u6e1b\u3057\u305fMocap\u7cfb\u5217\u3092lenSeq_hmm\u306e\u9577\u3055\u306b\u5206\u5272\n",
      "pcaSeq_train = [[], [], [], [], [], [], [], [], []] # \u3082\u3063\u3068\u7dba\u9e97\u306b\u66f8\u304f\n",
      "for t in range(lefthand_pca_train.shape[0]-(lenSeq_hmm-1)):\n",
      "    seq = lefthand_pca_train[t:t+lenSeq_hmm, :]\n",
      "    pcaSeq_train[labels_pca_train[t]].append(seq)\n",
      "\n",
      "pcaSeq_test = [] # \u3082\u3063\u3068\u7dba\u9e97\u306b\u66f8\u304f\n",
      "for t in range(lefthand_pca_test.shape[0]-(lenSeq_hmm-1)):\n",
      "    seq = lefthand_pca_test[t:t+lenSeq_hmm, :]\n",
      "    pcaSeq_test.append(seq)\n",
      "# print len(pcaSeq_test)\n",
      "\n",
      "# \u5404\u884c\u52d5\u3054\u3068\u306bGaussianHMM\u3092\u3064\u304f\u308a\u30ea\u30b9\u30c8\u306b\u683c\u7d0d\u3057\u5b66\u7fd2\n",
      "print \"training HMM...\"\n",
      "list_ghmm = []\n",
      "for i in range(N_LABEL):\n",
      "\tlist_ghmm.append(GaussianHMM(n_components=n_states)) #n_components: \u96a0\u308c\u72b6\u614b\u6570\n",
      "\tlist_ghmm[i].fit(pcaSeq_train[i])\n",
      "\n",
      "lik_train = np.empty((lefthand_pca_train.shape[0]-(lenSeq_hmm-1), N_LABEL)) # \u5b66\u7fd2\u30c7\u30fc\u30bf\u5c24\u5ea6\u884c\u5217\n",
      "lik_test = np.empty((len(pcaSeq_test), N_LABEL)) # \u30c6\u30b9\u30c8\u30c7\u30fc\u30bf\u5c24\u5ea6\u884c\u5217\n",
      "# print lik_test.shape, lik_train.shape\n",
      "\n",
      "# \u5b66\u7fd2\u5f8c\u306eHMM\u306b\u3088\u308a\u5c24\u5ea6\u8a08\u7b97\n",
      "print \"computing likelihood...\"\n",
      "for i in range(N_LABEL): # \u3069\u306eHMM\u3092\u4f7f\u3046\u304b\n",
      "\t#\u5b66\u7fd2\u30c7\u30fc\u30bf\n",
      "\tcountT = 0\n",
      "\tlabels_lik_train = [] # \u5b66\u7fd2\u7528\u5c24\u5ea6\u5217\u30e9\u30d9\u30eb\n",
      "\tfor ii in range(N_LABEL): # \u5b66\u7fd2\u7528\u306e\u5404\u7cfb\u5217\u306e\u6700\u5f8c\u306e\u30e9\u30d9\u30eb\u304c\u3069\u308c\u304b\n",
      "\t\tfor t_train in range(len(pcaSeq_train[ii])):\n",
      "\t\t\tlik_train[countT, i] = list_ghmm[i].score(pcaSeq_train[ii][t_train]) ##\u2190\u304a\u304b\u3057\u3044??\n",
      "\t\t\tlabels_lik_train.append(ii)\n",
      "\t\t\tcountT += 1\n",
      "\t# \u30c6\u30b9\u30c8\u30c7\u30fc\u30bf\n",
      "\tfor t_test in range(len(pcaSeq_test)):\n",
      "\t\tlik_test[t_test, i] = list_ghmm[i].score(pcaSeq_test[t_test])\n",
      "\n",
      "\n",
      "# HMM\u306eaccuracy\u3092\u8a08\u7b97\n",
      "labels_predicted_hmm = np.zeros(len(lik_test))\n",
      "#\u5c24\u5ea6\u6700\u5927\u306e\u3082\u306e\u3092\u63a8\u5b9a\u3068\u3059\u308b\n",
      "for t in range(lik_test.shape[0]):\n",
      "\tlik_test[t] = np.argmax(lik_test[t])\n",
      "\taccuracy_hmm = accuracy_score(labels_predicted_hmm, labels_pca_test)\n",
      "print \"HMM accuracy=%f\" % accuracy_hmm"
     ],
     "language": "python",
     "metadata": {},
     "outputs": [
      {
       "output_type": "stream",
       "stream": "stdout",
       "text": [
        "training HMM...\n",
        "computing likelihood..."
       ]
      },
      {
       "output_type": "stream",
       "stream": "stdout",
       "text": [
        "\n"
       ]
      },
      {
       "ename": "NameError",
       "evalue": "name 'laels_pca_test' is not defined",
       "output_type": "pyerr",
       "traceback": [
        "\u001b[0;31m---------------------------------------------------------------------------\u001b[0m\n\u001b[0;31mNameError\u001b[0m                                 Traceback (most recent call last)",
        "\u001b[0;32m<ipython-input-7-132d41d5effe>\u001b[0m in \u001b[0;36m<module>\u001b[0;34m()\u001b[0m\n\u001b[1;32m     43\u001b[0m \u001b[0;32mfor\u001b[0m \u001b[0mt\u001b[0m \u001b[0;32min\u001b[0m \u001b[0mrange\u001b[0m\u001b[0;34m(\u001b[0m\u001b[0mlik_test\u001b[0m\u001b[0;34m.\u001b[0m\u001b[0mshape\u001b[0m\u001b[0;34m[\u001b[0m\u001b[0;36m0\u001b[0m\u001b[0;34m]\u001b[0m\u001b[0;34m)\u001b[0m\u001b[0;34m:\u001b[0m\u001b[0;34m\u001b[0m\u001b[0m\n\u001b[1;32m     44\u001b[0m         \u001b[0mlik_test\u001b[0m\u001b[0;34m[\u001b[0m\u001b[0mt\u001b[0m\u001b[0;34m]\u001b[0m \u001b[0;34m=\u001b[0m \u001b[0mnp\u001b[0m\u001b[0;34m.\u001b[0m\u001b[0margmax\u001b[0m\u001b[0;34m(\u001b[0m\u001b[0mlik_test\u001b[0m\u001b[0;34m[\u001b[0m\u001b[0mt\u001b[0m\u001b[0;34m]\u001b[0m\u001b[0;34m)\u001b[0m\u001b[0;34m\u001b[0m\u001b[0m\n\u001b[0;32m---> 45\u001b[0;31m         \u001b[0maccuracy_hmm\u001b[0m \u001b[0;34m=\u001b[0m \u001b[0maccuracy_score\u001b[0m\u001b[0;34m(\u001b[0m\u001b[0mlabels_predicted_hmm\u001b[0m\u001b[0;34m,\u001b[0m \u001b[0mlaels_pca_test\u001b[0m\u001b[0;34m)\u001b[0m\u001b[0;34m\u001b[0m\u001b[0m\n\u001b[0m\u001b[1;32m     46\u001b[0m \u001b[0;32mprint\u001b[0m \u001b[0;34m\"HMM accuracy=%f\"\u001b[0m \u001b[0;34m%\u001b[0m \u001b[0maccuracy_hmm\u001b[0m\u001b[0;34m\u001b[0m\u001b[0m\n",
        "\u001b[0;31mNameError\u001b[0m: name 'laels_pca_test' is not defined"
       ]
      }
     ],
     "prompt_number": 7
    },
    {
     "cell_type": "code",
     "collapsed": false,
     "input": [
      "#\u5c24\u5ea6\u6700\u5927\u306e\u3082\u306e\u3092\u63a8\u5b9a\u3068\u3059\u308b\n",
      "for t in range(lik_test.shape[0]):\n",
      "\tlik_test[t] = np.argmax(lik_test[t])\n",
      "\taccuracy_hmm = accuracy_score(labels_predicted_hmm, labels_pca_test)\n",
      "print \"HMM accuracy=%f\" % accuracy_hmm"
     ],
     "language": "python",
     "metadata": {},
     "outputs": [
      {
       "output_type": "stream",
       "stream": "stdout",
       "text": [
        "HMM accuracy=0.546337\n"
       ]
      }
     ],
     "prompt_number": 8
    },
    {
     "cell_type": "code",
     "collapsed": false,
     "input": [
      "print lik_train.shape, lik_test.shape"
     ],
     "language": "python",
     "metadata": {},
     "outputs": [
      {
       "output_type": "stream",
       "stream": "stdout",
       "text": [
        "(26048, 9) (8546, 9)\n"
       ]
      }
     ],
     "prompt_number": 9
    },
    {
     "cell_type": "markdown",
     "metadata": {},
     "source": [
      "##PCA\u51fa\u529b+\u5c24\u5ea6\u3092\u7279\u5fb4\u3068\u3057\u305fSVM"
     ]
    },
    {
     "cell_type": "code",
     "collapsed": false,
     "input": [
      "#lik_train\u3068lefthand_pca\u3092\u5217\u65b9\u5411\u306b\u7d50\u5408\n",
      "pcalik_train = np.hstack((lefthand_pca_train[lenSeq_hmm-1:, :], lik_train))\n",
      "pcalik_test = np.hstack((lefthand_pca_test[lenSeq_hmm-1:, :], lik_test))\n",
      "print pcalik_train.shape, pcalik_test.shape"
     ],
     "language": "python",
     "metadata": {},
     "outputs": [
      {
       "output_type": "stream",
       "stream": "stdout",
       "text": [
        "(26048, 19) (8546, 19)\n"
       ]
      }
     ],
     "prompt_number": 13
    },
    {
     "cell_type": "code",
     "collapsed": false,
     "input": [
      "#\u30b9\u30e9\u30a4\u30c7\u30a3\u30f3\u30b0\u30a6\u30a3\u30f3\u30c9\u30a6(\u9577\u3055lenSeq_svm)\u3067\u7279\u5fb4\u91cf\u751f\u6210\n",
      "lenSeq_svm = 10\n",
      "features_SVMhyb_train = slidingWindow(pcalik_train, L=lenSeq_svm)\n",
      "features_SVMhyb_test = slidingWindow(pcalik_test, L=lenSeq_svm)\n",
      "print features_SVMhyb_train.shape, features_SVMhyb_test.shape"
     ],
     "language": "python",
     "metadata": {},
     "outputs": [
      {
       "output_type": "stream",
       "stream": "stdout",
       "text": [
        "(26039, 190) (8537, 190)\n"
       ]
      }
     ],
     "prompt_number": 14
    },
    {
     "cell_type": "code",
     "collapsed": false,
     "input": [
      "#\u30e9\u30d9\u30eb\u751f\u6210\n",
      "labels_SVMhyb_train = labels_pca_train[lenSeq_svm-1:]\n",
      "labels_SVMhyb_test = labels_pca_test[lenSeq_svm-1:]\n",
      "print len(labels_SVMhyb_train), len(labels_SVMhyb_test)"
     ],
     "language": "python",
     "metadata": {},
     "outputs": [
      {
       "output_type": "stream",
       "stream": "stdout",
       "text": [
        "26039 8537\n"
       ]
      }
     ],
     "prompt_number": 15
    },
    {
     "cell_type": "code",
     "collapsed": false,
     "input": [
      "#SVM\u306b\u3088\u308b\u5b66\u7fd2\u3001\u30c6\u30b9\u30c8\n",
      "svm_hyb = svm.SVC()\n",
      "svm_hyb.fit(features_SVMhyb_train, labels_SVMhyb_train)"
     ],
     "language": "python",
     "metadata": {},
     "outputs": [
      {
       "metadata": {},
       "output_type": "pyout",
       "prompt_number": 16,
       "text": [
        "SVC(C=1.0, cache_size=200, class_weight=None, coef0=0.0, degree=3, gamma=0.0,\n",
        "  kernel='rbf', max_iter=-1, probability=False, random_state=None,\n",
        "  shrinking=True, tol=0.001, verbose=False)"
       ]
      }
     ],
     "prompt_number": 16
    },
    {
     "cell_type": "code",
     "collapsed": false,
     "input": [
      "labels_predicted_SVMhyb = svm_hyb.predict(features_SVMhyb_test)\n",
      "accuracy_SVMhyb = accuracy_score(labels_predicted_SVMhyb, labels_SVMhyb_test)\n",
      "\n",
      "print \"SVM_hyb accuracy=%f\" % accuracy_SVMhyb"
     ],
     "language": "python",
     "metadata": {},
     "outputs": [
      {
       "output_type": "stream",
       "stream": "stdout",
       "text": [
        "SVM_hyb accuracy=0.545859\n"
       ]
      }
     ],
     "prompt_number": 17
    },
    {
     "cell_type": "code",
     "collapsed": false,
     "input": [
      "##KNN\u306b\u3088\u308b\u5b66\u7fd2\u3001\u30c6\u30b9\u30c8\n",
      "from sklearn.neighbors import KNeighborsClassifier\n",
      "knn = KNeighborsClassifier(n_neighbors=5)"
     ],
     "language": "python",
     "metadata": {},
     "outputs": [],
     "prompt_number": 27
    },
    {
     "cell_type": "code",
     "collapsed": false,
     "input": [
      "knn.fit(features_SVMhyb_train, labels_SVMhyb_train)\n",
      "labels_predicted_knn = knn.predict(features_SVMhyb_test)"
     ],
     "language": "python",
     "metadata": {},
     "outputs": [],
     "prompt_number": 28
    },
    {
     "cell_type": "code",
     "collapsed": false,
     "input": [
      "accuracy_knn = accuracy_score(labels_predicted_knn, labels_SVMhyb_test)\n",
      "print accuracy_knn"
     ],
     "language": "python",
     "metadata": {},
     "outputs": [
      {
       "output_type": "stream",
       "stream": "stdout",
       "text": [
        "0.545156378119\n"
       ]
      }
     ],
     "prompt_number": 29
    },
    {
     "cell_type": "code",
     "collapsed": false,
     "input": [],
     "language": "python",
     "metadata": {},
     "outputs": []
    }
   ],
   "metadata": {}
  }
 ]
}