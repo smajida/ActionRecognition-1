{
 "metadata": {
  "name": "",
  "signature": "sha256:61b55d6b30bd9c25fa4931c4aec457794ef1af61ac04b21c4df9ad1d7e7192e3"
 },
 "nbformat": 3,
 "nbformat_minor": 0,
 "worksheets": [
  {
   "cells": [
    {
     "cell_type": "markdown",
     "metadata": {},
     "source": [
      "#PCA\u51fa\u529b+\u5c24\u5ea6\u3092\u7279\u5fb4\u91cf\u3068\u3057\u305fSVM"
     ]
    },
    {
     "cell_type": "code",
     "collapsed": false,
     "input": [
      "# coding: utf-8\n",
      "# \u7dda\u5f62PCA\u3067\u6b21\u5143\u524a\u6e1b\u2192\u30ac\u30a6\u30b7\u30a2\u30f3HMM\u3067\u5c24\u5ea6\u8a08\u7b97\u2192\u5c24\u5ea6\u3092\u7279\u5fb4\u3068\u3057\u3066SVM(RBF\u30ab\u30fc\u30cd\u30eb)\n",
      "# \u30d1\u30e9\u30e1\u30fc\u30bf\u306flenSeq_hmm,n_states,lenSeq_svm\u4ee5\u5916\u56fa\u5b9a\n",
      "\n",
      "import numpy as np\n",
      "from sklearn import svm\n",
      "from sklearn.hmm import GaussianHMM\n",
      "from sklearn.decomposition import PCA\n",
      "from sklearn.metrics import accuracy_score\n",
      "import sys\n",
      "import pickle"
     ],
     "language": "python",
     "metadata": {},
     "outputs": [],
     "prompt_number": 51
    },
    {
     "cell_type": "code",
     "collapsed": false,
     "input": [
      "#\u5f15\u6570\u306e\u53d6\u5f97\n",
      "argvs = sys.argv\n",
      "N_LABEL = 9\n",
      "lenSeq_pca = 3\n",
      "dimPCA = 10\n",
      "lenSeq_hmm = 50\n",
      "n_states = 5\n",
      "lenSeq_svm = 10"
     ],
     "language": "python",
     "metadata": {},
     "outputs": [],
     "prompt_number": 92
    },
    {
     "cell_type": "code",
     "collapsed": false,
     "input": [
      "#\u30b9\u30e9\u30a4\u30c7\u30a3\u30f3\u30b0\u30a6\u30a3\u30f3\u30c9\u30a6\u95a2\u6570\n",
      "def slidingWindow(X, L):\n",
      "    # print \"input shape:\", X.shape\n",
      "    dimFeature = X.shape[1]\n",
      "    features = np.empty((X.shape[0]-(L-1), dimFeature*L))\n",
      "    for i in xrange(L-1, X.shape[0]):\n",
      "        feature_reshaped = np.reshape(X[i-(L-1):i+1, :], (1, dimFeature*L))\n",
      "        features[i-(L-1), :] = feature_reshaped\n",
      "    # print \"output shape:\", features.shape\n",
      "    \n",
      "    return features"
     ],
     "language": "python",
     "metadata": {},
     "outputs": [],
     "prompt_number": 93
    },
    {
     "cell_type": "markdown",
     "metadata": {},
     "source": [
      "##PCA"
     ]
    },
    {
     "cell_type": "code",
     "collapsed": false,
     "input": [
      "# \u30c7\u30fc\u30bf\u306e\u8aad\u307f\u8fbc\u307f\n",
      "lefthand_mocap_train = pickle.load(open(\"../TUMKitchenDataset/lefthand_mocap_train\", \"rb\"))\n",
      "lefthand_mocap_test = pickle.load(open(\"../TUMKitchenDataset/lefthand_mocap_test\", \"rb\"))\n",
      "labels_train = pickle.load(open(\"../TUMKitchenDataset/labels_train.dump\", \"rb\"))\n",
      "labels_test = pickle.load(open(\"../TUMKitchenDataset/labels_test.dump\", \"rb\"))\n",
      "\n",
      "# \u5b66\u7fd2\u30c7\u30fc\u30bf\u3001\u30c6\u30b9\u30c8\u30c7\u30fc\u30bf\u305d\u308c\u305e\u308c\u306b\u3064\u3044\u3066PCA\u306e\u5165\u529b(\u8907\u6570\u30d5\u30ec\u30fc\u30e0)\u3092\u3064\u304f\u308b\n",
      "## \u5b66\u7fd2\u30c7\u30fc\u30bf\u306ePCA\u5165\u529b\n",
      "features_pca_train = slidingWindow(lefthand_mocap_train, L=lenSeq_pca)\n",
      "\n",
      "# ## \u30c6\u30b9\u30c8\u30c7\u30fc\u30bf\u306ePCA\u5165\u529b\n",
      "features_pca_test = slidingWindow(lefthand_mocap_test, L=lenSeq_pca)\n",
      "\n",
      "# \u7dda\u5f62PCA\u3067\u5b66\u7fd2\u30c7\u30fc\u30bf\u3001\u30c6\u30b9\u30c8\u30c7\u30fc\u30bf\u306emocap\u3092\u6b21\u5143\u5727\u7e2e\n",
      "pca = PCA(n_components=dimPCA) # n_components: \u5727\u7e2e\u3059\u308b\u6b21\u5143\u6570\n",
      "## \u7dda\u5f62PCA\u306e\u5b66\u7fd2\u3068\u5909\u63db\n",
      "lefthand_pca_train = pca.fit_transform(features_pca_train)\n",
      "lefthand_pca_test = pca.fit_transform(features_pca_test)\n",
      "\n",
      "# PCA\u7528\u306e\u30e9\u30d9\u30eb\n",
      "labels_pca_train = labels_train[lenSeq_pca-1:]\n",
      "labels_pca_test = labels_test[lenSeq_pca-1:]"
     ],
     "language": "python",
     "metadata": {},
     "outputs": [],
     "prompt_number": 94
    },
    {
     "cell_type": "code",
     "collapsed": false,
     "input": [
      "sum(pca.explained_variance_ratio_)"
     ],
     "language": "python",
     "metadata": {},
     "outputs": [
      {
       "metadata": {},
       "output_type": "pyout",
       "prompt_number": 95,
       "text": [
        "0.95947042533075544"
       ]
      }
     ],
     "prompt_number": 95
    },
    {
     "cell_type": "code",
     "collapsed": false,
     "input": [],
     "language": "python",
     "metadata": {},
     "outputs": [],
     "prompt_number": 95
    },
    {
     "cell_type": "code",
     "collapsed": false,
     "input": [
      "#HMM\u7528\u306e\u30e9\u30d9\u30eb\n",
      "labels_hmm_train = labels_train[lenSeq_hmm+lenSeq_pca-2:]\n",
      "labels_hmm_test = labels_test[lenSeq_hmm+lenSeq_pca-2:]"
     ],
     "language": "python",
     "metadata": {},
     "outputs": [],
     "prompt_number": 96
    },
    {
     "cell_type": "code",
     "collapsed": false,
     "input": [
      "print lefthand_pca_train.shape, lefthand_pca_test.shape\n",
      "print len(labels_pca_train), len(labels_pca_test)"
     ],
     "language": "python",
     "metadata": {},
     "outputs": [
      {
       "output_type": "stream",
       "stream": "stdout",
       "text": [
        "(26057, 10) (8555, 10)\n",
        "26057 8555\n"
       ]
      }
     ],
     "prompt_number": 97
    },
    {
     "cell_type": "code",
     "collapsed": false,
     "input": [
      "print lefthand_mocap_train.shape, lefthand_mocap_test.shape\n",
      "print len(labels_hmm_train), len(labels_hmm_test)"
     ],
     "language": "python",
     "metadata": {},
     "outputs": [
      {
       "output_type": "stream",
       "stream": "stdout",
       "text": [
        "(26059, 15) (8557, 15)\n",
        "26008 8506\n"
       ]
      }
     ],
     "prompt_number": 98
    },
    {
     "cell_type": "markdown",
     "metadata": {},
     "source": [
      "##HMM"
     ]
    },
    {
     "cell_type": "code",
     "collapsed": false,
     "input": [
      "# \u6b21\u5143\u524a\u6e1b\u3057\u305fMocap\u7cfb\u5217\u3092lenSeq_hmm\u306e\u9577\u3055\u306b\u5206\u5272\n",
      "pcaSeq_train = [[], [], [], [], [], [], [], [], []] # \u3082\u3063\u3068\u7dba\u9e97\u306b\u66f8\u304f\n",
      "for t in range(lefthand_pca_train.shape[0]-(lenSeq_hmm-1)):\n",
      "    seq = lefthand_pca_train[t:t+lenSeq_hmm, :]\n",
      "    pcaSeq_train[labels_pca_train[t]].append(seq)\n",
      "\n",
      "pcaSeq_test = [] # \u3082\u3063\u3068\u7dba\u9e97\u306b\u66f8\u304f\n",
      "for t in range(lefthand_pca_test.shape[0]-(lenSeq_hmm-1)):\n",
      "    seq = lefthand_pca_test[t:t+lenSeq_hmm, :]\n",
      "    pcaSeq_test.append(seq)\n",
      "# print len(pcaSeq_test)\n",
      "\n",
      "# \u5404\u884c\u52d5\u3054\u3068\u306bGaussianHMM\u3092\u3064\u304f\u308a\u30ea\u30b9\u30c8\u306b\u683c\u7d0d\u3057\u5b66\u7fd2\n",
      "print \"training HMM...\"\n",
      "list_ghmm = []\n",
      "for i in range(N_LABEL):\n",
      "\tlist_ghmm.append(GaussianHMM(n_components=n_states, covariance_type=\"diag\")) #n_components: \u96a0\u308c\u72b6\u614b\u6570\n",
      "\tlist_ghmm[i].fit(pcaSeq_train[i])\n",
      "\n",
      "lik_train = np.empty((lefthand_pca_train.shape[0]-(lenSeq_hmm-1), N_LABEL)) # \u5b66\u7fd2\u30c7\u30fc\u30bf\u5c24\u5ea6\u884c\u5217\n",
      "lik_test = np.empty((len(pcaSeq_test), N_LABEL)) # \u30c6\u30b9\u30c8\u30c7\u30fc\u30bf\u5c24\u5ea6\u884c\u5217\n",
      "# print lik_test.shape, lik_train.shape\n",
      "\n",
      "# \u5b66\u7fd2\u5f8c\u306eHMM\u306b\u3088\u308a\u5c24\u5ea6\u8a08\u7b97\n",
      "print \"computing likelihood...\"\n",
      "for i in range(N_LABEL): # \u3069\u306eHMM\u3092\u4f7f\u3046\u304b\n",
      "\t#\u5b66\u7fd2\u30c7\u30fc\u30bf\n",
      "\tcountT = 0\n",
      "\tlabels_lik_train = [] # \u5b66\u7fd2\u7528\u5c24\u5ea6\u5217\u30e9\u30d9\u30eb\n",
      "\tfor ii in range(N_LABEL): # \u5b66\u7fd2\u7528\u306e\u5404\u7cfb\u5217\u306e\u6700\u5f8c\u306e\u30e9\u30d9\u30eb\u304c\u3069\u308c\u304b\n",
      "\t\tfor t_train in range(len(pcaSeq_train[ii])):\n",
      "\t\t\tlik_train[countT, i] = list_ghmm[i].score(pcaSeq_train[ii][t_train]) ##\u2190\u304a\u304b\u3057\u3044??\n",
      "\t\t\tlabels_lik_train.append(ii)\n",
      "\t\t\tcountT += 1\n",
      "\t# \u30c6\u30b9\u30c8\u30c7\u30fc\u30bf\n",
      "\tfor t_test in range(len(pcaSeq_test)):\n",
      "\t\tlik_test[t_test, i] = list_ghmm[i].score(pcaSeq_test[t_test])\n",
      "\n",
      "\n",
      "# HMM\u306eaccuracy\u3092\u8a08\u7b97\n",
      "labels_predicted_hmm = np.zeros(len(lik_test))\n",
      "#\u5c24\u5ea6\u6700\u5927\u306e\u3082\u306e\u3092\u63a8\u5b9a\u3068\u3059\u308b\n",
      "for t in range(lik_test.shape[0]):\n",
      "\tlabels_predicted_hmm[t] = np.argmax(lik_test[t])\n",
      "\taccuracy_hmm = accuracy_score(labels_predicted_hmm, labels_hmm_test)\n",
      "print \"HMM accuracy=%f\" % accuracy_hmm"
     ],
     "language": "python",
     "metadata": {},
     "outputs": [
      {
       "output_type": "stream",
       "stream": "stdout",
       "text": [
        "training HMM...\n",
        "computing likelihood..."
       ]
      },
      {
       "output_type": "stream",
       "stream": "stdout",
       "text": [
        "\n",
        "HMM accuracy=0.262873"
       ]
      },
      {
       "output_type": "stream",
       "stream": "stdout",
       "text": [
        "\n"
       ]
      }
     ],
     "prompt_number": 99
    },
    {
     "cell_type": "code",
     "collapsed": false,
     "input": [
      "# HMM\u306eaccuracy\u3092\u8a08\u7b97\n",
      "labels_predicted_hmm = []\n",
      "#\u5c24\u5ea6\u6700\u5927\u306e\u3082\u306e\u3092\u63a8\u5b9a\u3068\u3059\u308b\n",
      "for t in range(lik_test.shape[0]):\n",
      "\tlabels_predicted_hmm.append(np.argmax(lik_test[t]))\n",
      "accuracy_hmm = accuracy_score(labels_hmm_test, labels_predicted_hmm)\n",
      "print \"HMM accuracy=%f\" % accuracy_hmm"
     ],
     "language": "python",
     "metadata": {},
     "outputs": [
      {
       "output_type": "stream",
       "stream": "stdout",
       "text": [
        "HMM accuracy=0.101105\n"
       ]
      }
     ],
     "prompt_number": 50
    },
    {
     "cell_type": "code",
     "collapsed": false,
     "input": [
      "print labels_predicted_hmm[::50]\n",
      "print labels_hmm_test[::50]\n",
      "\n",
      "print labels_predicted_hmm[-200:]\n",
      "print labels_hmm_test[-200:]"
     ],
     "language": "python",
     "metadata": {},
     "outputs": [
      {
       "output_type": "stream",
       "stream": "stdout",
       "text": [
        "[7, 1, 0, 6, 6, 6, 7, 0, 7, 0, 7, 0, 0, 7, 0, 7, 0, 3, 7, 7, 6, 0, 0, 0, 6, 0, 0, 6, 7, 7, 6, 0, 6, 6, 0, 6, 7, 0, 6, 6, 6, 0, 6, 6, 7, 7, 7, 0, 6, 6, 0, 0, 0, 6, 1, 0, 1, 7, 0, 7, 0, 0, 0, 0, 0, 0, 0, 1, 0, 7, 0, 0, 0, 3, 7, 0, 0, 6, 1, 6, 6, 1, 1, 7, 7, 0, 0, 0, 8, 0, 0, 6, 8, 0, 0, 0, 0, 6, 0, 1, 7, 0, 6, 0, 7, 0, 7, 7, 1, 0, 7, 0, 0, 0, 0, 0, 0, 8, 8, 8, 0, 8, 0, 8, 0, 0, 0, 0, 0, 8, 0, 0, 0, 6, 0, 7, 0, 7, 1, 1, 7, 1, 0, 0, 0, 7, 0, 0, 0, 0, 0, 0, 0, 0, 0, 0, 7, 0, 7, 1, 1, 1, 1, 1, 1, 0, 7, 7, 7, 0, 7]\n",
        "[6 0 0 0 0 6 6 3 1 0 3 0 0 8 8 0 7 0 0 0 0 7 0 8 3 7 0 6 7 0 0 5 0 3 3 0 6\n",
        " 0 0 0 8 0 0 0 4 1 0 0 0 0 0 7 6 0 7 0 0 7 0 7 0 6 0 3 0 8 0 0 5 7 0 0 4 1\n",
        " 0 0 0 0 7 0 0 7 0 4 1 0 0 5 0 3 0 6 0 0 5 2 0 0 4 7 0 0 6 0 7 0 6 0 7 0 4\n",
        " 4 7 0 0 5 8 7 0 0 6 6 7 3 7 5 2 0 0 0 4 1 0 0 0 0 0 3 0 0 0 0 0 0 0 4 7 0\n",
        " 0 0 5 2 0 0 0 5 2 0 0 0 5 2 0 0 0 4 1 0 0 0 0]\n",
        "[7, 7, 7, 7, 7, 7, 7, 7, 7, 7, 7, 7, 7, 7, 7, 7, 7, 7, 7, 7, 7, 7, 7, 7, 7, 7, 7, 7, 7, 7, 7, 7, 7, 7, 7, 7, 7, 7, 7, 7, 7, 7, 7, 7, 7, 7, 7, 7, 7, 7, 7, 7, 7, 7, 7, 7, 7, 7, 7, 7, 7, 7, 7, 7, 7, 7, 7, 7, 7, 1, 1, 1, 1, 1, 1, 1, 1, 1, 1, 1, 1, 1, 7, 7, 7, 7, 7, 7, 7, 7, 7, 7, 7, 7, 7, 7, 7, 7, 7, 7, 7, 7, 7, 7, 7, 7, 7, 7, 7, 7, 0, 0, 0, 0, 0, 0, 0, 0, 0, 0, 0, 0, 0, 0, 0, 0, 0, 1, 1, 1, 1, 1, 1, 1, 1, 1, 1, 1, 1, 1, 0, 0, 0, 0, 0, 1, 1, 1, 1, 0, 0, 1, 1, 1, 1, 1, 0, 0, 0, 0, 0, 0, 0, 0, 0, 0, 0, 0, 0, 0, 0, 0, 0, 0, 7, 7, 7, 7, 7, 7, 7, 7, 7, 7, 7, 7, 7, 7, 7, 7, 7, 7, 7, 7, 7, 7, 7, 7, 7, 7]\n",
        "[1 1 1 1 7 7 7 7 7 7 7 7 7 7 7 7 7 7 7 7 7 7 7 0 0 0 0 0 0 0 0 0 0 0 0 0 0\n",
        " 0 0 0 0 0 0 0 0 0 0 0 0 0 0 0 0 0 0 0 0 0 0 0 0 0 0 0 0 0 0 0 0 0 0 0 0 0\n",
        " 0 0 0 0 0 0 0 0 0 0 0 0 0 0 0 0 0 0 0 0 0 0 0 0 0 0 0 0 0 0 0 0 0 0 0 0 0\n",
        " 0 0 0 0 0 0 0 0 0 0 0 0 0 0 0 0 0 0 0 0 0 0 0 0 0 0 0 0 0 0 0 0 0 0 0 0 0\n",
        " 0 0 0 0 0 0 0 0 0 0 0 0 0 0 0 0 0 0 0 0 0 0 0 0 0 0 0 0 0 0 0 0 0 0 0 0 0\n",
        " 0 0 0 0 0 0 0 0 0 0 0 0 0 0 0]\n"
       ]
      }
     ],
     "prompt_number": 40
    },
    {
     "cell_type": "code",
     "collapsed": false,
     "input": [
      "from sklearn.metrics import confusion_matrix\n",
      "confusion_matrix(labels_hmm_test, labels_predicted_hmm)"
     ],
     "language": "python",
     "metadata": {},
     "outputs": [
      {
       "metadata": {},
       "output_type": "pyout",
       "prompt_number": 41,
       "text": [
        "array([[2271,  523,    0,   85,   32,    7,  838,  727,  169],\n",
        "       [ 116,    5,    0,   36,    0,    0,    0,  160,    0],\n",
        "       [ 127,   30,    0,    0,    0,    0,    0,   29,   23],\n",
        "       [ 276,   30,    0,    0,    0,    2,   99,   65,   26],\n",
        "       [ 235,    8,    0,    0,    0,    0,    0,  173,    0],\n",
        "       [ 306,   48,    0,    0,    0,    0,    3,   27,    9],\n",
        "       [ 395,   90,    0,    0,    0,    0,  156,  152,   30],\n",
        "       [ 396,  155,    0,   10,    0,    0,   43,  200,   22],\n",
        "       [ 187,   41,    0,    0,    0,    0,   42,   90,   12]])"
       ]
      }
     ],
     "prompt_number": 41
    },
    {
     "cell_type": "code",
     "collapsed": false,
     "input": [
      "print lik_train.shape, lik_test.shape"
     ],
     "language": "python",
     "metadata": {},
     "outputs": [
      {
       "output_type": "stream",
       "stream": "stdout",
       "text": [
        "(26008, 9) (8506, 9)\n"
       ]
      }
     ],
     "prompt_number": 42
    },
    {
     "cell_type": "markdown",
     "metadata": {},
     "source": [
      "##PCA\u51fa\u529b+\u5c24\u5ea6\u3092\u7279\u5fb4\u3068\u3057\u305fSVM"
     ]
    },
    {
     "cell_type": "code",
     "collapsed": false,
     "input": [
      "# # lik_train,test\u3068lefthand_pca_train,test\u3092\u30b9\u30b1\u30fc\u30ea\u30f3\u30b0\n",
      "# from sklearn.preprocessing import scale\n",
      "# lefthand_pca_train = scale(lefthand_pca_train)\n",
      "# lefthand_pca_test = scale(lefthand_pca_test)\n",
      "# lik_train = scale(lik_train)\n",
      "# lik_test = scale(lik_test)"
     ],
     "language": "python",
     "metadata": {},
     "outputs": [],
     "prompt_number": 57
    },
    {
     "cell_type": "code",
     "collapsed": false,
     "input": [
      "#lik_train\u3068lefthand_pca\u3092\u5217\u65b9\u5411\u306b\u7d50\u5408\n",
      "pcalik_train = np.hstack((lefthand_pca_train[lenSeq_hmm-1:, :], lik_train))\n",
      "pcalik_test = np.hstack((lefthand_pca_test[lenSeq_hmm-1:, :], lik_test))\n",
      "print pcalik_train.shape, pcalik_test.shape"
     ],
     "language": "python",
     "metadata": {},
     "outputs": [
      {
       "output_type": "stream",
       "stream": "stdout",
       "text": [
        "(26028, 19) (8526, 19)\n"
       ]
      }
     ],
     "prompt_number": 25
    },
    {
     "cell_type": "code",
     "collapsed": false,
     "input": [
      "#\u30b9\u30e9\u30a4\u30c7\u30a3\u30f3\u30b0\u30a6\u30a3\u30f3\u30c9\u30a6(\u9577\u3055lenSeq_svm)\u3067\u7279\u5fb4\u91cf\u751f\u6210\n",
      "lenSeq_svm = 10\n",
      "features_SVMhyb_train = slidingWindow(pcalik_train, L=lenSeq_svm)\n",
      "features_SVMhyb_test = slidingWindow(pcalik_test, L=lenSeq_svm)\n",
      "print features_SVMhyb_train.shape, features_SVMhyb_test.shape"
     ],
     "language": "python",
     "metadata": {},
     "outputs": [
      {
       "output_type": "stream",
       "stream": "stdout",
       "text": [
        "(26019, 190) (8517, 190)\n"
       ]
      }
     ],
     "prompt_number": 26
    },
    {
     "cell_type": "code",
     "collapsed": false,
     "input": [
      "#\u30e9\u30d9\u30eb\u751f\u6210\n",
      "labels_SVMhyb_train = labels_hmm_train[lenSeq_svm-1:]\n",
      "labels_SVMhyb_test = labels_hmm_test[lenSeq_svm-1:]\n",
      "print len(labels_SVMhyb_train), len(labels_SVMhyb_test)"
     ],
     "language": "python",
     "metadata": {},
     "outputs": [
      {
       "output_type": "stream",
       "stream": "stdout",
       "text": [
        "26019 8517\n"
       ]
      }
     ],
     "prompt_number": 28
    },
    {
     "cell_type": "code",
     "collapsed": false,
     "input": [
      "#SVM\u306b\u3088\u308b\u5b66\u7fd2\u3001\u30c6\u30b9\u30c8\n",
      "svm_hyb = svm.SVC()\n",
      "svm_hyb.fit(features_SVMhyb_train, labels_SVMhyb_train)"
     ],
     "language": "python",
     "metadata": {},
     "outputs": []
    },
    {
     "cell_type": "code",
     "collapsed": false,
     "input": [
      "labels_predicted_SVMhyb = svm_hyb.predict(features_SVMhyb_test)\n",
      "accuracy_SVMhyb = accuracy_score(labels_predicted_SVMhyb, labels_SVMhyb_test)\n",
      "\n",
      "print \"SVM_hyb accuracy=%f\" % accuracy_SVMhyb"
     ],
     "language": "python",
     "metadata": {},
     "outputs": []
    },
    {
     "cell_type": "markdown",
     "metadata": {},
     "source": [
      "##PCA\u51fa\u529b\u3092\u7279\u5fb4\u3068\u3057\u305fSVM"
     ]
    },
    {
     "cell_type": "code",
     "collapsed": false,
     "input": [
      "#\u7279\u5fb4\u91cf\u751f\u6210\n",
      "features_SVMpca_train = slidingWindow(lefthand_pca_train, L=lenSeq_svm)\n",
      "features_SVMpca_test = slidingWindow(lefthand_pca_test, L=lenSeq_svm)\n",
      "print features_SVMpca_train.shape, features_SVMpca_test.shape"
     ],
     "language": "python",
     "metadata": {},
     "outputs": []
    },
    {
     "cell_type": "code",
     "collapsed": false,
     "input": [
      "#\u30e9\u30d9\u30eb\u751f\u6210\n",
      "labels_SVMpca_train = labels_pca_train[lenSeq_svm-1:]\n",
      "labels_SVMpca_test = labels_pca_test[lenSeq_svm-1:]\n",
      "print len(labels_SVMpca_train), len(labels_SVMpca_test)"
     ],
     "language": "python",
     "metadata": {},
     "outputs": []
    },
    {
     "cell_type": "code",
     "collapsed": false,
     "input": [
      "svm_pca = svm.SVC()\n",
      "svm_pca.fit()"
     ],
     "language": "python",
     "metadata": {},
     "outputs": []
    },
    {
     "cell_type": "code",
     "collapsed": false,
     "input": [
      "labels_predicted_SVMpca = svm_pca.predict(features_SVMpca_test)\n",
      "accuracy_SVMpca = accuracy_score(labels_predicted_SVMpca, labels_SVMpca_test)\n",
      "\n",
      "print \"SVM_pca accuracy=%f\" % accuracy_SVMpca"
     ],
     "language": "python",
     "metadata": {},
     "outputs": []
    },
    {
     "cell_type": "markdown",
     "metadata": {},
     "source": [
      "##\u751fmocap\u30c7\u30fc\u30bf\u3092\u7279\u5fb4\u3068\u3057\u305fSVM"
     ]
    },
    {
     "cell_type": "code",
     "collapsed": false,
     "input": [
      "#\u7279\u5fb4\u91cf\u751f\u6210\n",
      "features_SVMmocap_train = slidingWindow(lefthand_mocap_train, L=lenSeq_svm)\n",
      "features_SVMmocap_test = slidingWindow(lefthand_mocap_test, L=lenSeq_svm)\n",
      "print features_SVMmocap_train.shape, features_SVMmocap_test.shape\n",
      "\n",
      "#\u30e9\u30d9\u30eb\u751f\u6210\n",
      "labels_SVMmocap_train = labels_train[lenSeq_svm-1:]\n",
      "labels_SVMmocap_test = labels_test[lenSeq_svm-1:]\n",
      "print len(labels_SVMmocap_train), len(labels_SVMmocap_test)"
     ],
     "language": "python",
     "metadata": {},
     "outputs": [
      {
       "output_type": "stream",
       "stream": "stdout",
       "text": [
        "(26050, 150) (8548, 150)\n",
        "26050 8548\n"
       ]
      }
     ],
     "prompt_number": 15
    },
    {
     "cell_type": "code",
     "collapsed": false,
     "input": [
      "svm_mocap = svm.SVC()\n",
      "svm_mocap.fit()\n",
      "\n",
      "labels_predicted_SVMmocap = svm_mocap.predict(features_SVMmocap_test)\n",
      "accuracy_SVMmocap = accuracy_score(labels_predicted_SVMmocap, labels_SVMmocap_test)\n",
      "\n",
      "print \"SVM_mocap accuracy=%f\" % accuracy_SVMmocap"
     ],
     "language": "python",
     "metadata": {},
     "outputs": []
    },
    {
     "cell_type": "markdown",
     "metadata": {},
     "source": [
      "###KNN"
     ]
    },
    {
     "cell_type": "code",
     "collapsed": false,
     "input": [
      "##KNN\u306b\u3088\u308b\u5b66\u7fd2\u3001\u30c6\u30b9\u30c8\n",
      "from sklearn.neighbors import KNeighborsClassifier\n",
      "knn = KNeighborsClassifier(n_neighbors=5)"
     ],
     "language": "python",
     "metadata": {},
     "outputs": [],
     "prompt_number": 45
    },
    {
     "cell_type": "code",
     "collapsed": false,
     "input": [
      "knn.fit(features_SVMhyb_train, labels_SVMhyb_train)\n",
      "labels_predicted_knn = knn.predict(features_SVMhyb_test)"
     ],
     "language": "python",
     "metadata": {},
     "outputs": [],
     "prompt_number": 46
    },
    {
     "cell_type": "code",
     "collapsed": false,
     "input": [
      "accuracy_knn = accuracy_score(labels_predicted_knn, labels_SVMhyb_test)\n",
      "print accuracy_knn"
     ],
     "language": "python",
     "metadata": {},
     "outputs": [
      {
       "output_type": "stream",
       "stream": "stdout",
       "text": [
        "0.284291905822\n"
       ]
      }
     ],
     "prompt_number": 47
    },
    {
     "cell_type": "code",
     "collapsed": false,
     "input": [],
     "language": "python",
     "metadata": {},
     "outputs": []
    }
   ],
   "metadata": {}
  }
 ]
}