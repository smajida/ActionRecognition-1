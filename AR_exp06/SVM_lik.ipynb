{
 "metadata": {
  "name": "",
  "signature": "sha256:959df4eee03e45a367746cd18cb8bbe24a470e83b7c74b1e8daec6cb83cd0615"
 },
 "nbformat": 3,
 "nbformat_minor": 0,
 "worksheets": [
  {
   "cells": [
    {
     "cell_type": "markdown",
     "metadata": {},
     "source": [
      "##PCA\u306b\u3088\u308a\u6b21\u5143\u524a\u6e1b\u2192\u30ac\u30a6\u30b7\u30a2\u30f3HMM\u306b\u3088\u308a\u5c24\u5ea6\u8a08\u7b97\u2192SVM\u306b\u3088\u308a\u884c\u52d5\u5206\u985e"
     ]
    },
    {
     "cell_type": "markdown",
     "metadata": {},
     "source": [
      "###PCA\u3067\u30e2\u30fc\u30b7\u30e7\u30f3\u30ad\u30e3\u30d7\u30c1\u30e3\u306e\u6b21\u5143\u3092\u524a\u6e1b"
     ]
    },
    {
     "cell_type": "code",
     "collapsed": false,
     "input": [
      "# coding: utf-8\n",
      "\n",
      "import numpy as np\n",
      "from sklearn import svm\n",
      "#from sklearn import preprocessing\n",
      "from sklearn.hmm import GaussianHMM\n",
      "from sklearn.decomposition import PCA\n",
      "from sklearn.metrics import accuracy_score\n",
      "# import csv\n",
      "import pickle\n",
      "\n",
      "# \u5b9a\u6570\u306e\u8a2d\u5b9a\n",
      "N_LABEL = 9\n",
      "\n",
      "# \u30c7\u30fc\u30bf\u306e\u8aad\u307f\u8fbc\u307f\n",
      "lefthand_mocap_train = pickle.load(open(\"lefthand_mocap_train\", \"rb\"))\n",
      "lefthand_mocap_test = pickle.load(open(\"lefthand_mocap_test\", \"rb\"))\n",
      "labels_train = pickle.load(open(\"../labels_train.dump\", \"rb\"))\n",
      "labels_test = pickle.load(open(\"../labels_test.dump\", \"rb\"))\n",
      "\n",
      "# \u5b66\u7fd2\u30c7\u30fc\u30bf\u3001\u30c6\u30b9\u30c8\u30c7\u30fc\u30bf\u305d\u308c\u305e\u308c\u306b\u3064\u3044\u3066PCA\u306e\u5165\u529b(\u8907\u6570\u30d5\u30ec\u30fc\u30e0)\u3092\u3064\u304f\u308b\n",
      "## \u5b66\u7fd2\u30c7\u30fc\u30bf\u306ePCA\u5165\u529b\n",
      "len_anglevec = lefthand_mocap_train.shape[1]\n",
      "window_length = 3\n",
      "features_pca_train = np.empty((len(lefthand_mocap_train)-(window_length-1), len_anglevec*window_length))\n",
      "for i in xrange(window_length-1, len(lefthand_mocap_train)):\n",
      "    feature_reshaped = np.reshape(lefthand_mocap_train[i-(window_length-1):i+1, :], (1, len_anglevec*window_length))\n",
      "    features_pca_train[i-(window_length-1), :] = feature_reshaped\n",
      "## \u30c6\u30b9\u30c8\u30c7\u30fc\u30bf\u306ePCA\u5165\u529b\n",
      "features_pca_test = np.empty((len(lefthand_mocap_test)-(window_length-1), len_anglevec*window_length))\n",
      "for i in xrange(window_length-1, len(lefthand_mocap_test)):\n",
      "    feature_reshaped = np.reshape(lefthand_mocap_test[i-(window_length-1):i+1, :], (1, len_anglevec*window_length))\n",
      "    features_pca_test[i-(window_length-1), :] = feature_reshaped\n",
      "\n",
      "# \u7dda\u5f62PCA\u3067\u5b66\u7fd2\u30c7\u30fc\u30bf\u3001\u30c6\u30b9\u30c8\u30c7\u30fc\u30bf\u306emocap\u3092\u6b21\u5143\u5727\u7e2e\n",
      "pca = PCA(n_components=5) #n_components: \u5727\u7e2e\u3059\u308b\u6b21\u5143\u6570\n",
      "## \u7dda\u5f62PCA\u306e\u5b66\u7fd2\u3068\u5909\u63db\n",
      "lefthand_pca_train = pca.fit_transform(features_pca_train)\n",
      "lefthand_pca_test = pca.fit_transform(features_pca_test)\n",
      "\n",
      "# \u30e9\u30d9\u30eb\u5217\u306e\u9577\u3055\u3092\u305d\u308d\u3048\u308b\n",
      "lenSeq = 30\n",
      "labels_pca_train = labels_train[lenSeq+window_length-2:]\n",
      "labels_pca_test = labels_test[lenSeq+window_length-2:]"
     ],
     "language": "python",
     "metadata": {},
     "outputs": [],
     "prompt_number": 1
    },
    {
     "cell_type": "code",
     "collapsed": false,
     "input": [
      "print len(labels_pca_train), len(labels_pca_test)"
     ],
     "language": "python",
     "metadata": {},
     "outputs": [
      {
       "output_type": "stream",
       "stream": "stdout",
       "text": [
        "26028 8526\n"
       ]
      }
     ],
     "prompt_number": 2
    },
    {
     "cell_type": "markdown",
     "metadata": {},
     "source": [
      "###\u884c\u52d5\u3054\u3068\u306bHMM\u3092\u5b66\u7fd2\u3057\u3001\u5c24\u5ea6\u3092\u8a08\u7b97\u3059\u308b"
     ]
    },
    {
     "cell_type": "code",
     "collapsed": false,
     "input": [
      "# \u6b21\u5143\u524a\u6e1b\u3057\u305fMocap\u7cfb\u5217\u3092lenSeq\u306e\u9577\u3055\u306b\u5206\u5272\n",
      "pcaSeq_train = [[], [], [], [], [], [], [], [], []] #\u3082\u3063\u3068\u7dba\u9e97\u306b\u66f8\u304f\n",
      "for t in range(lefthand_pca_train.shape[0]-(lenSeq-1)):\n",
      "    seq = lefthand_pca_train[t:t+lenSeq, :]\n",
      "    pcaSeq_train[labels_pca_train[t]].append(seq)\n",
      "\n",
      "pcaSeq_test = [] #\u3082\u3063\u3068\u7dba\u9e97\u306b\u66f8\u304f\n",
      "for t in range(lefthand_pca_test.shape[0]-(lenSeq-1)):\n",
      "    seq = lefthand_pca_test[t:t+lenSeq, :]\n",
      "    pcaSeq_test.append(seq)\n",
      "# print len(pcaSeq_test)\n",
      "\n",
      "#\u5404\u884c\u52d5\u3054\u3068\u306bGaussianHMM\u3092\u3064\u304f\u308a\u30ea\u30b9\u30c8\u306b\u683c\u7d0d\u3057\u5b66\u7fd2\n",
      "print \"training HMM...\"\n",
      "list_ghmm = []\n",
      "for i in range(N_LABEL):\n",
      "\tlist_ghmm.append(GaussianHMM(n_components=3))\n",
      "\tlist_ghmm[i].fit(pcaSeq_train[i])\n",
      "\n",
      "lik_train = np.empty((lefthand_pca_train.shape[0]-(lenSeq-1), N_LABEL)) #\u5b66\u7fd2\u30c7\u30fc\u30bf\u5c24\u5ea6\u884c\u5217\n",
      "lik_test = np.empty((len(pcaSeq_test), N_LABEL)) #\u30c6\u30b9\u30c8\u30c7\u30fc\u30bf\u5c24\u5ea6\u884c\u5217\n",
      "# print lik_test.shape, lik_train.shape\n",
      "\n",
      "# \u5b66\u7fd2\u5f8c\u306eHMM\u306b\u3088\u308a\u5c24\u5ea6\u8a08\u7b97\n",
      "print \"computing likelihood...\"\n",
      "for i in range(N_LABEL): # \u3069\u306eHMM\u3092\u4f7f\u3046\u304b\n",
      "\t#\u5b66\u7fd2\u30c7\u30fc\u30bf\n",
      "\tcountT = 0\n",
      "\tlabels_lik_train = [] # \u5b66\u7fd2\u7528\u5c24\u5ea6\u5217\u30e9\u30d9\u30eb\n",
      "\tfor ii in range(N_LABEL): # \u5b66\u7fd2\u7528\u306e\u5404\u7cfb\u5217\u306e\u6700\u5f8c\u306e\u30e9\u30d9\u30eb\u304c\u3069\u308c\u304b\n",
      "\t\tfor t_train in range(len(pcaSeq_train[ii])):\n",
      "\t\t\tlik_train[countT, i] = list_ghmm[i].score(pcaSeq_train[ii][t_train]) ##\u2190\u304a\u304b\u3057\u3044??\n",
      "\t\t\tlabels_lik_train.append(ii)\n",
      "\t\t\tcountT += 1\n",
      "\t#\u30c6\u30b9\u30c8\u30c7\u30fc\u30bf\n",
      "\tfor t_test in range(len(pcaSeq_test)):\n",
      "\t\tlik_test[t_test, i] = list_ghmm[i].score(pcaSeq_test[t_test])"
     ],
     "language": "python",
     "metadata": {},
     "outputs": [
      {
       "output_type": "stream",
       "stream": "stdout",
       "text": [
        "training HMM...\n",
        "computing likelihood..."
       ]
      },
      {
       "output_type": "stream",
       "stream": "stdout",
       "text": [
        "\n"
       ]
      }
     ],
     "prompt_number": 6
    },
    {
     "cell_type": "code",
     "collapsed": false,
     "input": [
      "print lik_train.shape, lik_test.shape"
     ],
     "language": "python",
     "metadata": {},
     "outputs": [
      {
       "output_type": "stream",
       "stream": "stdout",
       "text": [
        "(26028, 9) (8526, 9)\n"
       ]
      }
     ],
     "prompt_number": 7
    },
    {
     "cell_type": "code",
     "collapsed": false,
     "input": [
      "print lik_train[26000:, :]"
     ],
     "language": "python",
     "metadata": {},
     "outputs": [
      {
       "output_type": "stream",
       "stream": "stdout",
       "text": [
        "[[-789.65391816 -766.35187314 -834.58512883 -838.91429104 -757.81400835\n",
        "  -828.24116188 -776.45100691 -778.79296295 -722.3775979 ]\n",
        " [-789.39531747 -765.31761155 -836.76742141 -838.32752387 -755.46643291\n",
        "  -829.80854512 -776.56989902 -779.13724104 -721.72769594]\n",
        " [-788.82775077 -764.25393038 -838.66160184 -837.45480414 -753.42796564\n",
        "  -830.51809745 -776.30708653 -779.23090135 -720.77276069]\n",
        " [-787.90027727 -763.26546771 -839.55057467 -835.68274008 -751.41767458\n",
        "  -828.52271086 -775.65540846 -778.92125329 -719.5702912 ]\n",
        " [-786.59850752 -762.47623305 -838.97602589 -832.69380979 -748.48413605\n",
        "  -825.37257277 -774.63763069 -778.20465699 -718.23294834]\n",
        " [-785.02988717 -762.07444812 -836.93493522 -828.82892545 -744.74457255\n",
        "  -822.90766304 -773.37142381 -777.29446224 -717.0113508 ]\n",
        " [-783.36796671 -762.25533501 -833.75741522 -824.73308728 -741.77643301\n",
        "  -822.4077249  -772.00043187 -776.57379072 -716.18885723]\n",
        " [-781.69526148 -763.08995719 -828.66801222 -820.77374845 -740.26288462\n",
        "  -823.76461415 -770.54037286 -776.31722589 -715.85906172]\n",
        " [-779.94485483 -764.4893974  -822.0450264  -816.4440514  -740.20522118\n",
        "  -823.87180933 -768.85634354 -776.44315526 -715.87749684]\n",
        " [-778.01748626 -766.34048386 -816.49985299 -811.81562773 -741.13932996\n",
        "  -823.38910775 -766.83337241 -776.57444128 -716.08980512]\n",
        " [-775.91387216 -768.62289486 -811.93623434 -807.46327493 -741.85822437\n",
        "  -822.92786095 -764.52487685 -776.34952071 -716.54988595]\n",
        " [-773.72506994 -771.26250142 -808.04252701 -803.29584034 -741.22904049\n",
        "  -822.56672015 -762.1021026  -775.92080238 -717.44379065]\n",
        " [-771.546047   -773.61227796 -804.70100832 -799.20246159 -740.09314682\n",
        "  -821.86589517 -759.71826158 -775.5693885  -718.80470777]\n",
        " [-770.19535116 -776.14340622 -800.16218829 -796.69830433 -745.83962152\n",
        "  -818.10856671 -758.49379597 -775.62721916 -719.631298  ]\n",
        " [-769.04296616 -777.90174115 -796.43863814 -794.40885326 -750.44685664\n",
        "  -812.81252976 -757.46322759 -774.69136669 -720.71333449]\n",
        " [-767.87844805 -780.03625821 -793.15093833 -791.78324142 -754.83871054\n",
        "  -806.07541753 -756.42727341 -772.23148097 -721.90102216]\n",
        " [-766.130815   -784.11320169 -792.2114433  -788.46731174 -755.79194685\n",
        "  -805.8089786  -754.61924748 -774.88479077 -724.70556574]\n",
        " [-764.68064192 -787.59695158 -792.20309694 -786.06229845 -755.82124248\n",
        "  -802.14346266 -753.0481609  -775.71229006 -727.68901788]\n",
        " [-763.63516949 -790.69043696 -793.92832331 -785.11942085 -756.40167895\n",
        "  -799.66883183 -751.78983605 -776.05124143 -730.86161098]\n",
        " [-762.94216354 -793.72761336 -797.65482281 -785.83037985 -757.52885585\n",
        "  -798.64948331 -750.77652439 -776.75577036 -734.05068061]\n",
        " [-762.3792004  -796.61113834 -802.94346229 -787.78666449 -758.99051666\n",
        "  -798.64774755 -749.81718906 -777.5955279  -737.00042055]\n",
        " [-761.70605401 -799.17383808 -808.86038792 -790.19570435 -760.56501969\n",
        "  -798.95930191 -748.74393249 -778.25211191 -739.56484492]\n",
        " [-760.80361682 -801.41026722 -814.32554057 -792.297889   -762.1607929\n",
        "  -799.11598936 -747.51824166 -778.58024436 -741.78265717]\n",
        " [-759.65244397 -803.44934981 -817.9574048  -793.57794624 -763.77662897\n",
        "  -798.88239221 -746.17331442 -778.59080105 -743.81075231]\n",
        " [-758.2545062  -805.42754606 -819.28977456 -793.79451569 -765.42878493\n",
        "  -798.07801926 -744.71972688 -778.37081743 -745.74656306]\n",
        " [-756.5821575  -807.39635912 -818.923202   -792.87353273 -767.10920414\n",
        "  -796.53479623 -743.10255776 -777.99174275 -747.52649851]\n",
        " [-754.59807601 -809.30685589 -817.16964586 -790.67828947 -768.80030007\n",
        "  -794.19850548 -741.24786774 -777.4758446  -749.0367567 ]\n",
        " [-752.26870957 -811.06697564 -814.19023141 -786.81639217 -770.42242925\n",
        "  -791.01679811 -739.11090079 -776.83997469 -750.1851717 ]]\n"
       ]
      }
     ],
     "prompt_number": 19
    },
    {
     "cell_type": "code",
     "collapsed": false,
     "input": [
      "print lik_test[8500:, :]"
     ],
     "language": "python",
     "metadata": {},
     "outputs": [
      {
       "output_type": "stream",
       "stream": "stdout",
       "text": [
        "[[-737.65070917 -850.09791089 -708.26793239 -713.07184647 -764.74496495\n",
        "  -702.28396062 -738.77226144 -738.33029919 -721.5717638 ]\n",
        " [-738.69467953 -853.10630205 -707.71854918 -713.8909797  -767.99357913\n",
        "  -701.99148455 -739.786829   -735.54549442 -721.23342195]\n",
        " [-739.36880017 -855.20553335 -706.45239055 -714.39621317 -770.91375464\n",
        "  -702.42827289 -740.35541698 -732.23774954 -720.24156651]\n",
        " [-739.67737924 -856.31857339 -704.54910347 -714.85036861 -773.73519483\n",
        "  -703.28868092 -740.51109962 -728.62954321 -718.8371201 ]\n",
        " [-739.71766345 -856.33094053 -702.47678424 -715.37286787 -776.49129231\n",
        "  -704.37891517 -740.39784685 -724.48471995 -717.32205036]\n",
        " [-739.55753007 -855.28075689 -700.64942353 -715.96592731 -779.06248696\n",
        "  -705.57112462 -740.12108738 -720.32061681 -715.89965347]\n",
        " [-739.19318058 -853.57306998 -699.26205163 -716.3536687  -781.13063138\n",
        "  -706.84491472 -739.70196068 -717.46307677 -714.51504134]\n",
        " [-738.58350058 -851.42152654 -698.38466159 -715.8870508  -782.31556353\n",
        "  -708.30354517 -739.11743281 -716.48843952 -712.76959061]\n",
        " [-737.68761985 -848.84417522 -698.02479571 -714.56129533 -782.55719304\n",
        "  -710.04941532 -738.33144007 -717.28921935 -711.13084446]\n",
        " [-736.47310288 -845.79214274 -698.07125462 -712.95529735 -781.76342716\n",
        "  -712.01912972 -737.28969574 -717.97038591 -709.73879581]\n",
        " [-734.921847   -842.21342357 -698.24432088 -711.38826033 -779.98192514\n",
        "  -713.9167152  -735.92632965 -717.81329923 -707.89165665]\n",
        " [-733.08219252 -838.16741562 -698.2591744  -709.75765727 -777.3901258\n",
        "  -714.86535012 -734.23654593 -717.62821727 -705.99071115]\n",
        " [-731.14550035 -833.94616603 -698.08695552 -707.53800738 -774.19307302\n",
        "  -714.12789108 -732.37978891 -717.60623746 -704.25831816]\n",
        " [-729.42211173 -830.02376602 -697.46610527 -704.65769974 -770.80789859\n",
        "  -713.70337933 -730.66973076 -717.97697611 -702.36136364]\n",
        " [-728.14662657 -826.71443389 -697.48844713 -702.41542266 -767.6746949\n",
        "  -714.75191996 -729.36809442 -718.78494504 -700.56827699]\n",
        " [-727.30472785 -823.73595019 -699.16823454 -701.06913708 -764.93695861\n",
        "  -717.45279391 -728.48752624 -719.87300549 -699.62778957]\n",
        " [-726.7036037  -820.92194387 -702.49541649 -700.2893203  -762.57830384\n",
        "  -721.71097595 -727.84560795 -721.26157877 -699.53115722]\n",
        " [-726.21466142 -819.28856596 -704.25605626 -699.8830739  -760.80682633\n",
        "  -727.80879003 -727.30580815 -723.31995041 -699.98495395]\n",
        " [-725.91375894 -819.60485384 -703.26005039 -700.02833326 -760.18091008\n",
        "  -735.82759263 -726.93775896 -726.16824968 -700.84235668]\n",
        " [-725.97083314 -819.65466998 -701.8411811  -700.64739763 -761.13004044\n",
        "  -741.13566472 -726.92523    -726.11995332 -701.53913749]\n",
        " [-726.45049967 -818.93316358 -700.43181787 -699.82563154 -762.43745107\n",
        "  -745.99459251 -727.36011266 -723.72879694 -700.42902154]\n",
        " [-727.26147186 -818.23408235 -699.1132863  -698.11162908 -762.77267346\n",
        "  -751.14990843 -728.17456187 -720.49283725 -698.9150733 ]\n",
        " [-728.23167375 -817.51979815 -697.81306937 -696.33592218 -763.16378041\n",
        "  -756.37716024 -729.20465791 -716.65196147 -697.47632038]\n",
        " [-729.1541378  -816.69607343 -696.40764259 -694.53405658 -763.49367801\n",
        "  -761.10822649 -730.22768435 -712.55721219 -696.02054473]\n",
        " [-729.8095735  -815.61836423 -694.78718569 -692.73684754 -763.3480964\n",
        "  -764.58749879 -730.9827934  -708.68831978 -694.38944231]\n",
        " [-730.02884565 -814.07725643 -692.98033646 -690.92302106 -762.44004507\n",
        "  -765.98522722 -731.23774012 -705.64125349 -692.22702034]]\n"
       ]
      }
     ],
     "prompt_number": 11
    },
    {
     "cell_type": "markdown",
     "metadata": {},
     "source": [
      "###SVM\u3067\u884c\u52d5\u5206\u985e"
     ]
    },
    {
     "cell_type": "code",
     "collapsed": false,
     "input": [
      "# SVM\u306b\u5165\u529b\u3059\u308b\u7279\u5fb4\u91cf\u3092\u751f\u6210\n",
      "# lenSeq\u306fHMM\u306e\u5165\u529b\u3068\u5171\u901a\u306b\u306a\u3063\u3066\u3044\u308b\n",
      "features_train = np.empty((lik_train.shape[0]-(lenSeq-1), N_LABEL*lenSeq))\n",
      "\n",
      "for i in xrange(lenSeq-1, lik_train.shape[0]):\n",
      "    likelihood_reshaped = np.reshape(lik_train[i-(lenSeq-1):i+1, :], (1, N_LABEL*lenSeq))\n",
      "#     print likelihood_reshaped.shape, features_train.shape\n",
      "    features_train[i-(lenSeq-1), :] = likelihood_reshaped\n",
      "\n",
      "#features\u306e\u9577\u3055\u306b\u5408\u308f\u305b\u308b\u305f\u3081\u306b\u30e9\u30d9\u30eb\u5217\u306e\u524d9\u500b\u3092\u6d88\u53bb\n",
      "labels_svm_train = labels_lik_train[lenSeq-1:]\n",
      "\n",
      "#\u30c6\u30b9\u30c8\u7528\n",
      "features_test = np.empty((lik_test.shape[0]-(lenSeq-1), N_LABEL*lenSeq))\n",
      "\n",
      "for i in xrange(lenSeq-1, lik_test.shape[0]):\n",
      "    likelihood_reshaped = np.reshape(lik_test[i-(lenSeq-1):i+1, :], (1, N_LABEL*lenSeq))\n",
      "#     print likelihood_reshaped.shape, features_train.shape\n",
      "    features_test[i-(lenSeq-1), :] = likelihood_reshaped\n",
      "\n",
      "#features\u306e\u9577\u3055\u306b\u5408\u308f\u305b\u308b\u305f\u3081\u306b\u30e9\u30d9\u30eb\u5217\u306e\u524d\u3092\u6d88\u53bb\n",
      "labels_svm_test = labels_pca_test[lenSeq-1:]"
     ],
     "language": "python",
     "metadata": {},
     "outputs": [],
     "prompt_number": 15
    },
    {
     "cell_type": "code",
     "collapsed": false,
     "input": [
      "print len(labels_svm_train), len(labels_svm_test)"
     ],
     "language": "python",
     "metadata": {},
     "outputs": [
      {
       "output_type": "stream",
       "stream": "stdout",
       "text": [
        "25999 8497\n"
       ]
      }
     ],
     "prompt_number": 16
    },
    {
     "cell_type": "code",
     "collapsed": false,
     "input": [
      "print features_train.shape, features_test.shape"
     ],
     "language": "python",
     "metadata": {},
     "outputs": [
      {
       "output_type": "stream",
       "stream": "stdout",
       "text": [
        "(25999, 270) (8497, 270)\n"
       ]
      }
     ],
     "prompt_number": 17
    },
    {
     "cell_type": "code",
     "collapsed": false,
     "input": [
      "# SVM\u306b\u3088\u308b\u5b66\u7fd2\u3001\u30c6\u30b9\u30c8\n",
      "print \"training SVM...\"\n",
      "svm_lik = svm.SVC()\n",
      "svm_lik.fit(features_train, labels_svm_train)\n",
      "\n",
      "labels_predicted = svm_lik.predict(features_test)\n",
      "accuracy = accuracy_score(labels_predicted, labels_svm_test)\n",
      "\n",
      "print \"accuracy=%f\" % accuracy"
     ],
     "language": "python",
     "metadata": {},
     "outputs": [
      {
       "output_type": "stream",
       "stream": "stdout",
       "text": [
        "training SVM...\n",
        "accuracy=0.547487"
       ]
      },
      {
       "output_type": "stream",
       "stream": "stdout",
       "text": [
        "\n"
       ]
      }
     ],
     "prompt_number": 18
    },
    {
     "cell_type": "code",
     "collapsed": false,
     "input": [],
     "language": "python",
     "metadata": {},
     "outputs": []
    }
   ],
   "metadata": {}
  }
 ]
}