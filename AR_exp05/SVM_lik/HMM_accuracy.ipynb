{
 "metadata": {
  "name": "",
  "signature": "sha256:0695513985cd1e348977c9f3d183b1e5a739392aea5d89350ee8642e20460f48"
 },
 "nbformat": 3,
 "nbformat_minor": 0,
 "worksheets": [
  {
   "cells": [
    {
     "cell_type": "code",
     "collapsed": false,
     "input": [
      "import numpy as np\n",
      "import scipy.io as sio\n",
      "from sklearn import svm\n",
      "from sklearn.metrics import accuracy_score\n",
      "import pickle"
     ],
     "language": "python",
     "metadata": {},
     "outputs": [],
     "prompt_number": 6
    },
    {
     "cell_type": "code",
     "collapsed": false,
     "input": [
      "#\u30c6\u30b9\u30c8\u30c7\u30fc\u30bf\u306e\u6b63\u89e3\u30e9\u30d9\u30eb\u8aad\u307f\u8fbc\u307f\n",
      "labels_test = pickle.load(open(\"labels_test.dump\", \"rb\"))"
     ],
     "language": "python",
     "metadata": {},
     "outputs": [],
     "prompt_number": 7
    },
    {
     "cell_type": "code",
     "collapsed": false,
     "input": [
      "#\u30d1\u30e9\u30e1\u30fc\u30bf\u3054\u3068\u306baccuracy\u8a08\u7b97\n",
      "for s in [2, 3, 4, 5]:\n",
      "    for K in [50, 100, 150]:\n",
      "        for T in [10, 30, 50]:\n",
      "            filename = 'lik_test_s%dK%dT%d.mat' % (s, K, T)\n",
      "            lik_test = sio.loadmat(filename)['lik_test']\n",
      "            labels_estimated = np.zeros(len(lik_test))\n",
      "            #\u5c24\u5ea6\u6700\u5927\u306e\u3082\u306e\u3092\u63a8\u5b9a\u3068\u3059\u308b\n",
      "            for t in range(len(lik_test)):\n",
      "                lik_test[t] = np.argmax(lik_test[t])\n",
      "            \n",
      "            print 's=%d, K=%d, T=%d: accuracy = %f' % (s, K, T, accuracy_score(labels_estimated, labels_test[T-1:]))\n"
     ],
     "language": "python",
     "metadata": {},
     "outputs": [
      {
       "output_type": "stream",
       "stream": "stdout",
       "text": [
        "s=2, K=50, T=10: accuracy = 0.546444\n",
        "s=2, K=50, T=30: accuracy = 0.545497\n",
        "s=2, K=50, T=50: accuracy = 0.546780"
       ]
      },
      {
       "output_type": "stream",
       "stream": "stdout",
       "text": [
        "\n",
        "s=2, K=100, T=10: accuracy = 0.546444\n",
        "s=2, K=100, T=30: accuracy = 0.545497"
       ]
      },
      {
       "output_type": "stream",
       "stream": "stdout",
       "text": [
        "\n",
        "s=2, K=100, T=50: accuracy = 0.546780\n",
        "s=2, K=150, T=10: accuracy = 0.546444"
       ]
      },
      {
       "output_type": "stream",
       "stream": "stdout",
       "text": [
        "\n",
        "s=2, K=150, T=30: accuracy = 0.545497\n",
        "s=2, K=150, T=50: accuracy = 0.546780"
       ]
      },
      {
       "output_type": "stream",
       "stream": "stdout",
       "text": [
        "\n",
        "s=3, K=50, T=10: accuracy = 0.546444\n",
        "s=3, K=50, T=30: accuracy = 0.545497"
       ]
      },
      {
       "output_type": "stream",
       "stream": "stdout",
       "text": [
        "\n",
        "s=3, K=50, T=50: accuracy = 0.546780\n",
        "s=3, K=100, T=10: accuracy = 0.546444"
       ]
      },
      {
       "output_type": "stream",
       "stream": "stdout",
       "text": [
        "\n",
        "s=3, K=100, T=30: accuracy = 0.545497\n",
        "s=3, K=100, T=50: accuracy = 0.546780"
       ]
      },
      {
       "output_type": "stream",
       "stream": "stdout",
       "text": [
        "\n",
        "s=3, K=150, T=10: accuracy = 0.546444\n",
        "s=3, K=150, T=30: accuracy = 0.545497"
       ]
      },
      {
       "output_type": "stream",
       "stream": "stdout",
       "text": [
        "\n",
        "s=3, K=150, T=50: accuracy = 0.546780\n",
        "s=4, K=50, T=10: accuracy = 0.546444"
       ]
      },
      {
       "output_type": "stream",
       "stream": "stdout",
       "text": [
        "\n",
        "s=4, K=50, T=30: accuracy = 0.545497\n",
        "s=4, K=50, T=50: accuracy = 0.546780"
       ]
      },
      {
       "output_type": "stream",
       "stream": "stdout",
       "text": [
        "\n",
        "s=4, K=100, T=10: accuracy = 0.546444\n",
        "s=4, K=100, T=30: accuracy = 0.545497"
       ]
      },
      {
       "output_type": "stream",
       "stream": "stdout",
       "text": [
        "\n",
        "s=4, K=100, T=50: accuracy = 0.546780\n",
        "s=4, K=150, T=10: accuracy = 0.546444"
       ]
      },
      {
       "output_type": "stream",
       "stream": "stdout",
       "text": [
        "\n",
        "s=4, K=150, T=30: accuracy = 0.545497"
       ]
      },
      {
       "output_type": "stream",
       "stream": "stdout",
       "text": [
        "\n",
        "s=4, K=150, T=50: accuracy = 0.546780"
       ]
      },
      {
       "output_type": "stream",
       "stream": "stdout",
       "text": [
        "\n",
        "s=5, K=50, T=10: accuracy = 0.546444\n",
        "s=5, K=50, T=30: accuracy = 0.545497"
       ]
      },
      {
       "output_type": "stream",
       "stream": "stdout",
       "text": [
        "\n",
        "s=5, K=50, T=50: accuracy = 0.546780"
       ]
      },
      {
       "output_type": "stream",
       "stream": "stdout",
       "text": [
        "\n",
        "s=5, K=100, T=10: accuracy = 0.546444\n",
        "s=5, K=100, T=30: accuracy = 0.545497"
       ]
      },
      {
       "output_type": "stream",
       "stream": "stdout",
       "text": [
        "\n",
        "s=5, K=100, T=50: accuracy = 0.546780"
       ]
      },
      {
       "output_type": "stream",
       "stream": "stdout",
       "text": [
        "\n",
        "s=5, K=150, T=10: accuracy = 0.546444"
       ]
      },
      {
       "output_type": "stream",
       "stream": "stdout",
       "text": [
        "\n",
        "s=5, K=150, T=30: accuracy = 0.545497"
       ]
      },
      {
       "output_type": "stream",
       "stream": "stdout",
       "text": [
        "\n",
        "s=5, K=150, T=50: accuracy = 0.546780"
       ]
      },
      {
       "output_type": "stream",
       "stream": "stdout",
       "text": [
        "\n"
       ]
      }
     ],
     "prompt_number": 8
    },
    {
     "cell_type": "code",
     "collapsed": false,
     "input": [],
     "language": "python",
     "metadata": {},
     "outputs": []
    }
   ],
   "metadata": {}
  }
 ]
}