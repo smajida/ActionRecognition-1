{
 "metadata": {
  "name": "",
  "signature": "sha256:5eead45ee185820773736edd9596c7953568f4c71d4db13941a54e6267d4f680"
 },
 "nbformat": 3,
 "nbformat_minor": 0,
 "worksheets": [
  {
   "cells": [
    {
     "cell_type": "markdown",
     "metadata": {},
     "source": [
      "#\u5b9f\u9a135\n",
      "##HMM\u306e\u30e2\u30c7\u30eb\u5909\u66f4 (\u5404\u884c\u52d5\u6bce\u306bHMM\u3092\u3064\u304f\u308b)\n",
      "\u96e2\u6563\u59ff\u52e2\u30e9\u30d9\u30eb\u5217\u306eMatlab\u7528\u5b66\u7fd2\u3001\u30c6\u30b9\u30c8\u30c7\u30fc\u30bf\u3092\u751f\u6210"
     ]
    },
    {
     "cell_type": "code",
     "collapsed": false,
     "input": [
      "import numpy as np\n",
      "from sklearn.cluster import KMeans\n",
      "import scipy.io as sio\n",
      "from sklearn import svm\n",
      "from sklearn import preprocessing\n",
      "from sklearn.metrics import accuracy_score\n",
      "import csv, pickle"
     ],
     "language": "python",
     "metadata": {},
     "outputs": [],
     "prompt_number": 28
    },
    {
     "cell_type": "code",
     "collapsed": false,
     "input": [
      "###\u5b66\u7fd2\u30c7\u30fc\u30bf\n",
      "#BVH\u306e\u8aad\u307f\u8fbc\u307f\n",
      "mocap_train = np.genfromtxt('../tum_kitchen_dataset/poses_train.bvh', delimiter=\" \")\n",
      "#print data\n",
      "print mocap_train.shape"
     ],
     "language": "python",
     "metadata": {},
     "outputs": [],
     "prompt_number": 4
    },
    {
     "cell_type": "code",
     "collapsed": false,
     "input": [
      "#\u5b66\u7fd2\u5f8c\u306eKmeanns\u30e2\u30c7\u30eb\u8aad\u307f\u8fbc\u307f\n",
      "kmeans = pickle.load(open('kmeans_left_150.dump', 'r'))"
     ],
     "language": "python",
     "metadata": {},
     "outputs": [],
     "prompt_number": 3
    },
    {
     "cell_type": "code",
     "collapsed": false,
     "input": [
      "#\u5b66\u7fd2\u59ff\u52e2\u30e9\u30d9\u30eb\u5217\u3092\u5f97\u308b\n",
      "postures_train_num = kmeans.labels_\n",
      "print postures_train_num, len(postures_train_num)"
     ],
     "language": "python",
     "metadata": {},
     "outputs": [
      {
       "output_type": "stream",
       "stream": "stdout",
       "text": [
        "[ 35  35  35 ..., 127 127 127] 26059\n"
       ]
      }
     ],
     "prompt_number": 6
    },
    {
     "cell_type": "code",
     "collapsed": false,
     "input": [
      "#\u5b66\u7fd2\u30e9\u30d9\u30eb\u30c7\u30fc\u30bf\u306e\u8aad\u307f\u8fbc\u307f\n",
      "#import csv\n",
      "f_train = open('../tum_kitchen_dataset/labels_train.csv')\n",
      "reader_train = csv.reader(f_train)\n",
      "\n",
      "labels_train_str = []\n",
      "\n",
      "#lefthand\u306e\u5217\u3092labels\u306b\u62bd\u51fa\n",
      "for row in reader_train:\n",
      "    #print row\n",
      "    if row[0] == 'instance':\n",
      "        pass\n",
      "    else:\n",
      "        labels_train_str.append(row[1])\n",
      "\n",
      "print labels_train_str[::2000]\n",
      "print len(labels_train_str)"
     ],
     "language": "python",
     "metadata": {},
     "outputs": [
      {
       "output_type": "stream",
       "stream": "stdout",
       "text": [
        "['CarryingWhileLocomoting', 'OpeningADrawer', 'Reaching', 'CarryingWhileLocomoting', 'TakingSomething', 'ClosingADrawer', 'CarryingWhileLocomoting', 'CarryingWhileLocomoting', 'CarryingWhileLocomoting', 'CarryingWhileLocomoting', 'ClosingADoor', 'CarryingWhileLocomoting', 'CarryingWhileLocomoting', 'CarryingWhileLocomoting']\n",
        "26059\n"
       ]
      }
     ],
     "prompt_number": 7
    },
    {
     "cell_type": "code",
     "collapsed": false,
     "input": [
      "#\u5b66\u7fd2\u30e9\u30d9\u30eb\u30c7\u30fc\u30bf\u306e\u6570\u5024\u3078\u306e\u5909\u63db\n",
      "#from sklearn import preprocessing\n",
      "le = preprocessing.LabelEncoder()\n",
      "\n",
      "le.fit(labels_train_str)\n",
      "\n",
      "print le.classes_, len(le.classes_)\n",
      "\n",
      "labels_train = le.transform(labels_train_str)\n",
      "print labels_train[::1000], len(labels_train)"
     ],
     "language": "python",
     "metadata": {},
     "outputs": [
      {
       "output_type": "stream",
       "stream": "stdout",
       "text": [
        "['CarryingWhileLocomoting' 'ClosingADoor' 'ClosingADrawer'\n",
        " 'LoweringAnObject' 'OpeningADoor' 'OpeningADrawer' 'Reaching'\n",
        " 'ReleasingGraspOfSomething' 'TakingSomething'] 9\n",
        "[0 0 5 0 6 7 0 0 8 0 2 0 0 4 0 0 0 5 0 2 1 7 0 8 0 7 0] 26059\n"
       ]
      }
     ],
     "prompt_number": 9
    },
    {
     "cell_type": "code",
     "collapsed": false,
     "input": [
      "#\u96e2\u6563\u59ff\u52e2\u30e9\u30d9\u30eb\u5217\u3092lenSeq\u306e\u9577\u3055\u306b\u5206\u5272\n",
      "\n",
      "#\u5404\u884c\u52d5\u6bce\u306e\u5b66\u7fd2\u30c7\u30fc\u30bf\u4fdd\u5b58\u7528\u30ea\u30b9\u30c8\n",
      "posSeq = [None] * 9\n",
      "# for i in range(len(posSeq)):\n",
      "#     posSeq[i] = \n",
      "\n",
      "lenSeq = 50\n",
      "for i in range(len(postures_train_num)-(lenSeq-1)):\n",
      "    seq = postures_train_num[i:i+lenSeq]\n",
      "    if posSeq[labels_train[i]] == None: #\u5bfe\u5fdc\u3059\u308b\u884c\u52d5\u30e9\u30d9\u30eb\u304cNone\u306a\u3089\u305d\u306e\u307e\u307e\u4ee3\u5165\n",
      "        posSeq[labels_train[i]] = seq\n",
      "    else:\n",
      "        posSeq[labels_train[i]] = np.vstack((posSeq[labels_train[i]], seq)) #\u884c\u65b9\u5411\u306b\u59ff\u52e2\u30b7\u30fc\u30b1\u30f3\u30b9\u3092\u7d50\u5408"
     ],
     "language": "python",
     "metadata": {},
     "outputs": [],
     "prompt_number": 26
    },
    {
     "cell_type": "code",
     "collapsed": false,
     "input": [
      "#\u5404\u884c\u52d5\u6bce\u306e\u30b7\u30fc\u30b1\u30f3\u30b9\u306e\u30b5\u30f3\u30d7\u30eb\u6570\u3092\u78ba\u8a8d\n",
      "for l in range(9):\n",
      "    print posSeq[l].shape\n",
      "\n",
      "#mat\u30d5\u30a1\u30a4\u30eb\u306bHMM\u306e\u5b66\u7fd2\u30c7\u30fc\u30bf\u3092\u4fdd\u5b58\n",
      "sio.savemat(\"posSeq_train\", {\"posSeq_train\": posSeq})"
     ],
     "language": "python",
     "metadata": {},
     "outputs": [
      {
       "output_type": "stream",
       "stream": "stdout",
       "text": [
        "(14492, 50)\n",
        "(1156, 50)\n",
        "(1015, 50)\n",
        "(1070, 50)\n",
        "(1686, 50)\n",
        "(1255, 50)\n",
        "(2268, 50)\n",
        "(2206, 50)\n",
        "(862, 50)\n"
       ]
      }
     ],
     "prompt_number": 33
    },
    {
     "cell_type": "code",
     "collapsed": false,
     "input": [
      "print seq, len(seq)\n",
      "print postures_train_num[:50], len(postures_train_num[:50])"
     ],
     "language": "python",
     "metadata": {},
     "outputs": [
      {
       "output_type": "stream",
       "stream": "stdout",
       "text": [
        "[ 35  35  35   2   2   2   2   2   2  35  35  35  35  35  90  90  90  90\n",
        " 127 127 127 127 127 127 127 127  13  13  13 138  54 112 112 139 139 139\n",
        "  10  10  39  39  39  39  39  39  39  39  39  39  39  39] 50\n",
        "[ 35  35  35   2   2   2   2   2   2  35  35  35  35  35  90  90  90  90\n",
        " 127 127 127 127 127 127 127 127  13  13  13 138  54 112 112 139 139 139\n",
        "  10  10  39  39  39  39  39  39  39  39  39  39  39  39] 50\n"
       ]
      }
     ],
     "prompt_number": 19
    },
    {
     "cell_type": "code",
     "collapsed": false,
     "input": [],
     "language": "python",
     "metadata": {},
     "outputs": []
    }
   ],
   "metadata": {}
  }
 ]
}