{
 "metadata": {
  "name": "",
  "signature": "sha256:a47255c96e6a74d0f58fe61f39ccd06bfdc8e72d32ed60e8637717a2db3d9146"
 },
 "nbformat": 3,
 "nbformat_minor": 0,
 "worksheets": [
  {
   "cells": [
    {
     "cell_type": "markdown",
     "metadata": {},
     "source": [
      "#SVM\u306b\u3088\u308b\u884c\u52d5\u8a8d\u8b58 \u5b9f\u9a131"
     ]
    },
    {
     "cell_type": "markdown",
     "metadata": {},
     "source": [
      "**\u5b66\u7fd2\u30c7\u30fc\u30bf:ID0-1, 0-7, 0-8**  \n",
      "**\u30c6\u30b9\u30c8\u30c7\u30fc\u30bf:ID0-0**  \n",
      "\u5b66\u7fd2\u30c7\u30fc\u30bf\u306e0-7\u30680-8\u306ebvh\u306f\u30e9\u30d9\u30eb\u3068\u9577\u3055\u3092\u63c3\u3048\u308b\u305f\u3081\u306b\u305d\u308c\u305e\u308c\u6700\u5f8c\u306e1\u30d5\u30ec\u30fc\u30e0\u3092\u6d88\u53bb\u3057\u305f.  \n",
      "\u7279\u5fb4\u91cf\u306fn\u30d5\u30ec\u30fc\u30e0\u306e\u30b9\u30e9\u30a4\u30c7\u30a3\u30f3\u30b0\u30a6\u30a3\u30f3\u30c9\u30a6\u3068\u3059\u308b."
     ]
    },
    {
     "cell_type": "code",
     "collapsed": false,
     "input": [
      "import numpy as np\n",
      "from sklearn.cluster import KMeans\n",
      "from sklearn import svm"
     ],
     "language": "python",
     "metadata": {},
     "outputs": [],
     "prompt_number": 2
    },
    {
     "cell_type": "markdown",
     "metadata": {},
     "source": [
      "##\u5b66\u7fd2\u30c7\u30fc\u30bf\u306e\u4f5c\u6210  \n",
      "\u59ff\u52e2\u5217: postures  \n",
      "\u30e9\u30d9\u30eb\u5217: labels_transformed\n",
      "\n",
      "\u7279\u5fb4\u91cf: features_train  \n",
      "\u5b66\u7fd2\u30e9\u30d9\u30eb\u5217(labels_transformed\u306e\u524d9\u500b\u306e\u8981\u7d20\u3092\u524a\u9664): labels_train"
     ]
    },
    {
     "cell_type": "code",
     "collapsed": false,
     "input": [
      "###\u5b66\u7fd2\u30c7\u30fc\u30bf\u306e\u4f5c\u6210\n",
      "\n",
      "# \u30c7\u30fc\u30bf\u306e\u8aad\u307f\u8fbc\u307f\n",
      "data = np.genfromtxt('poses0_178_motion.bvh', delimiter=\" \")\n",
      "print data\n",
      "print data.shape"
     ],
     "language": "python",
     "metadata": {},
     "outputs": [
      {
       "output_type": "stream",
       "stream": "stdout",
       "text": [
        "[[  1.36482000e+03   2.41876000e+03   8.40791000e+02 ...,   1.16165000e-15\n",
        "   -9.93923000e-17  -0.00000000e+00]\n",
        " [  1.35332000e+03   2.42568000e+03   8.24603000e+02 ...,   1.98785000e-16\n",
        "    5.72958000e-02   3.97570000e-16]\n",
        " [  1.35050000e+03   2.42657000e+03   8.23453000e+02 ...,  -3.79441000e-03\n",
        "    1.64059000e-01  -1.60113000e-02]\n",
        " ..., \n",
        " [  1.94791000e+03   2.92740000e+03   8.01909000e+02 ...,   3.18824000e-02\n",
        "   -1.54760000e+01  -1.98469000e-02]\n",
        " [  1.95647000e+03   2.93089000e+03   7.98597000e+02 ...,   3.98925000e-02\n",
        "   -1.50434000e+01   2.52504000e-02]\n",
        " [  1.96449000e+03   2.93495000e+03   7.92959000e+02 ...,   5.41576000e-15\n",
        "   -1.43812000e+01  -4.10430000e-16]]\n",
        "(4039, 87)\n"
       ]
      }
     ],
     "prompt_number": 4
    },
    {
     "cell_type": "code",
     "collapsed": false,
     "input": [
      "#\u53f3\u8155\u90e8\u5206\u306e\u30c7\u30fc\u30bf\u3092\u53d6\u308a\u51fa\u3059\n",
      "right_hand_data = data[:, 24:40]\n",
      "right_hand_data"
     ],
     "language": "python",
     "metadata": {},
     "outputs": [
      {
       "metadata": {},
       "output_type": "pyout",
       "prompt_number": 5,
       "text": [
        "array([[  3.10601000e-16,   0.00000000e+00,  -5.21392000e+00, ...,\n",
        "         -7.95139000e-16,   9.54166000e-15,   3.10601000e-16],\n",
        "       [ -2.11994000e+00,  -8.94531000e-16,  -2.57831000e+00, ...,\n",
        "          9.54166000e-15,  -0.00000000e+00,   1.23186000e+01],\n",
        "       [ -6.30842000e-01,   1.83207000e-02,  -3.21344000e-01, ...,\n",
        "         -5.22996000e-06,  -5.40694000e-14,   1.08134000e+01],\n",
        "       ..., \n",
        "       [  6.00139000e+00,   6.94289000e-02,  -1.35466000e+01, ...,\n",
        "          2.80295000e-08,  -0.00000000e+00,   5.17098000e+00],\n",
        "       [  7.29726000e+00,   7.30141000e-02,  -1.29633000e+01, ...,\n",
        "          5.63880000e-08,  -0.00000000e+00,   7.51370000e+00],\n",
        "       [  6.80505000e+00,   1.05744000e-01,  -1.26624000e+01, ...,\n",
        "          5.16840000e-15,   6.36111000e-15,   9.52180000e+00]])"
       ]
      }
     ],
     "prompt_number": 5
    },
    {
     "cell_type": "code",
     "collapsed": false,
     "input": [
      "#kmeans\u306e\u5b9f\u884c\n",
      "k_means = KMeans(n_clusters=20) #\u30af\u30e9\u30b9\u30bf\u657020\n",
      "k_means.fit(right_hand_data)"
     ],
     "language": "python",
     "metadata": {},
     "outputs": [
      {
       "metadata": {},
       "output_type": "pyout",
       "prompt_number": 6,
       "text": [
        "KMeans(copy_x=True, init='k-means++', max_iter=300, n_clusters=20, n_init=10,\n",
        "    n_jobs=1, precompute_distances=True, random_state=None, tol=0.0001,\n",
        "    verbose=0)"
       ]
      }
     ],
     "prompt_number": 6
    },
    {
     "cell_type": "code",
     "collapsed": false,
     "input": [
      "postures = k_means.labels_\n",
      "print postures\n",
      "print len(postures)"
     ],
     "language": "python",
     "metadata": {},
     "outputs": [
      {
       "output_type": "stream",
       "stream": "stdout",
       "text": [
        "[16  5 16 ..., 16 16 16]\n",
        "4039\n"
       ]
      }
     ],
     "prompt_number": 7
    },
    {
     "cell_type": "code",
     "collapsed": false,
     "input": [
      "#\u30e9\u30d9\u30eb\u30c7\u30fc\u30bf\u306e\u524d\u51e6\u7406\n",
      "import csv\n",
      "f = open('labels0_178.csv')\n",
      "reader = csv.reader(f)\n",
      "\n",
      "labels = []\n",
      "\n",
      "#righthand\u306e\u5217\u3092labels\u306b\u62bd\u51fa\n",
      "for row in reader:\n",
      "    #print row\n",
      "    if row[0] == 'instance':\n",
      "        pass\n",
      "    else:\n",
      "        labels.append(row[2])\n",
      "\n",
      "#print labels[:41]\n",
      "print len(labels)"
     ],
     "language": "python",
     "metadata": {},
     "outputs": [
      {
       "output_type": "stream",
       "stream": "stdout",
       "text": [
        "4039\n"
       ]
      }
     ],
     "prompt_number": 8
    },
    {
     "cell_type": "code",
     "collapsed": false,
     "input": [
      "#\u30e9\u30d9\u30eb\u306e\u6570\u5024\u3078\u306e\u5909\u63db\n",
      "from sklearn import preprocessing\n",
      "le = preprocessing.LabelEncoder()\n",
      "\n",
      "le.fit(labels)\n",
      "\n",
      "print le.classes_\n",
      "\n",
      "labels_transformed = le.transform(labels)"
     ],
     "language": "python",
     "metadata": {},
     "outputs": [
      {
       "output_type": "stream",
       "stream": "stdout",
       "text": [
        "['CarryingWhileLocomoting' 'ClosingADrawer' 'LoweringAnObject'\n",
        " 'OpeningADrawer' 'Reaching' 'ReleasingGraspOfSomething' 'TakingSomething']\n"
       ]
      }
     ],
     "prompt_number": 9
    },
    {
     "cell_type": "code",
     "collapsed": false,
     "input": [
      "#\u5b66\u7fd2\u7528\u306e\u7279\u5fb4\u91cf\u306e\u751f\u6210\n",
      "window_length = 2\n",
      "features_float = np.empty((len(postures)-(window_length-1), window_length))\n",
      "\n",
      "for i in xrange(window_length-1, len(postures)):\n",
      "    x_feature = np.empty(window_length) \n",
      "    for j in xrange(window_length):\n",
      "        x_feature[j] = postures[i - j]\n",
      "\n",
      "        features_float[i-(window_length-1), :] = x_feature\n",
      "        features_train = features_float.astype(int) #int\u578b\u3078\u306e\u5909\u63db\n",
      "        \n",
      "print features_train\n",
      "print features_train.shape\n",
      "\n",
      "#features\u306e\u9577\u3055\u306b\u5408\u308f\u305b\u308b\u305f\u3081\u306b\u30e9\u30d9\u30eb\u5217\u306e\u524d9\u500b\u3092\u6d88\u53bb\n",
      "labels_train = labels_transformed[window_length-1:]\n",
      "print labels_train\n",
      "print len(labels_train)"
     ],
     "language": "python",
     "metadata": {},
     "outputs": [
      {
       "output_type": "stream",
       "stream": "stdout",
       "text": [
        "[[ 5 16]\n",
        " [16  5]\n",
        " [16 16]\n",
        " ..., \n",
        " [16 16]\n",
        " [16 16]\n",
        " [16 16]]\n",
        "(4038, 2)\n",
        "[0 0 0 ..., 0 0 0]\n",
        "4038\n"
       ]
      }
     ],
     "prompt_number": 10
    },
    {
     "cell_type": "markdown",
     "metadata": {},
     "source": [
      "##\u30c6\u30b9\u30c8\u30c7\u30fc\u30bf\u306e\u4f5c\u6210\n",
      "\u59ff\u52e2\u5217: postures_test  \n",
      "\u30e9\u30d9\u30eb\u5217(\u6b63\u89e3\u30e9\u30d9\u30eb): labels_test_transformed\n",
      "\n",
      "\u7279\u5fb4\u91cf: features_test  \n",
      "\u5b66\u7fd2\u30e9\u30d9\u30eb\u5217(labels_test_transformed\u306e\u524d9\u500b\u306e\u8981\u7d20\u3092\u524a\u9664): labels_test"
     ]
    },
    {
     "cell_type": "code",
     "collapsed": false,
     "input": [
      "#\u30c6\u30b9\u30c8\u30c7\u30fc\u30bf\u306e\u4f5c\u6210\n",
      "\n",
      "#bvh\u8aad\u307f\u8fbc\u307f\n",
      "data00 = np.genfromtxt('poses0_0_motion.bvh', delimiter=\" \")\n",
      "print data00\n",
      "print data.shape"
     ],
     "language": "python",
     "metadata": {},
     "outputs": [
      {
       "output_type": "stream",
       "stream": "stdout",
       "text": [
        "[[  1.44182000e+03   2.42876000e+03   8.40791000e+02 ...,   5.59082000e-16\n",
        "   -3.97569000e-16  -3.97569000e-16]\n",
        " [  1.43475000e+03   2.41514000e+03   8.23587000e+02 ...,   6.08778000e-15\n",
        "   -4.34841000e-16  -3.18055000e-15]\n",
        " [  1.42954000e+03   2.41581000e+03   8.30492000e+02 ...,  -3.39268000e-05\n",
        "    9.78586000e-02  -9.19797000e-03]\n",
        " ..., \n",
        " [  2.32445000e+03   3.10248000e+03   7.95724000e+02 ...,   2.36319000e-03\n",
        "    9.35058000e+00  -1.92959000e-02]\n",
        " [  2.35272000e+03   3.12435000e+03   7.98123000e+02 ...,   1.04705000e-14\n",
        "    9.16732000e+00   2.41628000e-15]\n",
        " [  2.39298000e+03   3.13412000e+03   7.94829000e+02 ...,   8.04787000e-16\n",
        "    8.88085000e+00  -8.04787000e-15]]\n",
        "(4039, 87)\n"
       ]
      }
     ],
     "prompt_number": 11
    },
    {
     "cell_type": "code",
     "collapsed": false,
     "input": [
      "right_hand_data00 = data00[:, 24:40]\n",
      "right_hand_data00"
     ],
     "language": "python",
     "metadata": {},
     "outputs": [
      {
       "metadata": {},
       "output_type": "pyout",
       "prompt_number": 12,
       "text": [
        "array([[  2.60128000e-17,   0.00000000e+00,  -5.21392000e+00, ...,\n",
        "         -1.59028000e-15,  -6.36111000e-15,   2.60128000e-17],\n",
        "       [ -1.29210000e-15,   3.18055000e-15,  -6.07335000e+00, ...,\n",
        "          8.74653000e-15,  -2.54444000e-14,   1.77617000e+00],\n",
        "       [ -1.50650000e+00,   1.38311000e-02,  -4.17819000e+00, ...,\n",
        "          9.62114000e-09,   3.18055000e-15,   2.75192000e+00],\n",
        "       ..., \n",
        "       [ -2.27627000e+00,  -5.54221000e-01,   1.61484000e+01, ...,\n",
        "          1.96199000e-07,  -3.18055000e-15,  -8.22263000e+00],\n",
        "       [ -7.29303000e-01,  -5.68309000e-01,   1.73037000e+01, ...,\n",
        "         -7.95139000e-15,  -0.00000000e+00,  -5.36006000e+00],\n",
        "       [ -5.87625000e-01,  -5.71370000e-01,   1.42669000e+01, ...,\n",
        "          6.36111000e-15,   1.59028000e-14,  -3.90904000e+00]])"
       ]
      }
     ],
     "prompt_number": 12
    },
    {
     "cell_type": "code",
     "collapsed": false,
     "input": [
      "#\u5b66\u7fd2\u30c7\u30fc\u30bf\u306e\u524d\u51e6\u7406\u3067\u5b66\u7fd2\u3057\u305f\u30e2\u30c7\u30ebk_means\u3067\u30c6\u30b9\u30c8\u30c7\u30fc\u30bf\u306eposture\u5217\u3092\u4e88\u6e2c. k=20\n",
      "postures_test = k_means.predict(right_hand_data00)\n",
      "print postures_test, len(postures_test)"
     ],
     "language": "python",
     "metadata": {},
     "outputs": [
      {
       "output_type": "stream",
       "stream": "stdout",
       "text": [
        "[ 5  5  5 ..., 16 16  0] 1241\n"
       ]
      }
     ],
     "prompt_number": 13
    },
    {
     "cell_type": "code",
     "collapsed": false,
     "input": [
      "#\u30c6\u30b9\u30c8\u30c7\u30fc\u30bf\u306e\u6b63\u89e3\u30e9\u30d9\u30eb\u524d\u51e6\u7406\n",
      "import csv\n",
      "f_test = open('labels0_0.csv')\n",
      "reader_test = csv.reader(f_test)\n",
      "\n",
      "labels_test_str = []\n",
      "\n",
      "#righthand\u306e\u5217\u3092labels\u306b\u62bd\u51fa\n",
      "for row in reader_test:\n",
      "    #print row\n",
      "    if row[0] == 'instance':\n",
      "        pass\n",
      "    else:\n",
      "        labels_test_str.append(row[2])\n",
      "\n",
      "#print labels_test[:41]\n",
      "print len(labels_test_str)\n",
      "\n",
      "#\u6570\u5024\u30e9\u30d9\u30eb\u3078\u306e\u5909\u63db\n",
      "labels_test_transformed = le.transform(labels_test_str)"
     ],
     "language": "python",
     "metadata": {},
     "outputs": [
      {
       "output_type": "stream",
       "stream": "stdout",
       "text": [
        "1241\n"
       ]
      }
     ],
     "prompt_number": 14
    },
    {
     "cell_type": "code",
     "collapsed": false,
     "input": [
      "#\u30c6\u30b9\u30c8\u7528\u306e\u7279\u5fb4\u91cf\u306e\u751f\u6210\n",
      "window_length = 2\n",
      "features_test_float = np.empty((len(postures_test)-(window_length-1), window_length))\n",
      "\n",
      "for i in xrange(window_length-1, len(postures_test)):\n",
      "    x_feature = np.empty(window_length) \n",
      "    for j in xrange(window_length):\n",
      "        x_feature[j] = postures_test[i - j]\n",
      "\n",
      "        features_test_float[i-(window_length-1), :] = x_feature\n",
      "        features_test = features_test_float.astype(int) #int\u578b\u3078\u306e\u5909\u63db\n",
      "        \n",
      "print features_test\n",
      "print features_test.shape\n",
      "\n",
      "#features\u306e\u9577\u3055\u306b\u5408\u308f\u305b\u308b\u305f\u3081\u306b\u30e9\u30d9\u30eb\u5217\u306e\u524d9\u500b\u3092\u6d88\u53bb\n",
      "labels_test = labels_test_transformed[window_length-1:]\n",
      "print labels_test\n",
      "print len(labels_test)"
     ],
     "language": "python",
     "metadata": {},
     "outputs": [
      {
       "output_type": "stream",
       "stream": "stdout",
       "text": [
        "[[ 5  5]\n",
        " [ 5  5]\n",
        " [ 5  5]\n",
        " ..., \n",
        " [16 12]\n",
        " [16 16]\n",
        " [ 0 16]]\n",
        "(1240, 2)\n",
        "[0 0 0 ..., 0 0 0]\n",
        "1240\n"
       ]
      }
     ],
     "prompt_number": 18
    },
    {
     "cell_type": "markdown",
     "metadata": {},
     "source": [
      "##SVM\u306b\u3088\u308b\u5b66\u7fd2\u3001\u30c6\u30b9\u30c8"
     ]
    },
    {
     "cell_type": "code",
     "collapsed": false,
     "input": [
      "svm_clf = svm.SVC()\n",
      "svm_clf.fit(features_train, labels_train)"
     ],
     "language": "python",
     "metadata": {},
     "outputs": [
      {
       "metadata": {},
       "output_type": "pyout",
       "prompt_number": 19,
       "text": [
        "SVC(C=1.0, cache_size=200, class_weight=None, coef0=0.0, degree=3, gamma=0.0,\n",
        "  kernel='rbf', max_iter=-1, probability=False, random_state=None,\n",
        "  shrinking=True, tol=0.001, verbose=False)"
       ]
      }
     ],
     "prompt_number": 19
    },
    {
     "cell_type": "code",
     "collapsed": false,
     "input": [
      "labels_predicted = svm_clf.predict(features_test)\n",
      "print labels_predicted[::20], len(labels_predicted)"
     ],
     "language": "python",
     "metadata": {},
     "outputs": [
      {
       "output_type": "stream",
       "stream": "stdout",
       "text": [
        "[0 0 0 0 0 2 0 0 0 0 2 0 0 0 2 0 0 0 6 6 6 6 0 0 5 2 0 0 2 0 5 0 2 2 0 4 2\n",
        " 0 5 0 5 5 0 0 0 5 0 0 0 5 5 0 0 0 6 6 0 0 0 2 2 0] 1240\n"
       ]
      }
     ],
     "prompt_number": 20
    },
    {
     "cell_type": "code",
     "collapsed": false,
     "input": [
      "#\u6b63\u89e3\u7387\u3092\u8a08\u7b97\n",
      "count = 0\n",
      "for i in range(len(labels_predicted)):\n",
      "    if labels_predicted[i] == labels_test[i]:\n",
      "        count += 1\n",
      "precision = count / np.float(len(labels_predicted))        \n",
      "print 'count=%d' % count\n",
      "print 'precision=%f' % precision"
     ],
     "language": "python",
     "metadata": {},
     "outputs": [
      {
       "output_type": "stream",
       "stream": "stdout",
       "text": [
        "count=693\n",
        "precision=0.558871\n"
       ]
      }
     ],
     "prompt_number": 21
    },
    {
     "cell_type": "code",
     "collapsed": false,
     "input": [],
     "language": "python",
     "metadata": {},
     "outputs": []
    }
   ],
   "metadata": {}
  }
 ]
}