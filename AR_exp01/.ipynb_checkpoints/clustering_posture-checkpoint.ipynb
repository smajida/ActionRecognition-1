{
 "metadata": {
  "name": "",
  "signature": "sha256:fcaac0a94abd8374f8f5f4f5ba21db20bd3584e1c431e591d83b31ae57e908fa"
 },
 "nbformat": 3,
 "nbformat_minor": 0,
 "worksheets": [
  {
   "cells": [
    {
     "cell_type": "markdown",
     "metadata": {},
     "source": [
      "#K-means\u306b\u3088\u308b\u59ff\u52e2\u306e\u30af\u30e9\u30b9\u30bf\u30ea\u30f3\u30b0"
     ]
    },
    {
     "cell_type": "code",
     "collapsed": false,
     "input": [
      "import numpy as np\n",
      "from sklearn.cluster import KMeans"
     ],
     "language": "python",
     "metadata": {},
     "outputs": [],
     "prompt_number": 21
    },
    {
     "cell_type": "code",
     "collapsed": false,
     "input": [
      "###\u30c7\u30fc\u30bf\u306e\u524d\u51e6\u7406\n",
      "\n",
      "# \u30c7\u30fc\u30bf\u306e\u8aad\u307f\u8fbc\u307f\n",
      "data = np.genfromtxt('poses0_0_motion.bvh', delimiter=\" \")\n",
      "print data\n",
      "print data.shape"
     ],
     "language": "python",
     "metadata": {},
     "outputs": [
      {
       "output_type": "stream",
       "stream": "stdout",
       "text": [
        "[[  1.44182000e+03   2.42876000e+03   8.40791000e+02 ...,   5.59082000e-16\n",
        "   -3.97569000e-16  -3.97569000e-16]\n",
        " [  1.43475000e+03   2.41514000e+03   8.23587000e+02 ...,   6.08778000e-15\n",
        "   -4.34841000e-16  -3.18055000e-15]\n",
        " [  1.42954000e+03   2.41581000e+03   8.30492000e+02 ...,  -3.39268000e-05\n",
        "    9.78586000e-02  -9.19797000e-03]\n",
        " ..., \n",
        " [  2.32445000e+03   3.10248000e+03   7.95724000e+02 ...,   2.36319000e-03\n",
        "    9.35058000e+00  -1.92959000e-02]\n",
        " [  2.35272000e+03   3.12435000e+03   7.98123000e+02 ...,   1.04705000e-14\n",
        "    9.16732000e+00   2.41628000e-15]\n",
        " [  2.39298000e+03   3.13412000e+03   7.94829000e+02 ...,   8.04787000e-16\n",
        "    8.88085000e+00  -8.04787000e-15]]\n",
        "(1241, 87)\n"
       ]
      }
     ],
     "prompt_number": 3
    },
    {
     "cell_type": "code",
     "collapsed": false,
     "input": [
      "#\u53f3\u8155\u90e8\u5206\u306e\u30c7\u30fc\u30bf\u3092\u53d6\u308a\u51fa\u3059\n",
      "right_hand_data = data[:, 24:40]\n",
      "right_hand_data"
     ],
     "language": "python",
     "metadata": {},
     "outputs": [
      {
       "metadata": {},
       "output_type": "pyout",
       "prompt_number": 4,
       "text": [
        "array([[  2.60128000e-17,   0.00000000e+00,  -5.21392000e+00, ...,\n",
        "         -1.59028000e-15,  -6.36111000e-15,   2.60128000e-17],\n",
        "       [ -1.29210000e-15,   3.18055000e-15,  -6.07335000e+00, ...,\n",
        "          8.74653000e-15,  -2.54444000e-14,   1.77617000e+00],\n",
        "       [ -1.50650000e+00,   1.38311000e-02,  -4.17819000e+00, ...,\n",
        "          9.62114000e-09,   3.18055000e-15,   2.75192000e+00],\n",
        "       ..., \n",
        "       [ -2.27627000e+00,  -5.54221000e-01,   1.61484000e+01, ...,\n",
        "          1.96199000e-07,  -3.18055000e-15,  -8.22263000e+00],\n",
        "       [ -7.29303000e-01,  -5.68309000e-01,   1.73037000e+01, ...,\n",
        "         -7.95139000e-15,  -0.00000000e+00,  -5.36006000e+00],\n",
        "       [ -5.87625000e-01,  -5.71370000e-01,   1.42669000e+01, ...,\n",
        "          6.36111000e-15,   1.59028000e-14,  -3.90904000e+00]])"
       ]
      }
     ],
     "prompt_number": 4
    },
    {
     "cell_type": "code",
     "collapsed": false,
     "input": [
      "#kmeans\u306e\u5b9f\u884c\n",
      "k_means = KMeans(n_clusters=20)\n",
      "k_means.fit(right_hand_data)"
     ],
     "language": "python",
     "metadata": {},
     "outputs": [
      {
       "metadata": {},
       "output_type": "pyout",
       "prompt_number": 5,
       "text": [
        "KMeans(copy_x=True, init='k-means++', max_iter=300, n_clusters=20, n_init=10,\n",
        "    n_jobs=1, precompute_distances=True, random_state=None, tol=0.0001,\n",
        "    verbose=0)"
       ]
      }
     ],
     "prompt_number": 5
    },
    {
     "cell_type": "code",
     "collapsed": false,
     "input": [
      "k_means.labels_[::5]"
     ],
     "language": "python",
     "metadata": {},
     "outputs": [
      {
       "metadata": {},
       "output_type": "pyout",
       "prompt_number": 6,
       "text": [
        "array([ 4,  4, 12, 12, 12,  6,  6,  6,  6,  6,  6, 18,  6,  6,  6,  6,  6,\n",
        "        6, 16, 16, 16, 14, 14, 14, 14, 14, 14, 14, 12,  0,  0,  0, 12, 12,\n",
        "       12,  6,  4,  3,  3,  3,  3,  2,  2, 18, 18, 18, 18, 18,  6,  6,  0,\n",
        "        0, 16, 16, 16, 16, 16, 16,  0, 16, 12, 12, 12,  0,  0,  0,  0, 18,\n",
        "       18, 11, 11, 15, 15, 15,  3, 19, 10, 10, 10,  2,  2,  2,  2,  2,  2,\n",
        "       11, 18, 18, 18,  9,  8,  9,  9, 13, 13,  1, 15, 15, 15, 16, 16, 16,\n",
        "        0,  0, 16, 16, 16, 16, 13, 13, 13, 13, 13, 13, 13, 13, 13, 13, 13,\n",
        "        3,  3,  3,  4,  9,  9,  9,  9,  4,  7,  7,  7,  7,  7,  3,  4,  4,\n",
        "        4,  4,  4,  4,  4,  7,  7, 15, 15,  0,  0, 16, 16,  1,  1,  3,  3,\n",
        "        3,  0, 13, 13, 13,  0, 15,  3,  3,  3,  3,  3,  3,  4,  4,  4,  4,\n",
        "        4,  0,  0, 16, 16, 16, 16,  1,  1,  1,  1,  1,  1, 16,  9,  9,  9,\n",
        "        9,  9,  9,  9,  9,  9,  9,  4,  4,  7,  7,  3,  3,  3,  3,  2,  6,\n",
        "        0,  0,  0,  0,  0,  0,  0,  0,  5, 18, 11, 10, 10, 19, 19, 10,  2,\n",
        "        2, 11, 11, 11, 11, 11, 18, 18, 18, 18, 11, 18, 11,  0, 15, 15, 15,\n",
        "       15, 15, 15,  3,  0,  0,  0, 12, 12, 12, 12], dtype=int32)"
       ]
      }
     ],
     "prompt_number": 6
    },
    {
     "cell_type": "code",
     "collapsed": false,
     "input": [
      "#\u30e9\u30d9\u30eb\u306e\u524d\u51e6\u7406\n",
      "import csv\n",
      "f = open('labels0_0.csv')\n",
      "reader = csv.reader(f)\n",
      "\n",
      "labels = []\n",
      "\n",
      "#righthand\u306e\u5217\u3092labels\u306b\u62bd\u51fa\n",
      "for row in reader:\n",
      "    #print row\n",
      "    if row[0] == 'instance':\n",
      "        pass\n",
      "    else:\n",
      "        labels.append(row[2])\n",
      "\n",
      "print labels[:41]\n",
      "print len(labels)"
     ],
     "language": "python",
     "metadata": {},
     "outputs": [
      {
       "output_type": "stream",
       "stream": "stdout",
       "text": [
        "['CarryingWhileLocomoting', 'CarryingWhileLocomoting', 'CarryingWhileLocomoting', 'CarryingWhileLocomoting', 'CarryingWhileLocomoting', 'CarryingWhileLocomoting', 'CarryingWhileLocomoting', 'CarryingWhileLocomoting', 'CarryingWhileLocomoting', 'CarryingWhileLocomoting', 'CarryingWhileLocomoting', 'CarryingWhileLocomoting', 'CarryingWhileLocomoting', 'CarryingWhileLocomoting', 'Reaching', 'Reaching', 'Reaching', 'Reaching', 'Reaching', 'Reaching', 'Reaching', 'Reaching', 'Reaching', 'Reaching', 'Reaching', 'Reaching', 'Reaching', 'Reaching', 'Reaching', 'Reaching', 'Reaching', 'Reaching', 'Reaching', 'Reaching', 'Reaching', 'Reaching', 'Reaching', 'Reaching', 'Reaching', 'Reaching', 'Reaching']\n",
        "1241\n"
       ]
      }
     ],
     "prompt_number": 70
    },
    {
     "cell_type": "code",
     "collapsed": false,
     "input": [
      "#\u30e9\u30d9\u30eb\u306e\u6570\u5024\u3078\u306e\u5909\u63db\n",
      "from sklearn import preprocessing\n",
      "le = preprocessing.LabelEncoder()\n",
      "\n",
      "le.fit(labels)\n",
      "le.classes_"
     ],
     "language": "python",
     "metadata": {},
     "outputs": [
      {
       "metadata": {},
       "output_type": "pyout",
       "prompt_number": 74,
       "text": [
        "array(['CarryingWhileLocomoting', 'ClosingADrawer', 'LoweringAnObject',\n",
        "       'OpeningADrawer', 'Reaching', 'ReleasingGraspOfSomething',\n",
        "       'TakingSomething'], \n",
        "      dtype='|S25')"
       ]
      }
     ],
     "prompt_number": 74
    },
    {
     "cell_type": "code",
     "collapsed": false,
     "input": [],
     "language": "python",
     "metadata": {},
     "outputs": []
    }
   ],
   "metadata": {}
  }
 ]
}