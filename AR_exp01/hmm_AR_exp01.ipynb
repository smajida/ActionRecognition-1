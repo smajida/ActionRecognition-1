{
 "metadata": {
  "name": "",
  "signature": "sha256:3fdb4d22bef4d9db16da7f84c01940e6d34612af8521d3f38bcd35c897d87ed1"
 },
 "nbformat": 3,
 "nbformat_minor": 0,
 "worksheets": [
  {
   "cells": [
    {
     "cell_type": "markdown",
     "metadata": {},
     "source": [
      "#HMM\u306b\u3088\u308b\u884c\u52d5\u8a8d\u8b58 \u5b9f\u9a131\n",
      "**\u5b66\u7fd2\u30c7\u30fc\u30bf:ID0-1, 0-7, 0-8**  \n",
      "**\u30c6\u30b9\u30c8\u30c7\u30fc\u30bf:ID0-0**  \n",
      "\u5b66\u7fd2\u30c7\u30fc\u30bf\u306e0-7\u30680-8\u306ebvh\u306f\u30e9\u30d9\u30eb\u3068\u9577\u3055\u3092\u63c3\u3048\u308b\u305f\u3081\u306b\u305d\u308c\u305e\u308c\u6700\u5f8c\u306e1\u30d5\u30ec\u30fc\u30e0\u3092\u6d88\u53bb\u3057\u305f."
     ]
    },
    {
     "cell_type": "code",
     "collapsed": false,
     "input": [
      "import numpy as np\n",
      "from sklearn.cluster import KMeans\n",
      "from sklearn import svm"
     ],
     "language": "python",
     "metadata": {},
     "outputs": [],
     "prompt_number": 33
    },
    {
     "cell_type": "code",
     "collapsed": false,
     "input": [
      "###mocap\u30c7\u30fc\u30bf\u306e\u524d\u51e6\u7406\n",
      "\n",
      "# \u30c7\u30fc\u30bf\u306e\u8aad\u307f\u8fbc\u307f\n",
      "data = np.genfromtxt('poses0_178_motion.bvh', delimiter=\" \")\n",
      "print data\n",
      "print data.shape"
     ],
     "language": "python",
     "metadata": {},
     "outputs": [
      {
       "output_type": "stream",
       "stream": "stdout",
       "text": [
        "[[  1.36482000e+03   2.41876000e+03   8.40791000e+02 ...,   1.16165000e-15\n",
        "   -9.93923000e-17  -0.00000000e+00]\n",
        " [  1.35332000e+03   2.42568000e+03   8.24603000e+02 ...,   1.98785000e-16\n",
        "    5.72958000e-02   3.97570000e-16]\n",
        " [  1.35050000e+03   2.42657000e+03   8.23453000e+02 ...,  -3.79441000e-03\n",
        "    1.64059000e-01  -1.60113000e-02]\n",
        " ..., \n",
        " [  1.94791000e+03   2.92740000e+03   8.01909000e+02 ...,   3.18824000e-02\n",
        "   -1.54760000e+01  -1.98469000e-02]\n",
        " [  1.95647000e+03   2.93089000e+03   7.98597000e+02 ...,   3.98925000e-02\n",
        "   -1.50434000e+01   2.52504000e-02]\n",
        " [  1.96449000e+03   2.93495000e+03   7.92959000e+02 ...,   5.41576000e-15\n",
        "   -1.43812000e+01  -4.10430000e-16]]\n",
        "(4039, 87)\n"
       ]
      }
     ],
     "prompt_number": 2
    },
    {
     "cell_type": "code",
     "collapsed": false,
     "input": [
      "#\u53f3\u8155\u90e8\u5206\u306e\u30c7\u30fc\u30bf\u3092\u53d6\u308a\u51fa\u3059\n",
      "right_hand_data = data[:, 25:40]\n",
      "right_hand_data"
     ],
     "language": "python",
     "metadata": {},
     "outputs": [
      {
       "metadata": {},
       "output_type": "pyout",
       "prompt_number": 3,
       "text": [
        "array([[  0.00000000e+00,  -5.21392000e+00,  -2.00357000e+01, ...,\n",
        "         -7.95139000e-16,   9.54166000e-15,   3.10601000e-16],\n",
        "       [ -8.94531000e-16,  -2.57831000e+00,  -2.41989000e+01, ...,\n",
        "          9.54166000e-15,  -0.00000000e+00,   1.23186000e+01],\n",
        "       [  1.83207000e-02,  -3.21344000e-01,  -9.98805000e+00, ...,\n",
        "         -5.22996000e-06,  -5.40694000e-14,   1.08134000e+01],\n",
        "       ..., \n",
        "       [  6.94289000e-02,  -1.35466000e+01,   9.74589000e+00, ...,\n",
        "          2.80295000e-08,  -0.00000000e+00,   5.17098000e+00],\n",
        "       [  7.30141000e-02,  -1.29633000e+01,   1.18340000e+01, ...,\n",
        "          5.63880000e-08,  -0.00000000e+00,   7.51370000e+00],\n",
        "       [  1.05744000e-01,  -1.26624000e+01,   1.65870000e+01, ...,\n",
        "          5.16840000e-15,   6.36111000e-15,   9.52180000e+00]])"
       ]
      }
     ],
     "prompt_number": 3
    },
    {
     "cell_type": "code",
     "collapsed": false,
     "input": [
      "#kmeans\u306e\u5b9f\u884c\n",
      "k_means = KMeans(n_clusters=200, n_jobs=-1)\n",
      "k_means.fit(right_hand_data)\n",
      "#\u7e70\u308a\u8fd4\u3057kmeans\u3092\u5b9f\u884c\u3057inertia(\u6700\u8fd1\u30af\u30e9\u30b9\u30bf\u304b\u3089\u306e\u8ddd\u96e2\u548c)\u304c\u5c0f\u3055\u3044\u3082\u306e\u3092\u63a1\u7528\n",
      "for i in range(9):\n",
      "    k_means_new = KMeans(n_clusters = 200, n_jobs=-1)\n",
      "    k_means_new.fit(right_hand_data)\n",
      "    print k_means.inertia_, k_means_new.inertia_\n",
      "    if k_means_new.inertia_ < k_means.inertia_:\n",
      "        k_means = k_means_new"
     ],
     "language": "python",
     "metadata": {},
     "outputs": [
      {
       "output_type": "stream",
       "stream": "stdout",
       "text": [
        "575909.214381 576918.706321\n"
       ]
      },
      {
       "output_type": "stream",
       "stream": "stdout",
       "text": [
        "575909.214381 578114.839438\n"
       ]
      },
      {
       "output_type": "stream",
       "stream": "stdout",
       "text": [
        "575909.214381 575677.972745\n"
       ]
      },
      {
       "output_type": "stream",
       "stream": "stdout",
       "text": [
        "575677.972745 577681.551646\n"
       ]
      },
      {
       "output_type": "stream",
       "stream": "stdout",
       "text": [
        "575677.972745 577100.566275\n"
       ]
      },
      {
       "output_type": "stream",
       "stream": "stdout",
       "text": [
        "575677.972745 575473.910292\n"
       ]
      },
      {
       "output_type": "stream",
       "stream": "stdout",
       "text": [
        "575473.910292 572944.042393\n"
       ]
      },
      {
       "output_type": "stream",
       "stream": "stdout",
       "text": [
        "572944.042393 577674.071426\n"
       ]
      },
      {
       "output_type": "stream",
       "stream": "stdout",
       "text": [
        "572944.042393 578101.790013\n"
       ]
      }
     ],
     "prompt_number": 13
    },
    {
     "cell_type": "code",
     "collapsed": false,
     "input": [
      "postures = k_means.labels_\n",
      "print postures\n",
      "print len(postures)"
     ],
     "language": "python",
     "metadata": {},
     "outputs": [
      {
       "output_type": "stream",
       "stream": "stdout",
       "text": [
        "[195  92 195 ...,   0   0   0]\n",
        "4039\n"
       ]
      }
     ],
     "prompt_number": 14
    },
    {
     "cell_type": "code",
     "collapsed": false,
     "input": [
      "#\u30e9\u30d9\u30eb\u30c7\u30fc\u30bf\u306e\u524d\u51e6\u7406\n",
      "import csv\n",
      "f = open('labels0_178.csv')\n",
      "reader = csv.reader(f)\n",
      "\n",
      "labels = []\n",
      "\n",
      "#righthand\u306e\u5217\u3092labels\u306b\u62bd\u51fa\n",
      "for row in reader:\n",
      "    #print row\n",
      "    if row[0] == 'instance':\n",
      "        pass\n",
      "    else:\n",
      "        labels.append(row[2])\n",
      "\n",
      "print labels[:41]\n",
      "print len(labels)"
     ],
     "language": "python",
     "metadata": {},
     "outputs": [
      {
       "output_type": "stream",
       "stream": "stdout",
       "text": [
        "['CarryingWhileLocomoting', 'CarryingWhileLocomoting', 'CarryingWhileLocomoting', 'CarryingWhileLocomoting', 'CarryingWhileLocomoting', 'CarryingWhileLocomoting', 'CarryingWhileLocomoting', 'CarryingWhileLocomoting', 'CarryingWhileLocomoting', 'CarryingWhileLocomoting', 'CarryingWhileLocomoting', 'CarryingWhileLocomoting', 'CarryingWhileLocomoting', 'CarryingWhileLocomoting', 'CarryingWhileLocomoting', 'CarryingWhileLocomoting', 'CarryingWhileLocomoting', 'CarryingWhileLocomoting', 'Reaching', 'Reaching', 'Reaching', 'Reaching', 'Reaching', 'Reaching', 'Reaching', 'Reaching', 'Reaching', 'Reaching', 'Reaching', 'Reaching', 'Reaching', 'Reaching', 'Reaching', 'Reaching', 'Reaching', 'Reaching', 'Reaching', 'Reaching', 'Reaching', 'Reaching', 'Reaching']\n",
        "4039\n"
       ]
      }
     ],
     "prompt_number": 15
    },
    {
     "cell_type": "code",
     "collapsed": false,
     "input": [
      "#\u30e9\u30d9\u30eb\u306e\u6570\u5024\u3078\u306e\u5909\u63db\n",
      "from sklearn import preprocessing\n",
      "le = preprocessing.LabelEncoder()\n",
      "\n",
      "le.fit(labels)\n",
      "\n",
      "print le.classes_\n",
      "\n",
      "labels_transformed = le.transform(labels)"
     ],
     "language": "python",
     "metadata": {},
     "outputs": [
      {
       "output_type": "stream",
       "stream": "stdout",
       "text": [
        "['CarryingWhileLocomoting' 'ClosingADrawer' 'LoweringAnObject'\n",
        " 'OpeningADrawer' 'Reaching' 'ReleasingGraspOfSomething' 'TakingSomething']\n"
       ]
      }
     ],
     "prompt_number": 16
    },
    {
     "cell_type": "code",
     "collapsed": false,
     "input": [
      "#Suvervised Markov Model class\n",
      "class Supervised_markov_model:\n",
      "\n",
      "\tdef __init__(self):\n",
      "\t\t\"\"\"\n",
      "\t\tConstructor\n",
      "\t\t\"\"\"\n",
      "\t\tself.emit_prob = None\n",
      "\t\tself.trans_prob = None\n",
      "\n",
      "\n",
      "\tdef fit(self, X, y):\n",
      "\t\t\"\"\"\n",
      "\t\tFitting Model\n",
      "\t\t\"\"\"\n",
      "\t\t#\u5404\u5b9a\u6570\u306e\u8a2d\u5b9a\n",
      "\t\tn_frame = len(X)\n",
      "\t\tn_posture = 200\n",
      "\t\tn_label = 7\n",
      "\n",
      "\n",
      "\t\t#\u51fa\u529b\u78ba\u7387\u306e\u8a08\u7b97\n",
      "\t\tn_emit = np.zeros((n_posture, n_label))\n",
      "\t\tn_emit.fill(10**(-10)) #\u51fa\u529b\u78ba\u7387\u306e\u8981\u7d20\u304c\u30bc\u30ed\u306b\u306a\u3089\u306a\u3044\u3088\u3046\u306b\u5fae\u5c0f\u5024\u3092\u4ee3\u5165\n",
      "\t\tfor i in xrange(n_frame):\n",
      "\t\t\tn_emit[X[i], y[i]] += 1\n",
      "\n",
      "\t\t#x\u306b\u3064\u3044\u3066\u8db3\u3059\n",
      "\t\txsum_n_emit = np.sum(n_emit, axis=0)\n",
      "\n",
      "\t\tself.emit_prob = np.zeros((n_posture, n_label))\n",
      "\t\tself.emit_prob.fill\n",
      "\t\tfor xi in xrange(n_posture):\n",
      "\t\t\tfor yi in xrange(n_label):\n",
      "\t\t\t\tif n_emit[xi, yi] == 0:\n",
      "\t\t\t\t\tpass\n",
      "\t\t\t\telse:\n",
      "\t\t\t\t\tself.emit_prob[xi, yi] = n_emit[xi, yi] / np.float(xsum_n_emit[yi])\n",
      "\n",
      "# \t\tprint('emission probability')\n",
      "# \t\tprint self.emit_prob\n",
      "\n",
      "\t\t#\u9077\u79fb\u78ba\u7387\u306e\u8a08\u7b97\n",
      "\t\tn_trans = np.zeros((n_label, n_label))\n",
      "\t\tn_trans.fill(10**(-10))\n",
      "\t\tfor j in xrange(n_frame-1):\n",
      "\t\t\tn_trans[y[j], y[j+1]] += 1\n",
      "\n",
      "\t\t#y_after\u306b\u3064\u3044\u3066\u8db3\u3059\n",
      "\t\tyasum_n_trans = np.sum(n_trans, axis=1)\n",
      "\n",
      "\t\tself.trans_prob = np.zeros((n_label, n_label))\n",
      "\t\tfor y_after in xrange(n_label):\n",
      "\t\t\tfor y_before in xrange(n_label):\n",
      "\t\t\t\tif n_trans[y_before, y_after] == 0:\n",
      "\t\t\t\t\tpass\n",
      "\t\t\t\telse:\n",
      "\t\t\t\t\tself.trans_prob[y_before, y_after] = n_trans[y_before, y_after] / np.float(yasum_n_trans[y_before])\n",
      "\n",
      "# \t\tprint('transition probability')\n",
      "# \t\tprint self.trans_prob\n",
      "\n",
      "#\t\treturn self.emit_prob, self.trans_prob\n",
      "\n",
      "\tdef predict(self, X):\n",
      "\t\t\"\"\"\n",
      "\t\tPredict class\n",
      "\t\t\"\"\"\n",
      "\t\tn_frame = len(X)\n",
      "\t\tn_label = 7\n",
      "\t\tself.labels_predicted = np.empty(n_frame, dtype=int)\n",
      "\n",
      "\t\t#\u5c24\u5ea6\u4fdd\u5b58\u7528\u884c\u5217\n",
      "\t\tmatP = np.empty((n_frame, n_label))\n",
      "\t\t#\u521d\u671f\u78ba\u7387\u306f\u30af\u30e9\u30b90\u304c0.99, \u305d\u306e\u4ed6\u306f\u5f53\u78ba\u7387\u3068\u3059\u308b\n",
      "\t\tmatP[0, 0] = 0.99\n",
      "\t\tfor i in xrange(1,n_label):\n",
      "\t\t\tmatP[0, i] = (1 - 0.99) / (n_label - 1)\n",
      "\t\t# matP[0, 0] = np.log(0.99)\n",
      "\t\t# for i in xrange(1,n_label):\n",
      "\t\t# \tmatP[0, i] = np.log((1 - 0.99) / (n_label - 1))\n",
      "\t\t#\u30e9\u30d9\u30eb\u4fdd\u5b58\u7528\u884c\u5217\n",
      "\t\tmatL = np.empty((n_frame, n_label))\n",
      "\n",
      "\t\t#\u30f4\u30a3\u30bf\u30d3\u7d4c\u8def\u306e\u8a08\u7b97\n",
      "\t\tfor j in xrange(1, n_frame):\n",
      "\t\t\t#print '\\ntime=%d' % j\n",
      "\t\t\tfor yj in xrange(n_label):\n",
      "\t\t\t\t#print 'y_j=%d' % yj\n",
      "\t\t\t\tprob = np.empty(n_label)\n",
      "\t\t\t\tfor yk in xrange(n_label):\n",
      "\t\t\t\t\t#print 'y_j-1=%d' % yk\n",
      "\t\t\t\t\t#\u51fa\u529b\u78ba\u7387\u307e\u305f\u306f\u9077\u79fb\u78ba\u7387\u304c0\u306e\u5834\u5408\u306fNone\n",
      "\t\t\t\t\tif (self.emit_prob[X[j], yj] == 0.) or (self.trans_prob[yk, yj] == 0.):\n",
      "\t\t\t\t\t\tprob[yk] = None\n",
      "\t\t\t\t\t\t#print \"zero error\", logprob[yk]\n",
      "\t\t\t\t\telse:\n",
      "\t\t\t\t\t\tprob[yk] = self.emit_prob[X[j], yj] * self.trans_prob[yk, yj] * matP[j-1, yk]\n",
      "\t\t\t\t\t\t#logprob[yk] = np.log(self.emit_prob[X[j], yj]) + np.log(self.trans_prob[yk, yj]) + matP[j-1, yk]\n",
      "\n",
      "\t\t\t\t\t\t#print logprob[yk]\n",
      "\t\t\t\t\t\t#print np.log(self.emit_prob[X[j], yj]), np.log(self.trans_prob[yk, yj]), matP[j-1, yk]\n",
      "\t\t\t\t#print 'logprob', logprob\n",
      "\n",
      "\t\t\t\t#logprob\u304c\u5168\u3066nan\u306e\u5834\u5408\u306fnan\u3092\u8fd4\u3059\n",
      "\t\t\t\tcount = 0\n",
      "\t\t\t\tfor i in prob:\n",
      "\t\t\t\t\tif np.isnan(i) == True:\n",
      "\t\t\t\t\t\tcount += 1\n",
      "\n",
      "\t\t\t\tif count == len(prob):\n",
      "\t\t\t\t\tmatP[j, yj] = None\n",
      "\t\t\t\t\tmatL[j, yj] = None\n",
      "\t\t\t\telse:\n",
      "\t\t\t\t\tmatP[j, yj] = np.nanmax(prob)\n",
      "\t\t\t\t\tmatL[j, yj] = np.nanargmax(prob)\n",
      "\t\t\t\t#print np.argmax(logprob)\n",
      "\t\t\t\t#print 'matP[%d, %d]=%f' % (j, yj, matP[j, yj])\n",
      "\t\t\t\t#print 'matL[%d, %d]=%f\\n' % (j, yj, matL[j, yj])\n",
      "\n",
      "\t\t\t#\u30af\u30e9\u30b9\u3054\u3068\u306e\u78ba\u7387\u3092\u8db3\u3059\u30681\u306b\u306a\u308b\u3088\u3046\u306b\u6b63\u898f\u5316\n",
      "\t\t\tmatP[j, :] = matP[j, :] / np.sum(matP[j, :])\n",
      "\n",
      "\t\t# print ('matP')\n",
      "\t\t# print np.array(matP)\n",
      "\t\t# print ('matL')\n",
      "\t\t# print np.array(matL)\n",
      "\t\t#matL.astype(int)\n",
      "\t\tself.likelihoods = matP\n",
      "\n",
      "\n",
      "\t\t#\u63a8\u5b9a\u30e9\u30d9\u30eb\u5217\u306e\u6c7a\u5b9a\n",
      "\t\tself.labels_predicted[n_frame-1] = np.nanargmax(matP[n_frame-1, :])\n",
      "\t\tfor j in reversed(xrange(n_frame-1)):\n",
      "\t\t\tself.labels_predicted[j] = matL[j+1, self.labels_predicted[j+1]]\n",
      "\n",
      "\t\treturn self.labels_predicted"
     ],
     "language": "python",
     "metadata": {},
     "outputs": [],
     "prompt_number": 17
    },
    {
     "cell_type": "code",
     "collapsed": false,
     "input": [
      "#TUM\u30c7\u30fc\u30bf\u30bb\u30c3\u30c8\u3067\u5b66\u7fd2\n",
      "model = Supervised_markov_model()\n",
      "model.fit(postures, labels_transformed)\n",
      "#\uff1f\uff1f\n",
      "model.emit_prob.shape"
     ],
     "language": "python",
     "metadata": {},
     "outputs": [
      {
       "metadata": {},
       "output_type": "pyout",
       "prompt_number": 18,
       "text": [
        "(200, 7)"
       ]
      }
     ],
     "prompt_number": 18
    },
    {
     "cell_type": "markdown",
     "metadata": {},
     "source": [
      "ID0-0\u306emocap\u30c7\u30fc\u30bf\u304b\u3089posture\u5217\u3092\u4f5c\u6210\u3057\u3001\u30c6\u30b9\u30c8\u30c7\u30fc\u30bf\u3068\u3059\u308b"
     ]
    },
    {
     "cell_type": "code",
     "collapsed": false,
     "input": [
      "#\u30c6\u30b9\u30c8\u30c7\u30fc\u30bf\u306e\u4f5c\u6210\n",
      "\n",
      "#bvh\u8aad\u307f\u8fbc\u307f\n",
      "data00 = np.genfromtxt('poses0_0_motion.bvh', delimiter=\" \")\n",
      "print data00\n",
      "print data00.shape"
     ],
     "language": "python",
     "metadata": {},
     "outputs": [
      {
       "output_type": "stream",
       "stream": "stdout",
       "text": [
        "[[  1.44182000e+03   2.42876000e+03   8.40791000e+02 ...,   5.59082000e-16\n",
        "   -3.97569000e-16  -3.97569000e-16]\n",
        " [  1.43475000e+03   2.41514000e+03   8.23587000e+02 ...,   6.08778000e-15\n",
        "   -4.34841000e-16  -3.18055000e-15]\n",
        " [  1.42954000e+03   2.41581000e+03   8.30492000e+02 ...,  -3.39268000e-05\n",
        "    9.78586000e-02  -9.19797000e-03]\n",
        " ..., \n",
        " [  2.32445000e+03   3.10248000e+03   7.95724000e+02 ...,   2.36319000e-03\n",
        "    9.35058000e+00  -1.92959000e-02]\n",
        " [  2.35272000e+03   3.12435000e+03   7.98123000e+02 ...,   1.04705000e-14\n",
        "    9.16732000e+00   2.41628000e-15]\n",
        " [  2.39298000e+03   3.13412000e+03   7.94829000e+02 ...,   8.04787000e-16\n",
        "    8.88085000e+00  -8.04787000e-15]]\n",
        "(1241, 87)\n"
       ]
      }
     ],
     "prompt_number": 19
    },
    {
     "cell_type": "code",
     "collapsed": false,
     "input": [
      "right_hand_data00 = data00[:, 25:40]\n",
      "right_hand_data00"
     ],
     "language": "python",
     "metadata": {},
     "outputs": [
      {
       "metadata": {},
       "output_type": "pyout",
       "prompt_number": 20,
       "text": [
        "array([[  0.00000000e+00,  -5.21392000e+00,  -2.31811000e+01, ...,\n",
        "         -1.59028000e-15,  -6.36111000e-15,   2.60128000e-17],\n",
        "       [  3.18055000e-15,  -6.07335000e+00,  -2.24609000e+01, ...,\n",
        "          8.74653000e-15,  -2.54444000e-14,   1.77617000e+00],\n",
        "       [  1.38311000e-02,  -4.17819000e+00,  -2.34814000e+01, ...,\n",
        "          9.62114000e-09,   3.18055000e-15,   2.75192000e+00],\n",
        "       ..., \n",
        "       [ -5.54221000e-01,   1.61484000e+01,   2.16820000e+01, ...,\n",
        "          1.96199000e-07,  -3.18055000e-15,  -8.22263000e+00],\n",
        "       [ -5.68309000e-01,   1.73037000e+01,   2.19255000e+01, ...,\n",
        "         -7.95139000e-15,  -0.00000000e+00,  -5.36006000e+00],\n",
        "       [ -5.71370000e-01,   1.42669000e+01,   1.50474000e+01, ...,\n",
        "          6.36111000e-15,   1.59028000e-14,  -3.90904000e+00]])"
       ]
      }
     ],
     "prompt_number": 20
    },
    {
     "cell_type": "code",
     "collapsed": false,
     "input": [
      "#\u5b66\u7fd2\u30c7\u30fc\u30bf\u306e\u524d\u51e6\u7406\u3067\u5b66\u7fd2\u3057\u305f\u30e2\u30c7\u30ebk_means\u3067\u30c6\u30b9\u30c8\u30c7\u30fc\u30bf\u306eposture\u5217\u3092\u4e88\u6e2c. k=20\n",
      "postures_test = k_means.predict(right_hand_data00)\n",
      "print postures_test, len(postures_test)"
     ],
     "language": "python",
     "metadata": {},
     "outputs": [
      {
       "output_type": "stream",
       "stream": "stdout",
       "text": [
        "[ 92  92  92 ..., 187 187  97] 1241\n"
       ]
      }
     ],
     "prompt_number": 21
    },
    {
     "cell_type": "code",
     "collapsed": false,
     "input": [
      "#\u30c6\u30b9\u30c8\u30c7\u30fc\u30bf\u306e\u6b63\u89e3\u30e9\u30d9\u30eb\u524d\u51e6\u7406\n",
      "import csv\n",
      "f_test = open('labels0_0.csv')\n",
      "reader_test = csv.reader(f_test)\n",
      "\n",
      "labels_test = []\n",
      "\n",
      "#righthand\u306e\u5217\u3092labels\u306b\u62bd\u51fa\n",
      "for row in reader_test:\n",
      "    #print row\n",
      "    if row[0] == 'instance':\n",
      "        pass\n",
      "    else:\n",
      "        labels_test.append(row[2])\n",
      "\n",
      "print labels_test[:41]\n",
      "print len(labels_test)\n",
      "\n",
      "#\u6570\u5024\u30e9\u30d9\u30eb\u3078\u306e\u5909\u63db\n",
      "labels_test_transformed = le.transform(labels_test)"
     ],
     "language": "python",
     "metadata": {},
     "outputs": [
      {
       "output_type": "stream",
       "stream": "stdout",
       "text": [
        "['CarryingWhileLocomoting', 'CarryingWhileLocomoting', 'CarryingWhileLocomoting', 'CarryingWhileLocomoting', 'CarryingWhileLocomoting', 'CarryingWhileLocomoting', 'CarryingWhileLocomoting', 'CarryingWhileLocomoting', 'CarryingWhileLocomoting', 'CarryingWhileLocomoting', 'CarryingWhileLocomoting', 'CarryingWhileLocomoting', 'CarryingWhileLocomoting', 'CarryingWhileLocomoting', 'Reaching', 'Reaching', 'Reaching', 'Reaching', 'Reaching', 'Reaching', 'Reaching', 'Reaching', 'Reaching', 'Reaching', 'Reaching', 'Reaching', 'Reaching', 'Reaching', 'Reaching', 'Reaching', 'Reaching', 'Reaching', 'Reaching', 'Reaching', 'Reaching', 'Reaching', 'Reaching', 'Reaching', 'Reaching', 'Reaching', 'Reaching']\n",
        "1241\n"
       ]
      }
     ],
     "prompt_number": 22
    },
    {
     "cell_type": "code",
     "collapsed": false,
     "input": [
      "#\u30c6\u30b9\u30c8\u30c7\u30fc\u30bf\u306e\u30e9\u30d9\u30eb\u4e88\u6e2c\n",
      "model.predict(postures_test)"
     ],
     "language": "python",
     "metadata": {},
     "outputs": [
      {
       "metadata": {},
       "output_type": "pyout",
       "prompt_number": 23,
       "text": [
        "array([0, 0, 0, ..., 0, 0, 0])"
       ]
      }
     ],
     "prompt_number": 23
    },
    {
     "cell_type": "code",
     "collapsed": false,
     "input": [
      "#\u30c6\u30b9\u30c8\u7528\u306e\u5c24\u5ea6\u30d9\u30af\u30c8\u30eb\u5217\u3092\u5f97\u308b\n",
      "hmm_likelihoods_test = model.likelihoods\n",
      "print hmm_likelihoods_test.shape"
     ],
     "language": "python",
     "metadata": {},
     "outputs": [
      {
       "output_type": "stream",
       "stream": "stdout",
       "text": [
        "(1241, 7)\n"
       ]
      }
     ],
     "prompt_number": 24
    },
    {
     "cell_type": "code",
     "collapsed": false,
     "input": [
      "#\u4e88\u6e2c\u30e9\u30d9\u30eb\u3068\u6b63\u89e3\u30e9\u30d9\u30eb\u306e\u9577\u3055\u304c\u4e00\u81f4\u3057\u3066\u3044\u308b\u304b\u78ba\u8a8d\n",
      "print len(model.labels_predicted), len(labels_test_transformed)\n",
      "print labels_test_transformed"
     ],
     "language": "python",
     "metadata": {},
     "outputs": [
      {
       "output_type": "stream",
       "stream": "stdout",
       "text": [
        "1241 1241\n",
        "[0 0 0 ..., 0 0 0]\n"
       ]
      }
     ],
     "prompt_number": 25
    },
    {
     "cell_type": "code",
     "collapsed": false,
     "input": [
      "#\u6b63\u89e3\u7387\u3092\u8a08\u7b97\n",
      "count = 0\n",
      "for i in range(len(model.labels_predicted)):\n",
      "    if model.labels_predicted[i] == labels_test_transformed[i]:\n",
      "        count += 1\n",
      "precision = count / np.float(len(model.labels_predicted))        \n",
      "print 'count=%d' % count\n",
      "print 'precision=%f' % precision"
     ],
     "language": "python",
     "metadata": {},
     "outputs": [
      {
       "output_type": "stream",
       "stream": "stdout",
       "text": [
        "count=701\n",
        "precision=0.564867\n"
       ]
      }
     ],
     "prompt_number": 26
    },
    {
     "cell_type": "code",
     "collapsed": false,
     "input": [
      "print model.likelihoods.shape"
     ],
     "language": "python",
     "metadata": {},
     "outputs": [
      {
       "output_type": "stream",
       "stream": "stdout",
       "text": [
        "(1241, 7)\n"
       ]
      }
     ],
     "prompt_number": 27
    },
    {
     "cell_type": "code",
     "collapsed": false,
     "input": [
      "#\u6b63\u898f\u5316\u306e\u8aa4\u5dee\u304c\u3042\u308b\uff1f\uff1f\n",
      "np.sum(model.likelihoods[105, :])"
     ],
     "language": "python",
     "metadata": {},
     "outputs": [
      {
       "metadata": {},
       "output_type": "pyout",
       "prompt_number": 28,
       "text": [
        "1.0"
       ]
      }
     ],
     "prompt_number": 28
    },
    {
     "cell_type": "code",
     "collapsed": false,
     "input": [
      "#\u5b66\u7fd2\u30c7\u30fc\u30bf\u306e\u5c24\u5ea6\u30d9\u30af\u30c8\u30eb\u5217\u3092\u5f97\u308b\n",
      "model.predict(postures)\n",
      "hmm_likelihoods_train = model.likelihoods"
     ],
     "language": "python",
     "metadata": {},
     "outputs": [],
     "prompt_number": 29
    },
    {
     "cell_type": "markdown",
     "metadata": {},
     "source": [
      "##\u30b9\u30e9\u30a4\u30c7\u30a3\u30f3\u30b0\u30a6\u30a3\u30f3\u30c9\u30a6\u7121\u3057\u306eSVM with likelihood"
     ]
    },
    {
     "cell_type": "code",
     "collapsed": false,
     "input": [
      "print hmm_likelihoods_train.shape"
     ],
     "language": "python",
     "metadata": {},
     "outputs": [
      {
       "output_type": "stream",
       "stream": "stdout",
       "text": [
        "(4039, 9)\n"
       ]
      }
     ],
     "prompt_number": 576
    },
    {
     "cell_type": "code",
     "collapsed": false,
     "input": [
      "# #HMM\u306e\u5c24\u5ea6(\u30b9\u30e9\u30a4\u30c7\u30a3\u30f3\u30b0\u30a6\u30a3\u30f3\u30c9\u30a6\u7121\u3057)\u3092\u7279\u5fb4\u3068\u3057\u3066SVM\u3092\u5b66\u7fd2\n",
      "# from sklearn import svm\n",
      "# svm_likelihood = svm.SVC()\n",
      "# svm_likelihood.fit(hmm_likelihoods_train, labels_transformed)"
     ],
     "language": "python",
     "metadata": {},
     "outputs": [],
     "prompt_number": 312
    },
    {
     "cell_type": "code",
     "collapsed": false,
     "input": [
      "# labels_predicted_svm_likelihood = svm_likelihood.predict(hmm_likelihoods_test)\n",
      "# print labels_predicted_svm_likelihood[::20], len(labels_predicted_svm_likelihood)\n",
      "# print labels_test_transformed[::20]"
     ],
     "language": "python",
     "metadata": {},
     "outputs": [],
     "prompt_number": 313
    },
    {
     "cell_type": "code",
     "collapsed": false,
     "input": [
      "# #SVM with HMM likelihood\u306e\u6b63\u89e3\u7387\u3092\u8a08\u7b97\n",
      "# count = 0\n",
      "# for i in range(len(labels_predicted_svm_likelihood)):\n",
      "#     if labels_predicted_svm_likelihood[i] == labels_test_transformed[i]:\n",
      "#         count += 1\n",
      "# precision = count / np.float(len(labels_predicted_svm_likelihood))        \n",
      "# print 'count=%d' % count\n",
      "# print 'precision=%f' % precision"
     ],
     "language": "python",
     "metadata": {},
     "outputs": [],
     "prompt_number": 314
    },
    {
     "cell_type": "markdown",
     "metadata": {},
     "source": [
      "##\u30b9\u30e9\u30a4\u30c7\u30a3\u30f3\u30b0\u30a6\u30a3\u30f3\u30c9\u30a6\u6709\u308a\u306eSVM with HMM likelihood"
     ]
    },
    {
     "cell_type": "code",
     "collapsed": false,
     "input": [
      "#SVM\u5b66\u7fd2\u6642\u306e\u7279\u5fb4\u91cf\u3068\u3059\u308b\u5c24\u5ea6\u30d9\u30af\u30c8\u30eb\u306e\u30b9\u30e9\u30a4\u30c7\u30a3\u30f3\u30b0\u30a6\u30a3\u30f3\u30c9\u30a6\n",
      "\n",
      "#\u5b66\u7fd2\u30c7\u30fc\u30bf\n",
      "n_label = hmm_likelihoods_train.shape[1]\n",
      "window_length = 2\n",
      "features_train = np.empty((len(hmm_likelihoods_train)-(window_length-1), n_label*window_length))\n",
      "\n",
      "for i in xrange(window_length-1, len(hmm_likelihoods_train)):\n",
      "    likelihood_reshaped = np.reshape(hmm_likelihoods_train[i-(window_length-1):i+1, :], (1, n_label*window_length))\n",
      "    features_train[i-(window_length-1), :] = likelihood_reshaped\n",
      "\n",
      "                \n",
      "print features_train\n",
      "print features_train.shape\n",
      "\n",
      "#features\u306e\u9577\u3055\u306b\u5408\u308f\u305b\u308b\u305f\u3081\u306b\u30e9\u30d9\u30eb\u5217\u306e\u524d9\u500b\u3092\u6d88\u53bb\n",
      "labels_train = labels_transformed[window_length-1:]\n",
      "print labels_train\n",
      "print len(labels_train)"
     ],
     "language": "python",
     "metadata": {},
     "outputs": [
      {
       "output_type": "stream",
       "stream": "stdout",
       "text": [
        "[[  9.90000000e-01   1.66666667e-03   1.66666667e-03 ...,   2.99284826e-13\n",
        "    5.25324739e-14   4.09213988e-14]\n",
        " [  1.00000000e+00   4.80120395e-13   2.96551037e-13 ...,   2.61874223e-13\n",
        "    1.45335042e-24   1.12327611e-24]\n",
        " [  1.00000000e+00   1.19810480e-22   2.59482157e-13 ...,   1.13242907e-13\n",
        "    6.28475856e-15   4.85741023e-25]\n",
        " ..., \n",
        " [  9.99979789e-01   1.11931217e-23   2.18506874e-13 ...,   2.20523612e-13\n",
        "    9.29417011e-06   9.45907937e-25]\n",
        " [  9.99990706e-01   1.11932439e-23   2.18509259e-13 ...,   2.20524719e-13\n",
        "    4.27397056e-06   9.45912686e-25]\n",
        " [  9.99995726e-01   1.11933001e-23   2.18510356e-13 ...,   2.20525228e-13\n",
        "    1.96540138e-06   9.45914869e-25]]\n",
        "(4038, 14)\n",
        "[0 0 0 ..., 0 0 0]\n",
        "4038\n"
       ]
      }
     ],
     "prompt_number": 30
    },
    {
     "cell_type": "code",
     "collapsed": false,
     "input": [
      "#\u30c6\u30b9\u30c8\u30c7\u30fc\u30bf\n",
      "\n",
      "n_label = hmm_likelihoods_test.shape[1]\n",
      "window_length = 2\n",
      "features_test = np.empty((len(hmm_likelihoods_test)-(window_length-1), n_label*window_length))\n",
      "\n",
      "for i in xrange(window_length-1, len(hmm_likelihoods_test)):\n",
      "    likelihood_reshaped = np.reshape(hmm_likelihoods_test[i-(window_length-1):i+1, :], (1, n_label*window_length))\n",
      "    features_test[i-(window_length-1), :] = likelihood_reshaped\n",
      "\n",
      "                \n",
      "print features_test\n",
      "print features_test.shape\n",
      "\n",
      "#features\u306e\u9577\u3055\u306b\u5408\u308f\u305b\u308b\u305f\u3081\u306b\u30e9\u30d9\u30eb\u5217\u306e\u524d9\u500b\u3092\u6d88\u53bb\n",
      "labels_test = labels_test_transformed[window_length-1:]\n",
      "print labels_test\n",
      "print len(labels_test)"
     ],
     "language": "python",
     "metadata": {},
     "outputs": [
      {
       "output_type": "stream",
       "stream": "stdout",
       "text": [
        "[[  9.90000000e-01   1.66666667e-03   1.66666667e-03 ...,   2.99284826e-13\n",
        "    5.25324739e-14   4.09213988e-14]\n",
        " [  1.00000000e+00   4.80120395e-13   2.96551037e-13 ...,   2.99284826e-13\n",
        "    1.66097191e-24   1.28374413e-24]\n",
        " [  1.00000000e+00   1.36926263e-22   2.96551037e-13 ...,   2.99284826e-13\n",
        "    1.66097191e-24   1.28374413e-24]\n",
        " ..., \n",
        " [  1.00000000e+00   1.51909722e-23   2.96551037e-13 ...,   2.99284826e-13\n",
        "    1.66097191e-24   1.28374413e-24]\n",
        " [  1.00000000e+00   1.51909722e-23   2.96551037e-13 ...,   2.99284826e-13\n",
        "    1.66097191e-24   1.28374413e-24]\n",
        " [  1.00000000e+00   1.51909722e-23   2.96551037e-13 ...,   1.82173372e-13\n",
        "    1.01102638e-24   7.81409471e-25]]\n",
        "(1240, 14)\n",
        "[0 0 0 ..., 0 0 0]\n",
        "1240\n"
       ]
      }
     ],
     "prompt_number": 31
    },
    {
     "cell_type": "code",
     "collapsed": false,
     "input": [
      "svm_likelihood_SW = svm.SVC(kernel='poly')\n",
      "svm_likelihood_SW.fit(features_train, labels_train)"
     ],
     "language": "python",
     "metadata": {},
     "outputs": [
      {
       "metadata": {},
       "output_type": "pyout",
       "prompt_number": 48,
       "text": [
        "SVC(C=1.0, cache_size=200, class_weight=None, coef0=0.0, degree=3, gamma=0.0,\n",
        "  kernel='poly', max_iter=-1, probability=False, random_state=None,\n",
        "  shrinking=True, tol=0.001, verbose=False)"
       ]
      }
     ],
     "prompt_number": 48
    },
    {
     "cell_type": "code",
     "collapsed": false,
     "input": [
      "labels_predicted_svm_likelihood_SW = svm_likelihood_SW.predict(features_test)\n",
      "print labels_predicted_svm_likelihood_SW[::10]"
     ],
     "language": "python",
     "metadata": {},
     "outputs": [
      {
       "output_type": "stream",
       "stream": "stdout",
       "text": [
        "[0 0 0 4 6 6 0 0 0 0 0 6 6 0 0 0 0 0 0 0 6 4 6 0 0 0 0 0 0 0 0 0 0 0 6 4 6\n",
        " 0 6 6 6 6 6 0 0 0 0 0 0 6 0 0 0 0 0 0 0 0 0 0 0 0 0 0 0 0 0 0 0 0 0 0 0 0\n",
        " 0 0 0 0 0 0 0 0 0 0 0 0 0 0 0 0 0 0 0 0 0 0 0 0 0 0 0 0 0 0 0 0 0 4 6 6 6\n",
        " 6 0 0 0 0 0 0 6 0 0 0 0 0]\n"
       ]
      }
     ],
     "prompt_number": 49
    },
    {
     "cell_type": "code",
     "collapsed": false,
     "input": [
      "#SVM with HMM likelihood\u306e\u6b63\u89e3\u7387\u3092\u8a08\u7b97\n",
      "count = 0\n",
      "for i in range(len(labels_predicted_svm_likelihood_SW)):\n",
      "    if labels_predicted_svm_likelihood_SW[i] == labels_test_transformed[i]:\n",
      "        count += 1\n",
      "precision = count / np.float(len(labels_predicted_svm_likelihood_SW))        \n",
      "print 'count=%d' % count\n",
      "print 'precision=%f' % precision"
     ],
     "language": "python",
     "metadata": {},
     "outputs": [
      {
       "output_type": "stream",
       "stream": "stdout",
       "text": [
        "count=652\n",
        "precision=0.525806\n"
       ]
      }
     ],
     "prompt_number": 50
    },
    {
     "cell_type": "markdown",
     "metadata": {},
     "source": [
      "##SVM with posture\n",
      "\u96e2\u6563posture\u3092\u7279\u5fb4\u91cf\u3068\u3059\u308b\u306e\u306f\u9593\u9055\u3044\u306a\u306e\u3067\u3053\u308c\u306f\u7121\u8996"
     ]
    },
    {
     "cell_type": "code",
     "collapsed": false,
     "input": [
      "# ###\u5b66\u7fd2\u30c7\u30fc\u30bf\u4f5c\u6210\n",
      "\n",
      "# #\u5b66\u7fd2\u7528\u306e\u7279\u5fb4\u91cf\u306e\u751f\u6210\n",
      "# window_length = 2\n",
      "# features_float = np.empty((len(postures)-(window_length-1), window_length))\n",
      "\n",
      "# for i in xrange(window_length-1, len(postures)):\n",
      "#     x_feature = np.empty(window_length) \n",
      "#     for j in xrange(window_length):\n",
      "#         x_feature[j] = postures[i - j]\n",
      "\n",
      "#         features_float[i-(window_length-1), :] = x_feature\n",
      "#         features_svm_train = features_float.astype(int) #int\u578b\u3078\u306e\u5909\u63db\n",
      "        \n",
      "# print features_svm_train\n",
      "# print features_svm_train.shape\n",
      "\n",
      "# #features\u306e\u9577\u3055\u306b\u5408\u308f\u305b\u308b\u305f\u3081\u306b\u30e9\u30d9\u30eb\u5217\u306e\u524d9\u500b\u3092\u6d88\u53bb\n",
      "# labels_svm_train = labels_transformed[window_length-1:]\n",
      "# print labels_svm_train\n",
      "# print len(labels_svm_train)"
     ],
     "language": "python",
     "metadata": {},
     "outputs": [],
     "prompt_number": 598
    },
    {
     "cell_type": "code",
     "collapsed": false,
     "input": [
      "# #\u30c6\u30b9\u30c8\u7528\u306e\u7279\u5fb4\u91cf\u306e\u751f\u6210\n",
      "# window_length = 2\n",
      "# features_test_float = np.empty((len(postures_test)-(window_length-1), window_length))\n",
      "\n",
      "# for i in xrange(window_length-1, len(postures_test)):\n",
      "#     x_feature = np.empty(window_length) \n",
      "#     for j in xrange(window_length):\n",
      "#         x_feature[j] = postures_test[i - j]\n",
      "\n",
      "#         features_test_float[i-(window_length-1), :] = x_feature\n",
      "#         features_svm_test = features_test_float.astype(int) #int\u578b\u3078\u306e\u5909\u63db\n",
      "        \n",
      "# print features_svm_test\n",
      "# print features_svm_test.shape\n",
      "\n",
      "# #features\u306e\u9577\u3055\u306b\u5408\u308f\u305b\u308b\u305f\u3081\u306b\u30e9\u30d9\u30eb\u5217\u306e\u524d9\u500b\u3092\u6d88\u53bb\n",
      "# labels_svm_test = labels_test_transformed[window_length-1:]\n",
      "# print labels_svm_test\n",
      "# print len(labels_svm_test)"
     ],
     "language": "python",
     "metadata": {},
     "outputs": [],
     "prompt_number": 599
    },
    {
     "cell_type": "code",
     "collapsed": false,
     "input": [
      "# svm_clf = svm.SVC(kernel='linear')\n",
      "# svm_clf.fit(features_svm_train, labels_svm_train)"
     ],
     "language": "python",
     "metadata": {},
     "outputs": [],
     "prompt_number": 600
    },
    {
     "cell_type": "code",
     "collapsed": false,
     "input": [
      "# labels_predicted = svm_clf.predict(features_svm_test)\n",
      "# print labels_predicted[::20], len(labels_predicted)"
     ],
     "language": "python",
     "metadata": {},
     "outputs": [],
     "prompt_number": 601
    },
    {
     "cell_type": "code",
     "collapsed": false,
     "input": [
      "# #\u6b63\u89e3\u7387\u3092\u8a08\u7b97\n",
      "# count = 0\n",
      "# for i in range(len(labels_predicted)):\n",
      "#     if labels_predicted[i] == labels_svm_test[i]:\n",
      "#         count += 1\n",
      "# precision = count / np.float(len(labels_predicted))        \n",
      "# print 'count=%d' % count\n",
      "# print 'precision=%f' % precision"
     ],
     "language": "python",
     "metadata": {},
     "outputs": [],
     "prompt_number": 602
    },
    {
     "cell_type": "markdown",
     "metadata": {},
     "source": [
      "##SVM with raw mocap"
     ]
    },
    {
     "cell_type": "code",
     "collapsed": false,
     "input": [
      "print right_hand_data.shape, right_hand_data00.shape"
     ],
     "language": "python",
     "metadata": {},
     "outputs": [
      {
       "output_type": "stream",
       "stream": "stdout",
       "text": [
        "(4039, 15) (1241, 15)\n"
       ]
      }
     ],
     "prompt_number": 624
    },
    {
     "cell_type": "code",
     "collapsed": false,
     "input": [
      "print hmm_likelihoods_train.shape, hmm_likelihoods_test.shape"
     ],
     "language": "python",
     "metadata": {},
     "outputs": [
      {
       "output_type": "stream",
       "stream": "stdout",
       "text": [
        "(4039, 7) (1241, 7)\n"
       ]
      }
     ],
     "prompt_number": 625
    },
    {
     "cell_type": "code",
     "collapsed": false,
     "input": [
      "#SVM\u5b66\u7fd2\u6642\u306e\u7279\u5fb4\u91cf\u3068\u3059\u308b\u89d2\u5ea6\u30d9\u30af\u30c8\u30eb\u306e\u30b9\u30e9\u30a4\u30c7\u30a3\u30f3\u30b0\u30a6\u30a3\u30f3\u30c9\u30a6\n",
      "\n",
      "#\u5b66\u7fd2\u30c7\u30fc\u30bf\n",
      "len_anglevec = right_hand_data.shape[1]\n",
      "window_length = 2\n",
      "features_svm_train = np.empty((len(right_hand_data)-(window_length-1), len_anglevec*window_length))\n",
      "\n",
      "for i in xrange(window_length-1, len(right_hand_data)):\n",
      "    feature_reshaped = np.reshape(right_hand_data[i-(window_length-1):i+1, :], (1, len_anglevec*window_length))\n",
      "    features_svm_train[i-(window_length-1), :] = feature_reshaped\n",
      "\n",
      "\n",
      "print features_svm_train\n",
      "print features_svm_train.shape\n",
      "\n",
      "#features\u306e\u9577\u3055\u306b\u5408\u308f\u305b\u308b\u305f\u3081\u306b\u30e9\u30d9\u30eb\u5217\u306e\u524d9\u500b\u3092\u6d88\u53bb\n",
      "labels_svm_train = labels_transformed[window_length-1:]\n",
      "print labels_svm_train\n",
      "print len(labels_svm_train)"
     ],
     "language": "python",
     "metadata": {},
     "outputs": [
      {
       "output_type": "stream",
       "stream": "stdout",
       "text": [
        "[[  0.00000000e+00  -5.21392000e+00  -2.00357000e+01 ...,   9.54166000e-15\n",
        "   -0.00000000e+00   1.23186000e+01]\n",
        " [ -8.94531000e-16  -2.57831000e+00  -2.41989000e+01 ...,  -5.22996000e-06\n",
        "   -5.40694000e-14   1.08134000e+01]\n",
        " [  1.83207000e-02  -3.21344000e-01  -9.98805000e+00 ...,  -6.93874000e-06\n",
        "   -3.49861000e-14   1.24814000e+01]\n",
        " ..., \n",
        " [  7.50674000e-02  -1.45065000e+01   7.69747000e+00 ...,   2.80295000e-08\n",
        "   -0.00000000e+00   5.17098000e+00]\n",
        " [  6.94289000e-02  -1.35466000e+01   9.74589000e+00 ...,   5.63880000e-08\n",
        "   -0.00000000e+00   7.51370000e+00]\n",
        " [  7.30141000e-02  -1.29633000e+01   1.18340000e+01 ...,   5.16840000e-15\n",
        "    6.36111000e-15   9.52180000e+00]]\n",
        "(4038, 30)\n",
        "[0 0 0 ..., 0 0 0]\n",
        "4038\n"
       ]
      }
     ],
     "prompt_number": 43
    },
    {
     "cell_type": "code",
     "collapsed": false,
     "input": [
      "#\u30c6\u30b9\u30c8\u30c7\u30fc\u30bf\n",
      "len_anglevec = right_hand_data00.shape[1]\n",
      "window_length = 2\n",
      "features_svm_test = np.empty((len(right_hand_data00)-(window_length-1), len_anglevec*window_length))\n",
      "\n",
      "for i in xrange(window_length-1, len(right_hand_data00)):\n",
      "    feature_reshaped = np.reshape(right_hand_data00[i-(window_length-1):i+1, :], (1, len_anglevec*window_length))\n",
      "    features_svm_test[i-(window_length-1), :] = feature_reshaped\n",
      "\n",
      "\n",
      "print features_svm_test\n",
      "print features_svm_test.shape\n",
      "\n",
      "#features\u306e\u9577\u3055\u306b\u5408\u308f\u305b\u308b\u305f\u3081\u306b\u30e9\u30d9\u30eb\u5217\u306e\u524d9\u500b\u3092\u6d88\u53bb\n",
      "labels_svm_test = labels_test_transformed[window_length-1:]\n",
      "print labels_svm_test\n",
      "print len(labels_svm_test)"
     ],
     "language": "python",
     "metadata": {},
     "outputs": [
      {
       "output_type": "stream",
       "stream": "stdout",
       "text": [
        "[[  0.00000000e+00  -5.21392000e+00  -2.31811000e+01 ...,   8.74653000e-15\n",
        "   -2.54444000e-14   1.77617000e+00]\n",
        " [  3.18055000e-15  -6.07335000e+00  -2.24609000e+01 ...,   9.62114000e-09\n",
        "    3.18055000e-15   2.75192000e+00]\n",
        " [  1.38311000e-02  -4.17819000e+00  -2.34814000e+01 ...,   3.03726000e-08\n",
        "    3.18055000e-15   4.26690000e+00]\n",
        " ..., \n",
        " [ -5.83950000e-01   1.54159000e+01   2.25151000e+01 ...,   1.96199000e-07\n",
        "   -3.18055000e-15  -8.22263000e+00]\n",
        " [ -5.54221000e-01   1.61484000e+01   2.16820000e+01 ...,  -7.95139000e-15\n",
        "   -0.00000000e+00  -5.36006000e+00]\n",
        " [ -5.68309000e-01   1.73037000e+01   2.19255000e+01 ...,   6.36111000e-15\n",
        "    1.59028000e-14  -3.90904000e+00]]\n",
        "(1240, 30)\n",
        "[0 0 0 ..., 0 0 0]\n",
        "1240\n"
       ]
      }
     ],
     "prompt_number": 44
    },
    {
     "cell_type": "code",
     "collapsed": false,
     "input": [
      "svm_rawmocap = svm.SVC(kernel='poly')\n",
      "svm_rawmocap.fit(features_svm_train, labels_svm_train)"
     ],
     "language": "python",
     "metadata": {},
     "outputs": [
      {
       "metadata": {},
       "output_type": "pyout",
       "prompt_number": 51,
       "text": [
        "SVC(C=1.0, cache_size=200, class_weight=None, coef0=0.0, degree=3, gamma=0.0,\n",
        "  kernel='poly', max_iter=-1, probability=False, random_state=None,\n",
        "  shrinking=True, tol=0.001, verbose=False)"
       ]
      }
     ],
     "prompt_number": 51
    },
    {
     "cell_type": "code",
     "collapsed": false,
     "input": [
      "labels_predicted = svm_rawmocap.predict(features_svm_test)\n",
      "print labels_predicted[::20], len(labels_predicted)"
     ],
     "language": "python",
     "metadata": {},
     "outputs": [
      {
       "output_type": "stream",
       "stream": "stdout",
       "text": [
        "[0 0 4 0 0 3 6 0 0 6 6 0 0 5 0 0 0 6 6 4 2 6 0 2 2 6 6 0 4 0 2 0 4 4 0 0 6\n",
        " 2 2 0 2 2 0 0 2 4 2 0 0 4 2 0 0 4 4 6 6 6 6 2 2 0] 1240\n"
       ]
      }
     ],
     "prompt_number": 52
    },
    {
     "cell_type": "code",
     "collapsed": false,
     "input": [
      "#\u6b63\u89e3\u7387\u3092\u8a08\u7b97\n",
      "count = 0\n",
      "for i in range(len(labels_predicted)):\n",
      "    if labels_predicted[i] == labels_svm_test[i]:\n",
      "        count += 1\n",
      "precision = count / np.float(len(labels_predicted))        \n",
      "print 'count=%d' % count\n",
      "print 'precision=%f' % precision"
     ],
     "language": "python",
     "metadata": {},
     "outputs": [
      {
       "output_type": "stream",
       "stream": "stdout",
       "text": [
        "count=642\n",
        "precision=0.517742\n"
       ]
      }
     ],
     "prompt_number": 53
    },
    {
     "cell_type": "code",
     "collapsed": false,
     "input": [],
     "language": "python",
     "metadata": {},
     "outputs": []
    }
   ],
   "metadata": {}
  }
 ]
}