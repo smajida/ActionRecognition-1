{
 "metadata": {
  "name": "",
  "signature": "sha256:bd2b0ad38a998c689abc6bcc60aeaef7243c0bfe9e8dc5c5215d61e44f039e03"
 },
 "nbformat": 3,
 "nbformat_minor": 0,
 "worksheets": [
  {
   "cells": [
    {
     "cell_type": "markdown",
     "metadata": {},
     "source": [
      "#\u884c\u52d5\u8a8d\u8b58 \u5b9f\u9a13\uff14\n",
      "###HMM\u306e\u5165\u529b\u3067SVM  \n",
      "\u5b66\u7fd2\u30c7\u30fc\u30bf: 0-0, 0-1, 0-3, 0-7, 0-9, 0-12, 1-0, 1-1, 1-2, 1-3, 1-4, 1-5, 1-7  \n",
      "\u30c6\u30b9\u30c8\u30c7\u30fc\u30bf: 0-2, 0-4, 0-6, 0-8, 0-10, 0-11"
     ]
    },
    {
     "cell_type": "code",
     "collapsed": false,
     "input": [
      "import numpy as np\n",
      "from sklearn.cluster import KMeans\n",
      "from sklearn import svm\n",
      "from sklearn import preprocessing\n",
      "from sklearn.metrics import accuracy_score\n",
      "import csv, pickle"
     ],
     "language": "python",
     "metadata": {},
     "outputs": [],
     "prompt_number": 1
    },
    {
     "cell_type": "code",
     "collapsed": false,
     "input": [
      "###\u5b66\u7fd2\u30c7\u30fc\u30bf\n",
      "#BVH\u306e\u8aad\u307f\u8fbc\u307f\n",
      "mocap_train = np.genfromtxt('../tum_kitchen_dataset/poses_train.bvh', delimiter=\" \")\n",
      "#print data\n",
      "print mocap_train.shape"
     ],
     "language": "python",
     "metadata": {},
     "outputs": [
      {
       "output_type": "stream",
       "stream": "stdout",
       "text": [
        "(26059, 87)\n"
       ]
      }
     ],
     "prompt_number": 2
    },
    {
     "cell_type": "code",
     "collapsed": false,
     "input": [
      "#\u5de6\u8155\u90e8\u5206\u306e\u30c7\u30fc\u30bf\u3092\u53d6\u308a\u51fa\u3059\n",
      "lefthand_mocap_train = mocap_train[:, 40:55]\n",
      "#right_hand_data\n",
      "\n",
      "#kmeans\u306e\u5b9f\u884c\n",
      "k_means = KMeans(n_clusters=200, n_jobs=-1)\n",
      "k_means.fit(lefthand_mocap_train)"
     ],
     "language": "python",
     "metadata": {},
     "outputs": [
      {
       "metadata": {},
       "output_type": "pyout",
       "prompt_number": 3,
       "text": [
        "KMeans(copy_x=True, init='k-means++', max_iter=300, n_clusters=200, n_init=10,\n",
        "    n_jobs=-1, precompute_distances=True, random_state=None, tol=0.0001,\n",
        "    verbose=0)"
       ]
      }
     ],
     "prompt_number": 3
    },
    {
     "cell_type": "code",
     "collapsed": false,
     "input": [
      "#\u5b66\u7fd2\u7528\u306e\u30af\u30e9\u30b9\u30bf\u30e9\u30d9\u30eb\u5217\u3092\u5f97\u308b\n",
      "postures_train_num = k_means.labels_\n",
      "print postures_train_num\n",
      "print len(postures_train_num)\n",
      "\n",
      "lb = preprocessing.LabelBinarizer() #1ofK\u306b\u5909\u63db\n",
      "lb.fit(postures_train_num)\n",
      "print lb.classes_.shape #\u30af\u30e9\u30b9\u30bf\u6570K\u3068\u4e00\u81f4\u3057\u3066\u3044\u308b\u304b\u78ba\u8a8d\n",
      "postures_train = lb.transform(postures_train_num)\n",
      "print postures_train.shape"
     ],
     "language": "python",
     "metadata": {},
     "outputs": [
      {
       "output_type": "stream",
       "stream": "stdout",
       "text": [
        "[173  60  60 ..., 135 135 135]\n",
        "26059\n",
        "(200,)\n",
        "(26059, 200)"
       ]
      },
      {
       "output_type": "stream",
       "stream": "stdout",
       "text": [
        "\n"
       ]
      }
     ],
     "prompt_number": 4
    },
    {
     "cell_type": "code",
     "collapsed": false,
     "input": [
      "#\u5b66\u7fd2\u30e9\u30d9\u30eb\u30c7\u30fc\u30bf\u306e\u8aad\u307f\u8fbc\u307f\n",
      "#import csv\n",
      "f_train = open('../tum_kitchen_dataset/labels_train.csv')\n",
      "reader_train = csv.reader(f_train)\n",
      "\n",
      "labels_train_str = []\n",
      "\n",
      "#lefthand\u306e\u5217\u3092labels\u306b\u62bd\u51fa\n",
      "for row in reader_train:\n",
      "    #print row\n",
      "    if row[0] == 'instance':\n",
      "        pass\n",
      "    else:\n",
      "        labels_train_str.append(row[1])\n",
      "\n",
      "print labels_train_str[::2000]\n",
      "print len(labels_train_str)"
     ],
     "language": "python",
     "metadata": {},
     "outputs": [
      {
       "output_type": "stream",
       "stream": "stdout",
       "text": [
        "['CarryingWhileLocomoting', 'OpeningADrawer', 'Reaching', 'CarryingWhileLocomoting', 'TakingSomething', 'ClosingADrawer', 'CarryingWhileLocomoting', 'CarryingWhileLocomoting', 'CarryingWhileLocomoting', 'CarryingWhileLocomoting', 'ClosingADoor', 'CarryingWhileLocomoting', 'CarryingWhileLocomoting', 'CarryingWhileLocomoting']\n",
        "26059\n"
       ]
      }
     ],
     "prompt_number": 5
    },
    {
     "cell_type": "code",
     "collapsed": false,
     "input": [
      "#\u5b66\u7fd2\u30e9\u30d9\u30eb\u30c7\u30fc\u30bf\u306e\u6570\u5024\u3078\u306e\u5909\u63db\n",
      "#from sklearn import preprocessing\n",
      "le = preprocessing.LabelEncoder()\n",
      "\n",
      "le.fit(labels_train_str)\n",
      "\n",
      "print le.classes_, len(le.classes_)\n",
      "\n",
      "labels_train = le.transform(labels_train_str)\n",
      "print labels_train[::1000]"
     ],
     "language": "python",
     "metadata": {},
     "outputs": [
      {
       "output_type": "stream",
       "stream": "stdout",
       "text": [
        "['CarryingWhileLocomoting' 'ClosingADoor' 'ClosingADrawer'\n",
        " 'LoweringAnObject' 'OpeningADoor' 'OpeningADrawer' 'Reaching'\n",
        " 'ReleasingGraspOfSomething' 'TakingSomething'] 9\n",
        "[0 0 5 0 6 7 0 0 8 0 2 0 0 4 0 0 0 5 0 2 1 7 0 8 0 7 0]\n"
       ]
      }
     ],
     "prompt_number": 6
    },
    {
     "cell_type": "code",
     "collapsed": false,
     "input": [
      "###\u30c6\u30b9\u30c8\u30c7\u30fc\u30bf\n",
      "\n",
      "#BVH\u8aad\u307f\u8fbc\u307f\n",
      "mocap_train = np.genfromtxt('../tum_kitchen_dataset/poses_test.bvh', delimiter=\" \")\n",
      "print mocap_train.shape"
     ],
     "language": "python",
     "metadata": {},
     "outputs": [
      {
       "output_type": "stream",
       "stream": "stdout",
       "text": [
        "(8557, 87)\n"
       ]
      }
     ],
     "prompt_number": 7
    },
    {
     "cell_type": "code",
     "collapsed": false,
     "input": [
      "lefthand_mocap_test = mocap_train[:, 40:55]\n",
      "\n",
      "#\u5b66\u7fd2\u30c7\u30fc\u30bf\u306e\u524d\u51e6\u7406\u3067\u5b66\u7fd2\u3057\u305f\u30e2\u30c7\u30ebk_means\u3067\u30c6\u30b9\u30c8\u30c7\u30fc\u30bf\u306eposture\u5217\u3092\u4e88\u6e2c. k=20\n",
      "postures_test_num = k_means.predict(lefthand_mocap_test)\n",
      "print postures_test_num, len(postures_test_num)\n",
      "postures_test = lb.transform(postures_test_num)\n",
      "print postures_test.shape"
     ],
     "language": "python",
     "metadata": {},
     "outputs": [
      {
       "output_type": "stream",
       "stream": "stdout",
       "text": [
        "[173  60  60 ...,  82  60  60] 8557\n",
        "(8557, 200)\n"
       ]
      }
     ],
     "prompt_number": 8
    },
    {
     "cell_type": "code",
     "collapsed": false,
     "input": [
      "#\u30c6\u30b9\u30c8\u30e9\u30d9\u30eb\u30c7\u30fc\u30bf\u306e\u8aad\u307f\u8fbc\u307f\n",
      "#import csv\n",
      "f_test = open('../tum_kitchen_dataset/labels_test.csv')\n",
      "reader_test = csv.reader(f_test)\n",
      "\n",
      "labels_test_str = []\n",
      "\n",
      "#righthand\u306e\u5217\u3092labels\u306b\u62bd\u51fa\n",
      "for row in reader_test:\n",
      "    #print row\n",
      "    if row[0] == 'instance':\n",
      "        pass\n",
      "    else:\n",
      "        labels_test_str.append(row[1])\n",
      "\n",
      "print labels_test_str[:41]\n",
      "print len(labels_test_str)\n",
      "\n",
      "#\u6570\u5024\u30e9\u30d9\u30eb\u3078\u306e\u5909\u63db\n",
      "labels_test = le.transform(labels_test_str)\n",
      "print labels_test[::100], labels_test.shape"
     ],
     "language": "python",
     "metadata": {},
     "outputs": [
      {
       "output_type": "stream",
       "stream": "stdout",
       "text": [
        "['CarryingWhileLocomoting', 'CarryingWhileLocomoting', 'CarryingWhileLocomoting', 'CarryingWhileLocomoting', 'CarryingWhileLocomoting', 'CarryingWhileLocomoting', 'CarryingWhileLocomoting', 'CarryingWhileLocomoting', 'CarryingWhileLocomoting', 'CarryingWhileLocomoting', 'CarryingWhileLocomoting', 'CarryingWhileLocomoting', 'CarryingWhileLocomoting', 'CarryingWhileLocomoting', 'CarryingWhileLocomoting', 'CarryingWhileLocomoting', 'CarryingWhileLocomoting', 'CarryingWhileLocomoting', 'CarryingWhileLocomoting', 'CarryingWhileLocomoting', 'CarryingWhileLocomoting', 'CarryingWhileLocomoting', 'CarryingWhileLocomoting', 'CarryingWhileLocomoting', 'CarryingWhileLocomoting', 'CarryingWhileLocomoting', 'CarryingWhileLocomoting', 'CarryingWhileLocomoting', 'Reaching', 'Reaching', 'Reaching', 'Reaching', 'Reaching', 'Reaching', 'Reaching', 'Reaching', 'Reaching', 'Reaching', 'Reaching', 'Reaching', 'Reaching']\n",
        "8557\n",
        "[0 0 0 6 3 0 0 8 0 0 0 7 8 7 6 0 5 3 0 0 0 0 0 1 0 0 7 0 0 7 7 6 3 8 0 7 0\n",
        " 1 0 0 0 7 4 0 5 3 6 0 2 0 7 0 0 0 0 0 4 0 5 7 0 6 3 5 0 0 1 0 0 3 0 0 0 4\n",
        " 0 0 2 0 5 0 0 2 0 4 0 0] (8557,)\n"
       ]
      }
     ],
     "prompt_number": 9
    },
    {
     "cell_type": "code",
     "collapsed": false,
     "input": [
      "#\u96e2\u6563\u59ff\u52e2\u30c7\u30fc\u30bf\u3001\u30e9\u30d9\u30eb\u30c7\u30fc\u30bf\u3092\u4fdd\u5b58\n",
      "pickle.dump(postures_train, open(\"postures_train.dump\", \"wb\"))\n",
      "pickle.dump(postures_test, open(\"postures_test.dump\", \"wb\"))\n",
      "pickle.dump(labels_train, open(\"labels_train.dump\", \"wb\"))\n",
      "pickle.dump(labels_test, open(\"labels_test.dump\", \"wb\"))"
     ],
     "language": "python",
     "metadata": {},
     "outputs": [],
     "prompt_number": 10
    },
    {
     "cell_type": "code",
     "collapsed": false,
     "input": [
      "print postures_train.shape, labels_train.shape, postures_test.shape, labels_test.shape"
     ],
     "language": "python",
     "metadata": {},
     "outputs": [
      {
       "output_type": "stream",
       "stream": "stdout",
       "text": [
        "(26059, 200) (26059,) (8557, 200) (8557,)\n"
       ]
      }
     ],
     "prompt_number": 11
    },
    {
     "cell_type": "code",
     "collapsed": false,
     "input": [
      "#SVM\u306e\u7279\u5fb4\u91cf\u3068\u3059\u308b\u30b9\u30e9\u30a4\u30c7\u30a3\u30f3\u30b0\u30a6\u30a3\u30f3\u30c9\u30a6\n",
      "\n",
      "#\u5b66\u7fd2\u30c7\u30fc\u30bf\n",
      "len_posvec = postures_train.shape[1]\n",
      "window_length = 2\n",
      "features_train = np.empty((len(postures_train)-(window_length-1), len_posvec*window_length))\n",
      "\n",
      "for i in xrange(window_length-1, len(postures_train)):\n",
      "    feature_reshaped = np.reshape(postures_train[i-(window_length-1):i+1, :], (1, len_posvec*window_length))\n",
      "    features_train[i-(window_length-1), :] = feature_reshaped\n",
      "\n",
      "\n",
      "#print features_train\n",
      "print features_train.shape\n",
      "\n",
      "#features\u306e\u9577\u3055\u306b\u5408\u308f\u305b\u308b\u305f\u3081\u306b\u30e9\u30d9\u30eb\u5217\u306e\u524dwindow_length-1\u500b\u3092\u6d88\u53bb\n",
      "labels_train = labels_train[window_length-1:]\n",
      "#print labels_train\n",
      "print len(labels_train)"
     ],
     "language": "python",
     "metadata": {},
     "outputs": [
      {
       "output_type": "stream",
       "stream": "stdout",
       "text": [
        "(26058, 400)\n",
        "26058\n"
       ]
      }
     ],
     "prompt_number": 12
    },
    {
     "cell_type": "code",
     "collapsed": false,
     "input": [
      "#\u30c6\u30b9\u30c8\u30c7\u30fc\u30bf\n",
      "len_posvec = postures_test.shape[1]\n",
      "window_length = 2\n",
      "features_test = np.empty((len(postures_test)-(window_length-1), len_posvec*window_length))\n",
      "\n",
      "for i in xrange(window_length-1, len(postures_test)):\n",
      "    feature_reshaped = np.reshape(postures_test[i-(window_length-1):i+1, :], (1, len_posvec*window_length))\n",
      "    features_test[i-(window_length-1), :] = feature_reshaped\n",
      "\n",
      "\n",
      "#print features_test\n",
      "print features_test.shape\n",
      "\n",
      "#features\u306e\u9577\u3055\u306b\u5408\u308f\u305b\u308b\u305f\u3081\u306b\u30e9\u30d9\u30eb\u5217\u306e\u524dwindow_length-1\u500b\u3092\u6d88\u53bb\n",
      "labels_test = labels_test[window_length-1:]\n",
      "#print labels_test\n",
      "print len(labels_test)"
     ],
     "language": "python",
     "metadata": {},
     "outputs": [
      {
       "output_type": "stream",
       "stream": "stdout",
       "text": [
        "(8556, 400)\n",
        "8556\n"
       ]
      }
     ],
     "prompt_number": 13
    },
    {
     "cell_type": "markdown",
     "metadata": {},
     "source": [
      "##\u59ff\u52e2\u30af\u30e9\u30b9\u30bf(HMM\u306e\u5165\u529b)\u3092\u7279\u5fb4\u91cf\u3068\u3057\u305fSVM"
     ]
    },
    {
     "cell_type": "code",
     "collapsed": false,
     "input": [
      "#linear\u30ab\u30fc\u30cd\u30eb\n",
      "svm_PosCluster = svm.SVC()\n",
      "svm_PosCluster.fit(features_train, labels_train)"
     ],
     "language": "python",
     "metadata": {},
     "outputs": [
      {
       "metadata": {},
       "output_type": "pyout",
       "prompt_number": 14,
       "text": [
        "SVC(C=1.0, cache_size=200, class_weight=None, coef0=0.0, degree=3, gamma=0.0,\n",
        "  kernel='rbf', max_iter=-1, probability=False, random_state=None,\n",
        "  shrinking=True, tol=0.001, verbose=False)"
       ]
      }
     ],
     "prompt_number": 14
    },
    {
     "cell_type": "code",
     "collapsed": false,
     "input": [
      "labels_predicted = svm_PosCluster.predict(features_test)\n",
      "accuracy_score(labels_predicted, labels_test)"
     ],
     "language": "python",
     "metadata": {},
     "outputs": [
      {
       "metadata": {},
       "output_type": "pyout",
       "prompt_number": 15,
       "text": [
        "0.55107526881720426"
       ]
      }
     ],
     "prompt_number": 15
    },
    {
     "cell_type": "code",
     "collapsed": false,
     "input": [
      "print accuracy_score(labels_predicted, labels_test)"
     ],
     "language": "python",
     "metadata": {},
     "outputs": [
      {
       "output_type": "stream",
       "stream": "stdout",
       "text": [
        "0.551075268817\n"
       ]
      }
     ],
     "prompt_number": 16
    },
    {
     "cell_type": "code",
     "collapsed": false,
     "input": [],
     "language": "python",
     "metadata": {},
     "outputs": []
    }
   ],
   "metadata": {}
  }
 ]
}