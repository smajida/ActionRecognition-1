{
 "metadata": {
  "name": "",
  "signature": "sha256:1c504d83639e634138072f8558539fe7aeffdff1802cc5062df45d668dda6e6e"
 },
 "nbformat": 3,
 "nbformat_minor": 0,
 "worksheets": [
  {
   "cells": [
    {
     "cell_type": "markdown",
     "metadata": {},
     "source": [
      "#\u884c\u52d5\u8a8d\u8b58 \u5b9f\u9a132\n",
      "\u5b66\u7fd2\u30c7\u30fc\u30bf: 0-0, 0-1, 0-3, 0-7, 0-9, 0-12, 1-0, 1-1, 1-2, 1-3, 1-4, 1-5, 1-7  \n",
      "\u30c6\u30b9\u30c8\u30c7\u30fc\u30bf: 0-2, 0-4, 0-6, 0-8, 0-10, 0-11"
     ]
    },
    {
     "cell_type": "code",
     "collapsed": false,
     "input": [
      "import numpy as np\n",
      "from sklearn.cluster import KMeans\n",
      "from sklearn import svm"
     ],
     "language": "python",
     "metadata": {},
     "outputs": [],
     "prompt_number": 1
    },
    {
     "cell_type": "markdown",
     "metadata": {},
     "source": [
      "##\u30c7\u30fc\u30bf\u306e\u524d\u51e6\u7406\n",
      "\u5b66\u7fd2\u30c7\u30fc\u30bf(\u59ff\u52e2\u30af\u30e9\u30b9\u30bf)"
     ]
    },
    {
     "cell_type": "code",
     "collapsed": false,
     "input": [
      "###\u5b66\u7fd2MOTION\u30c7\u30fc\u30bf\n",
      "\n",
      "# \u30c7\u30fc\u30bf\u306e\u8aad\u307f\u8fbc\u307f\n",
      "data = np.genfromtxt('poses_train_exp02.bvh', delimiter=\" \")\n",
      "#print data\n",
      "print data.shape"
     ],
     "language": "python",
     "metadata": {},
     "outputs": [
      {
       "output_type": "stream",
       "stream": "stdout",
       "text": [
        "(26059, 87)\n"
       ]
      }
     ],
     "prompt_number": 2
    },
    {
     "cell_type": "code",
     "collapsed": false,
     "input": [
      "#\u5de6\u8155\u90e8\u5206\u306e\u30c7\u30fc\u30bf\u3092\u53d6\u308a\u51fa\u3059\n",
      "left_hand_data = data[:, 40:55]\n",
      "#right_hand_data\n",
      "\n",
      "#kmeans\u306e\u5b9f\u884c\n",
      "k_means = KMeans(n_clusters=200, n_jobs=-1)\n",
      "k_means.fit(left_hand_data)"
     ],
     "language": "python",
     "metadata": {},
     "outputs": [
      {
       "metadata": {},
       "output_type": "pyout",
       "prompt_number": 3,
       "text": [
        "KMeans(copy_x=True, init='k-means++', max_iter=300, n_clusters=200, n_init=10,\n",
        "    n_jobs=-1, precompute_distances=True, random_state=None, tol=0.0001,\n",
        "    verbose=0)"
       ]
      }
     ],
     "prompt_number": 3
    },
    {
     "cell_type": "code",
     "collapsed": false,
     "input": [
      "#\u5b66\u7fd2\u7528\u306e\u30af\u30e9\u30b9\u30bf\u30e9\u30d9\u30eb\u5217\u3092\u5f97\u308b\n",
      "postures = k_means.labels_\n",
      "print postures\n",
      "print len(postures)"
     ],
     "language": "python",
     "metadata": {},
     "outputs": [
      {
       "output_type": "stream",
       "stream": "stdout",
       "text": [
        "[106 106  82 ...,  82  82  82]\n",
        "26059\n"
       ]
      }
     ],
     "prompt_number": 4
    },
    {
     "cell_type": "markdown",
     "metadata": {},
     "source": [
      "\u5b66\u7fd2\u30c7\u30fc\u30bf(\u30e9\u30d9\u30eb)"
     ]
    },
    {
     "cell_type": "code",
     "collapsed": false,
     "input": [
      "#\u5b66\u7fd2\u30e9\u30d9\u30eb\u30c7\u30fc\u30bf\u306e\u524d\u51e6\u7406\n",
      "import csv\n",
      "f = open('labels_train_exp02.csv')\n",
      "reader = csv.reader(f)\n",
      "\n",
      "labels = []\n",
      "\n",
      "#lefthand\u306e\u5217\u3092labels\u306b\u62bd\u51fa\n",
      "for row in reader:\n",
      "    #print row\n",
      "    if row[0] == 'instance':\n",
      "        pass\n",
      "    else:\n",
      "        labels.append(row[1])\n",
      "\n",
      "print labels[::2000]\n",
      "print len(labels)"
     ],
     "language": "python",
     "metadata": {},
     "outputs": [
      {
       "output_type": "stream",
       "stream": "stdout",
       "text": [
        "['CarryingWhileLocomoting', 'OpeningADrawer', 'Reaching', 'CarryingWhileLocomoting', 'TakingSomething', 'ClosingADrawer', 'CarryingWhileLocomoting', 'CarryingWhileLocomoting', 'CarryingWhileLocomoting', 'CarryingWhileLocomoting', 'ClosingADoor', 'CarryingWhileLocomoting', 'CarryingWhileLocomoting', 'CarryingWhileLocomoting']\n",
        "26059\n"
       ]
      }
     ],
     "prompt_number": 5
    },
    {
     "cell_type": "code",
     "collapsed": true,
     "input": [
      "#\u30e9\u30d9\u30eb\u306e\u6570\u5024\u3078\u306e\u5909\u63db\n",
      "from sklearn import preprocessing\n",
      "le = preprocessing.LabelEncoder()\n",
      "\n",
      "le.fit(labels)\n",
      "\n",
      "print le.classes_, len(le.classes_)\n",
      "\n",
      "labels_transformed = le.transform(labels)\n",
      "print labels_transformed[::1000]"
     ],
     "language": "python",
     "metadata": {},
     "outputs": [
      {
       "output_type": "stream",
       "stream": "stdout",
       "text": [
        "['CarryingWhileLocomoting' 'ClosingADoor' 'ClosingADrawer'\n",
        " 'LoweringAnObject' 'OpeningADoor' 'OpeningADrawer' 'Reaching'\n",
        " 'ReleasingGraspOfSomething' 'TakingSomething'] 9\n",
        "[0 0 5 0 6 7 0 0 8 0 2 0 0 4 0 0 0 5 0 2 1 7 0 8 0 7 0]\n"
       ]
      }
     ],
     "prompt_number": 6
    },
    {
     "cell_type": "markdown",
     "metadata": {},
     "source": [
      "\u30c6\u30b9\u30c8\u30c7\u30fc\u30bf(\u59ff\u52e2\u30af\u30e9\u30b9\u30bf)"
     ]
    },
    {
     "cell_type": "code",
     "collapsed": false,
     "input": [
      "###\u30c6\u30b9\u30c8MOTION\u30c7\u30fc\u30bf\n",
      "\n",
      "#bvh\u8aad\u307f\u8fbc\u307f\n",
      "data00 = np.genfromtxt('poses_test_exp02.bvh', delimiter=\" \")\n",
      "#print data00\n",
      "print data00.shape"
     ],
     "language": "python",
     "metadata": {},
     "outputs": [
      {
       "output_type": "stream",
       "stream": "stdout",
       "text": [
        "(8557, 87)\n"
       ]
      }
     ],
     "prompt_number": 7
    },
    {
     "cell_type": "code",
     "collapsed": false,
     "input": [
      "left_hand_data00 = data00[:, 40:55]\n",
      "\n",
      "#\u5b66\u7fd2\u30c7\u30fc\u30bf\u306e\u524d\u51e6\u7406\u3067\u5b66\u7fd2\u3057\u305f\u30e2\u30c7\u30ebk_means\u3067\u30c6\u30b9\u30c8\u30c7\u30fc\u30bf\u306eposture\u5217\u3092\u4e88\u6e2c. k=20\n",
      "postures_test = k_means.predict(left_hand_data00)\n",
      "print postures_test, len(postures_test)"
     ],
     "language": "python",
     "metadata": {},
     "outputs": [
      {
       "output_type": "stream",
       "stream": "stdout",
       "text": [
        "[106  82  82 ..., 106 106  82] 8557\n"
       ]
      }
     ],
     "prompt_number": 8
    },
    {
     "cell_type": "markdown",
     "metadata": {},
     "source": [
      "\u30c6\u30b9\u30c8\u30c7\u30fc\u30bf(\u30e9\u30d9\u30eb)"
     ]
    },
    {
     "cell_type": "code",
     "collapsed": false,
     "input": [
      "#\u30c6\u30b9\u30c8\u30c7\u30fc\u30bf\u306e\u6b63\u89e3\u30e9\u30d9\u30eb\u524d\u51e6\u7406\n",
      "import csv\n",
      "f_test = open('labels_test_exp02.csv')\n",
      "reader_test = csv.reader(f_test)\n",
      "\n",
      "labels_test = []\n",
      "\n",
      "#righthand\u306e\u5217\u3092labels\u306b\u62bd\u51fa\n",
      "for row in reader_test:\n",
      "    #print row\n",
      "    if row[0] == 'instance':\n",
      "        pass\n",
      "    else:\n",
      "        labels_test.append(row[1])\n",
      "\n",
      "print labels_test[:41]\n",
      "print len(labels_test)\n",
      "\n",
      "#\u6570\u5024\u30e9\u30d9\u30eb\u3078\u306e\u5909\u63db\n",
      "labels_test_transformed = le.transform(labels_test)"
     ],
     "language": "python",
     "metadata": {},
     "outputs": [
      {
       "output_type": "stream",
       "stream": "stdout",
       "text": [
        "['CarryingWhileLocomoting', 'CarryingWhileLocomoting', 'CarryingWhileLocomoting', 'CarryingWhileLocomoting', 'CarryingWhileLocomoting', 'CarryingWhileLocomoting', 'CarryingWhileLocomoting', 'CarryingWhileLocomoting', 'CarryingWhileLocomoting', 'CarryingWhileLocomoting', 'CarryingWhileLocomoting', 'CarryingWhileLocomoting', 'CarryingWhileLocomoting', 'CarryingWhileLocomoting', 'CarryingWhileLocomoting', 'CarryingWhileLocomoting', 'CarryingWhileLocomoting', 'CarryingWhileLocomoting', 'CarryingWhileLocomoting', 'CarryingWhileLocomoting', 'CarryingWhileLocomoting', 'CarryingWhileLocomoting', 'CarryingWhileLocomoting', 'CarryingWhileLocomoting', 'CarryingWhileLocomoting', 'CarryingWhileLocomoting', 'CarryingWhileLocomoting', 'CarryingWhileLocomoting', 'Reaching', 'Reaching', 'Reaching', 'Reaching', 'Reaching', 'Reaching', 'Reaching', 'Reaching', 'Reaching', 'Reaching', 'Reaching', 'Reaching', 'Reaching']\n",
        "8557\n"
       ]
      }
     ],
     "prompt_number": 9
    },
    {
     "cell_type": "code",
     "collapsed": false,
     "input": [
      "#Suvervised Markov Model class\n",
      "class Supervised_markov_model:\n",
      "\n",
      "\tdef __init__(self):\n",
      "\t\t\"\"\"\n",
      "\t\tConstructor\n",
      "\t\t\"\"\"\n",
      "\t\tself.emit_prob = None\n",
      "\t\tself.trans_prob = None\n",
      "\n",
      "\n",
      "\tdef fit(self, X, y):\n",
      "\t\t\"\"\"\n",
      "\t\tFitting Model\n",
      "\t\t\"\"\"\n",
      "\t\t#\u5404\u5b9a\u6570\u306e\u8a2d\u5b9a\n",
      "\t\tn_frame = len(X)\n",
      "\t\tn_posture = 200\n",
      "\t\tn_label = len(le.classes_)\n",
      "\n",
      "\n",
      "\t\t#\u51fa\u529b\u78ba\u7387\u306e\u8a08\u7b97\n",
      "\t\tn_emit = np.zeros((n_posture, n_label))\n",
      "\t\tn_emit.fill(10**(-10)) #\u51fa\u529b\u78ba\u7387\u306e\u8981\u7d20\u304c\u30bc\u30ed\u306b\u306a\u3089\u306a\u3044\u3088\u3046\u306b\u5fae\u5c0f\u5024\u3092\u4ee3\u5165\n",
      "\t\tfor i in xrange(n_frame):\n",
      "\t\t\tn_emit[X[i], y[i]] += 1\n",
      "\n",
      "\t\t#x\u306b\u3064\u3044\u3066\u8db3\u3059\n",
      "\t\txsum_n_emit = np.sum(n_emit, axis=0)\n",
      "\n",
      "\t\tself.emit_prob = np.zeros((n_posture, n_label))\n",
      "\t\tself.emit_prob.fill\n",
      "\t\tfor xi in xrange(n_posture):\n",
      "\t\t\tfor yi in xrange(n_label):\n",
      "\t\t\t\tif n_emit[xi, yi] == 0:\n",
      "\t\t\t\t\tpass\n",
      "\t\t\t\telse:\n",
      "\t\t\t\t\tself.emit_prob[xi, yi] = n_emit[xi, yi] / np.float(xsum_n_emit[yi])\n",
      "\n",
      "# \t\tprint('emission probability')\n",
      "# \t\tprint self.emit_prob\n",
      "\n",
      "\t\t#\u9077\u79fb\u78ba\u7387\u306e\u8a08\u7b97\n",
      "\t\tn_trans = np.zeros((n_label, n_label))\n",
      "\t\tn_trans.fill(10**(-10))\n",
      "\t\tfor j in xrange(n_frame-1):\n",
      "\t\t\tn_trans[y[j], y[j+1]] += 1\n",
      "\n",
      "\t\t#y_after\u306b\u3064\u3044\u3066\u8db3\u3059\n",
      "\t\tyasum_n_trans = np.sum(n_trans, axis=1)\n",
      "\n",
      "\t\tself.trans_prob = np.zeros((n_label, n_label))\n",
      "\t\tfor y_after in xrange(n_label):\n",
      "\t\t\tfor y_before in xrange(n_label):\n",
      "\t\t\t\tif n_trans[y_before, y_after] == 0:\n",
      "\t\t\t\t\tpass\n",
      "\t\t\t\telse:\n",
      "\t\t\t\t\tself.trans_prob[y_before, y_after] = n_trans[y_before, y_after] / np.float(yasum_n_trans[y_before])\n",
      "\n",
      "# \t\tprint('transition probability')\n",
      "# \t\tprint self.trans_prob\n",
      "\n",
      "#\t\treturn self.emit_prob, self.trans_prob\n",
      "\n",
      "\tdef predict(self, X):\n",
      "\t\t\"\"\"\n",
      "\t\tPredict class\n",
      "\t\t\"\"\"\n",
      "\t\tn_frame = len(X)\n",
      "\t\tn_label = len(le.classes_)\n",
      "\t\tself.labels_predicted = np.empty(n_frame, dtype=int)\n",
      "\n",
      "\t\t#\u5c24\u5ea6\u4fdd\u5b58\u7528\u884c\u5217\n",
      "\t\tmatP = np.empty((n_frame, n_label))\n",
      "\t\t#\u521d\u671f\u78ba\u7387\u306f\u30af\u30e9\u30b90\u304c0.99, \u305d\u306e\u4ed6\u306f\u5f53\u78ba\u7387\u3068\u3059\u308b\n",
      "\t\tmatP[0, 0] = 0.99\n",
      "\t\tfor i in xrange(1,n_label):\n",
      "\t\t\tmatP[0, i] = (1 - 0.99) / (n_label - 1)\n",
      "\t\t# matP[0, 0] = np.log(0.99)\n",
      "\t\t# for i in xrange(1,n_label):\n",
      "\t\t# \tmatP[0, i] = np.log((1 - 0.99) / (n_label - 1))\n",
      "\t\t#\u30e9\u30d9\u30eb\u4fdd\u5b58\u7528\u884c\u5217\n",
      "\t\tmatL = np.empty((n_frame, n_label))\n",
      "\n",
      "\t\t#\u30f4\u30a3\u30bf\u30d3\u7d4c\u8def\u306e\u8a08\u7b97\n",
      "\t\tfor j in xrange(1, n_frame):\n",
      "\t\t\t#print '\\ntime=%d' % j\n",
      "\t\t\tfor yj in xrange(n_label):\n",
      "\t\t\t\t#print 'y_j=%d' % yj\n",
      "\t\t\t\tprob = np.empty(n_label)\n",
      "\t\t\t\tfor yk in xrange(n_label):\n",
      "\t\t\t\t\t#print 'y_j-1=%d' % yk\n",
      "\t\t\t\t\t#\u51fa\u529b\u78ba\u7387\u307e\u305f\u306f\u9077\u79fb\u78ba\u7387\u304c0\u306e\u5834\u5408\u306fNone\n",
      "\t\t\t\t\tif (self.emit_prob[X[j], yj] == 0.) or (self.trans_prob[yk, yj] == 0.):\n",
      "\t\t\t\t\t\tprob[yk] = None\n",
      "\t\t\t\t\t\t#print \"zero error\", logprob[yk]\n",
      "\t\t\t\t\telse:\n",
      "\t\t\t\t\t\tprob[yk] = self.emit_prob[X[j], yj] * self.trans_prob[yk, yj] * matP[j-1, yk]\n",
      "\t\t\t\t\t\t#logprob[yk] = np.log(self.emit_prob[X[j], yj]) + np.log(self.trans_prob[yk, yj]) + matP[j-1, yk]\n",
      "\n",
      "\t\t\t\t\t\t#print logprob[yk]\n",
      "\t\t\t\t\t\t#print np.log(self.emit_prob[X[j], yj]), np.log(self.trans_prob[yk, yj]), matP[j-1, yk]\n",
      "\t\t\t\t#print 'logprob', logprob\n",
      "\n",
      "\t\t\t\t#logprob\u304c\u5168\u3066nan\u306e\u5834\u5408\u306fnan\u3092\u8fd4\u3059\n",
      "\t\t\t\tcount = 0\n",
      "\t\t\t\tfor i in prob:\n",
      "\t\t\t\t\tif np.isnan(i) == True:\n",
      "\t\t\t\t\t\tcount += 1\n",
      "\n",
      "\t\t\t\tif count == len(prob):\n",
      "\t\t\t\t\tmatP[j, yj] = None\n",
      "\t\t\t\t\tmatL[j, yj] = None\n",
      "\t\t\t\telse:\n",
      "\t\t\t\t\tmatP[j, yj] = np.nanmax(prob)\n",
      "\t\t\t\t\tmatL[j, yj] = np.nanargmax(prob)\n",
      "\t\t\t\t#print np.argmax(logprob)\n",
      "\t\t\t\t#print 'matP[%d, %d]=%f' % (j, yj, matP[j, yj])\n",
      "\t\t\t\t#print 'matL[%d, %d]=%f\\n' % (j, yj, matL[j, yj])\n",
      "\n",
      "\t\t\t#\u30af\u30e9\u30b9\u3054\u3068\u306e\u78ba\u7387\u3092\u8db3\u3059\u30681\u306b\u306a\u308b\u3088\u3046\u306b\u6b63\u898f\u5316\n",
      "\t\t\tmatP[j, :] = matP[j, :] / np.sum(matP[j, :])\n",
      "\n",
      "\t\t# print ('matP')\n",
      "\t\t# print np.array(matP)\n",
      "\t\t# print ('matL')\n",
      "\t\t# print np.array(matL)\n",
      "\t\tself.likelihoods = matP\n",
      "\n",
      "\n",
      "\t\t#\u63a8\u5b9a\u30e9\u30d9\u30eb\u5217\u306e\u6c7a\u5b9a\n",
      "\t\tself.labels_predicted[n_frame-1] = np.nanargmax(matP[n_frame-1, :])\n",
      "\t\tfor j in reversed(xrange(n_frame-1)):\n",
      "\t\t\tself.labels_predicted[j] = matL[j+1, self.labels_predicted[j+1]]\n",
      "\n",
      "\t\treturn self.labels_predicted"
     ],
     "language": "python",
     "metadata": {},
     "outputs": []
    },
    {
     "cell_type": "markdown",
     "metadata": {},
     "source": [
      "##HMM"
     ]
    },
    {
     "cell_type": "code",
     "collapsed": false,
     "input": [
      "#HMM\u5b66\u7fd2\n",
      "model = Supervised_markov_model()\n",
      "model.fit(postures, labels_transformed)"
     ],
     "language": "python",
     "metadata": {},
     "outputs": [],
     "prompt_number": 12
    },
    {
     "cell_type": "code",
     "collapsed": false,
     "input": [
      "#\u30c6\u30b9\u30c8\u30c7\u30fc\u30bf\u306e\u30e9\u30d9\u30eb\u4e88\u6e2c\n",
      "model.predict(postures_test)"
     ],
     "language": "python",
     "metadata": {},
     "outputs": [
      {
       "metadata": {},
       "output_type": "pyout",
       "prompt_number": 13,
       "text": [
        "array([0, 0, 0, ..., 0, 0, 0])"
       ]
      }
     ],
     "prompt_number": 13
    },
    {
     "cell_type": "code",
     "collapsed": false,
     "input": [
      "#\u30c6\u30b9\u30c8\u7528\u306e\u5c24\u5ea6\u30d9\u30af\u30c8\u30eb\u5217\u3092\u5f97\u308b\n",
      "hmm_likelihoods_test = model.likelihoods\n",
      "print hmm_likelihoods_test.shape"
     ],
     "language": "python",
     "metadata": {},
     "outputs": [
      {
       "output_type": "stream",
       "stream": "stdout",
       "text": [
        "(8557, 9)\n"
       ]
      }
     ],
     "prompt_number": 14
    },
    {
     "cell_type": "code",
     "collapsed": false,
     "input": [
      "#\u4e88\u6e2c\u30e9\u30d9\u30eb\u3068\u6b63\u89e3\u30e9\u30d9\u30eb\u306e\u9577\u3055\u304c\u4e00\u81f4\u3057\u3066\u3044\u308b\u304b\u78ba\u8a8d\n",
      "print len(model.labels_predicted), len(labels_test_transformed)\n",
      "print labels_test_transformed"
     ],
     "language": "python",
     "metadata": {},
     "outputs": [
      {
       "output_type": "stream",
       "stream": "stdout",
       "text": [
        "8557 8557\n",
        "[0 0 0 ..., 0 0 0]\n"
       ]
      }
     ],
     "prompt_number": 15
    },
    {
     "cell_type": "code",
     "collapsed": false,
     "input": [
      "#\u6b63\u89e3\u7387\u3092\u8a08\u7b97\n",
      "count = 0\n",
      "for i in range(len(model.labels_predicted)):\n",
      "    if model.labels_predicted[i] == labels_test_transformed[i]:\n",
      "        count += 1\n",
      "precision = count / np.float(len(model.labels_predicted))        \n",
      "print 'count=%d' % count\n",
      "print 'precision=%f' % precision"
     ],
     "language": "python",
     "metadata": {},
     "outputs": [
      {
       "output_type": "stream",
       "stream": "stdout",
       "text": [
        "count=3716\n",
        "precision=0.434264\n"
       ]
      }
     ],
     "prompt_number": 16
    },
    {
     "cell_type": "code",
     "collapsed": false,
     "input": [
      "#\u5b66\u7fd2\u30c7\u30fc\u30bf\u306e\u5c24\u5ea6\u30d9\u30af\u30c8\u30eb\u5217\u3092\u5f97\u308b\n",
      "model.predict(postures)\n",
      "hmm_likelihoods_train = model.likelihoods"
     ],
     "language": "python",
     "metadata": {},
     "outputs": [],
     "prompt_number": 17
    },
    {
     "cell_type": "markdown",
     "metadata": {},
     "source": [
      "##SVM with likelihood"
     ]
    },
    {
     "cell_type": "code",
     "collapsed": false,
     "input": [
      "print hmm_likelihoods_train.shape"
     ],
     "language": "python",
     "metadata": {},
     "outputs": [
      {
       "output_type": "stream",
       "stream": "stdout",
       "text": [
        "(26059, 9)\n"
       ]
      }
     ],
     "prompt_number": 18
    },
    {
     "cell_type": "code",
     "collapsed": false,
     "input": [
      "#SVM\u5b66\u7fd2\u6642\u306e\u7279\u5fb4\u91cf\u3068\u3059\u308b\u5c24\u5ea6\u30d9\u30af\u30c8\u30eb\u306e\u30b9\u30e9\u30a4\u30c7\u30a3\u30f3\u30b0\u30a6\u30a3\u30f3\u30c9\u30a6\n",
      "\n",
      "#\u5b66\u7fd2\u30c7\u30fc\u30bf\n",
      "n_label = hmm_likelihoods_train.shape[1]\n",
      "window_length = 2\n",
      "features_train = np.empty((len(hmm_likelihoods_train)-(window_length-1), n_label*window_length))\n",
      "\n",
      "for i in xrange(window_length-1, len(hmm_likelihoods_train)):\n",
      "    likelihood_reshaped = np.reshape(hmm_likelihoods_train[i-(window_length-1):i+1, :], (1, n_label*window_length))\n",
      "    features_train[i-(window_length-1), :] = likelihood_reshaped\n",
      "\n",
      "                \n",
      "print features_train\n",
      "print features_train.shape\n",
      "\n",
      "#features\u306e\u9577\u3055\u306b\u5408\u308f\u305b\u308b\u305f\u3081\u306b\u30e9\u30d9\u30eb\u5217\u306e\u524d9\u500b\u3092\u6d88\u53bb\n",
      "labels_train = labels_transformed[window_length-1:]\n",
      "print labels_train\n",
      "print len(labels_train)"
     ],
     "language": "python",
     "metadata": {},
     "outputs": [
      {
       "output_type": "stream",
       "stream": "stdout",
       "text": [
        "[[  9.90000000e-01   1.25000000e-03   1.25000000e-03 ...,   1.33237297e-03\n",
        "    1.92622005e-04   1.25189081e-14]\n",
        " [  9.97645256e-01   9.39301995e-15   7.43222183e-04 ...,   1.33309907e-03\n",
        "    2.94711748e-05   7.08586724e-16]\n",
        " [  9.98188940e-01   5.28375222e-16   4.38755909e-04 ...,   1.33336345e-03\n",
        "    1.10774776e-05   7.08727248e-16]\n",
        " ..., \n",
        " [  9.98630319e-01   5.35094857e-16   6.09428231e-16 ...,   1.35005282e-03\n",
        "    1.96282302e-05   7.17598207e-16]\n",
        " [  9.98630319e-01   5.35094857e-16   6.09428231e-16 ...,   1.82075326e-04\n",
        "    4.15983518e-05   4.83895613e-16]\n",
        " [  9.99776326e-01   3.60828736e-16   4.10953713e-16 ...,   1.82075326e-04\n",
        "    4.15983518e-05   4.83895613e-16]]\n",
        "(26058, 18)\n",
        "[0 0 0 ..., 0 0 0]\n",
        "26058\n"
       ]
      }
     ],
     "prompt_number": 19
    },
    {
     "cell_type": "code",
     "collapsed": false,
     "input": [
      "#\u30c6\u30b9\u30c8\u30c7\u30fc\u30bf\n",
      "\n",
      "n_label = hmm_likelihoods_test.shape[1]\n",
      "window_length = 2\n",
      "features_test = np.empty((len(hmm_likelihoods_test)-(window_length-1), n_label*window_length))\n",
      "\n",
      "for i in xrange(window_length-1, len(hmm_likelihoods_test)):\n",
      "    likelihood_reshaped = np.reshape(hmm_likelihoods_test[i-(window_length-1):i+1, :], (1, n_label*window_length))\n",
      "    features_test[i-(window_length-1), :] = likelihood_reshaped\n",
      "\n",
      "                \n",
      "print features_test\n",
      "print features_test.shape\n",
      "\n",
      "#features\u306e\u9577\u3055\u306b\u5408\u308f\u305b\u308b\u305f\u3081\u306b\u30e9\u30d9\u30eb\u5217\u306e\u524d9\u500b\u3092\u6d88\u53bb\n",
      "labels_test = labels_test_transformed[window_length-1:]\n",
      "print labels_test\n",
      "print len(labels_test)"
     ],
     "language": "python",
     "metadata": {},
     "outputs": [
      {
       "output_type": "stream",
       "stream": "stdout",
       "text": [
        "[[  9.90000000e-01   1.25000000e-03   1.25000000e-03 ...,   1.81951184e-04\n",
        "    7.23381945e-04   8.54801997e-15]\n",
        " [  9.99094667e-01   6.41363620e-15   7.24969441e-15 ...,   1.82007346e-04\n",
        "    4.14942482e-04   4.83714946e-16]\n",
        " [  9.99403050e-01   3.60694017e-16   4.10800279e-16 ...,   4.13238121e-04\n",
        "    1.22781488e-04   5.49124691e-16]\n",
        " ..., \n",
        " [  9.77776477e-01   5.17570214e-16   4.12628391e-05 ...,   4.18988912e-03\n",
        "    1.10480104e-05   3.16575544e-15]\n",
        " [  9.95731090e-01   5.27074198e-16   4.20205361e-05 ...,   1.33365257e-03\n",
        "    1.10798796e-05   7.08880929e-16]\n",
        " [  9.98603388e-01   5.28594603e-16   4.21417490e-05 ...,   1.33365257e-03\n",
        "    1.10798796e-05   7.08880929e-16]]\n",
        "(8556, 18)\n",
        "[0 0 0 ..., 0 0 0]\n",
        "8556\n"
       ]
      }
     ],
     "prompt_number": 20
    },
    {
     "cell_type": "code",
     "collapsed": false,
     "input": [
      "svm_likelihood_SW = svm.SVC(kernel='linear')\n",
      "svm_likelihood_SW.fit(features_train, labels_train)"
     ],
     "language": "python",
     "metadata": {},
     "outputs": [
      {
       "metadata": {},
       "output_type": "pyout",
       "prompt_number": 21,
       "text": [
        "SVC(C=1.0, cache_size=200, class_weight=None, coef0=0.0, degree=3, gamma=0.0,\n",
        "  kernel='linear', max_iter=-1, probability=False, random_state=None,\n",
        "  shrinking=True, tol=0.001, verbose=False)"
       ]
      }
     ],
     "prompt_number": 21
    },
    {
     "cell_type": "code",
     "collapsed": false,
     "input": [
      "labels_predicted_svm_likelihood_SW = svm_likelihood_SW.predict(features_test)\n",
      "print labels_predicted_svm_likelihood_SW[::100]"
     ],
     "language": "python",
     "metadata": {},
     "outputs": [
      {
       "output_type": "stream",
       "stream": "stdout",
       "text": [
        "[0 0 2 6 0 0 0 3 0 5 0 2 7 0 1 0 7 0 0 0 0 0 0 1 0 0 0 0 6 1 3 6 3 0 0 0 0\n",
        " 1 0 5 0 3 1 3 3 3 7 0 0 0 1 0 3 6 3 0 1 0 2 5 5 6 6 2 0 6 6 0 5 1 0 0 6 1\n",
        " 6 0 3 6 3 0 0 3 2 6 0 6]\n"
       ]
      }
     ],
     "prompt_number": 22
    },
    {
     "cell_type": "code",
     "collapsed": false,
     "input": [
      "#SVM with HMM likelihood\u306e\u6b63\u89e3\u7387\u3092\u8a08\u7b97\n",
      "count = 0\n",
      "for i in range(len(labels_predicted_svm_likelihood_SW)):\n",
      "    if labels_predicted_svm_likelihood_SW[i] == labels_test_transformed[i]:\n",
      "        count += 1\n",
      "precision = count / np.float(len(labels_predicted_svm_likelihood_SW))        \n",
      "print 'count=%d' % count\n",
      "print 'precision=%f' % precision"
     ],
     "language": "python",
     "metadata": {},
     "outputs": [
      {
       "output_type": "stream",
       "stream": "stdout",
       "text": [
        "count=4377\n",
        "precision=0.511571\n"
       ]
      }
     ],
     "prompt_number": 23
    },
    {
     "cell_type": "markdown",
     "metadata": {},
     "source": [
      "##SVM with raw mocap"
     ]
    },
    {
     "cell_type": "code",
     "collapsed": false,
     "input": [
      "#SVM\u5b66\u7fd2\u6642\u306e\u7279\u5fb4\u91cf\u3068\u3059\u308b\u89d2\u5ea6\u30d9\u30af\u30c8\u30eb\u306e\u30b9\u30e9\u30a4\u30c7\u30a3\u30f3\u30b0\u30a6\u30a3\u30f3\u30c9\u30a6\n",
      "\n",
      "#\u5b66\u7fd2\u30c7\u30fc\u30bf\n",
      "len_anglevec = left_hand_data.shape[1]\n",
      "window_length = 2\n",
      "features_svm_train = np.empty((len(left_hand_data)-(window_length-1), len_anglevec*window_length))\n",
      "\n",
      "for i in xrange(window_length-1, len(left_hand_data)):\n",
      "    feature_reshaped = np.reshape(left_hand_data[i-(window_length-1):i+1, :], (1, len_anglevec*window_length))\n",
      "    features_svm_train[i-(window_length-1), :] = feature_reshaped\n",
      "\n",
      "\n",
      "#print features_svm_train\n",
      "print features_svm_train.shape\n",
      "\n",
      "#features\u306e\u9577\u3055\u306b\u5408\u308f\u305b\u308b\u305f\u3081\u306b\u30e9\u30d9\u30eb\u5217\u306e\u524d9\u500b\u3092\u6d88\u53bb\n",
      "labels_svm_train = labels_transformed[window_length-1:]\n",
      "#print labels_svm_train\n",
      "print len(labels_svm_train)"
     ],
     "language": "python",
     "metadata": {},
     "outputs": [
      {
       "output_type": "stream",
       "stream": "stdout",
       "text": [
        "(26058, 30)\n",
        "26058\n"
       ]
      }
     ],
     "prompt_number": 10
    },
    {
     "cell_type": "code",
     "collapsed": false,
     "input": [
      "#\u30c6\u30b9\u30c8\u30c7\u30fc\u30bf\n",
      "len_anglevec = left_hand_data00.shape[1]\n",
      "window_length = 2\n",
      "features_svm_test = np.empty((len(left_hand_data00)-(window_length-1), len_anglevec*window_length))\n",
      "\n",
      "for i in xrange(window_length-1, len(left_hand_data00)):\n",
      "    feature_reshaped = np.reshape(left_hand_data00[i-(window_length-1):i+1, :], (1, len_anglevec*window_length))\n",
      "    features_svm_test[i-(window_length-1), :] = feature_reshaped\n",
      "\n",
      "\n",
      "#print features_svm_test\n",
      "print features_svm_test.shape\n",
      "\n",
      "#features\u306e\u9577\u3055\u306b\u5408\u308f\u305b\u308b\u305f\u3081\u306b\u30e9\u30d9\u30eb\u5217\u306e\u524d9\u500b\u3092\u6d88\u53bb\n",
      "labels_svm_test = labels_test_transformed[window_length-1:]\n",
      "#print labels_svm_test\n",
      "print len(labels_svm_test)"
     ],
     "language": "python",
     "metadata": {},
     "outputs": [
      {
       "output_type": "stream",
       "stream": "stdout",
       "text": [
        "(8556, 30)\n",
        "8556\n"
       ]
      }
     ],
     "prompt_number": 11
    },
    {
     "cell_type": "markdown",
     "metadata": {},
     "source": [
      "###linearSVM"
     ]
    },
    {
     "cell_type": "code",
     "collapsed": false,
     "input": [
      "svm_rawmocap = svm.SVC()\n",
      "svm_rawmocap.fit(features_svm_train, labels_svm_train)"
     ],
     "language": "python",
     "metadata": {},
     "outputs": [
      {
       "metadata": {},
       "output_type": "pyout",
       "prompt_number": 27,
       "text": [
        "SVC(C=1.0, cache_size=200, class_weight=None, coef0=0.0, degree=3, gamma=0.0,\n",
        "  kernel='rbf', max_iter=-1, probability=False, random_state=None,\n",
        "  shrinking=True, tol=0.001, verbose=False)"
       ]
      }
     ],
     "prompt_number": 27
    },
    {
     "cell_type": "code",
     "collapsed": false,
     "input": [
      "labels_predicted = svm_rawmocap.predict(features_svm_test)\n",
      "print labels_predicted[::100], len(labels_predicted)"
     ],
     "language": "python",
     "metadata": {},
     "outputs": [
      {
       "output_type": "stream",
       "stream": "stdout",
       "text": [
        "[0 0 0 0 0 0 0 0 0 0 0 0 0 0 0 0 0 0 0 0 0 0 0 0 0 0 0 0 0 0 0 0 0 0 0 0 0\n",
        " 0 0 0 0 0 0 0 0 0 0 0 0 0 0 0 0 0 0 0 0 0 0 0 0 0 0 0 0 0 0 0 0 0 0 0 0 0\n",
        " 0 0 0 0 0 0 0 0 0 0 0 0] 8556\n"
       ]
      }
     ],
     "prompt_number": 28
    },
    {
     "cell_type": "code",
     "collapsed": false,
     "input": [
      "#\u6b63\u89e3\u7387\u3092\u8a08\u7b97\n",
      "count = 0\n",
      "for i in range(len(labels_predicted)):\n",
      "    if labels_predicted[i] == labels_svm_test[i]:\n",
      "        count += 1\n",
      "precision = count / np.float(len(labels_predicted))        \n",
      "print 'count=%d' % count\n",
      "print 'precision=%f' % precision"
     ],
     "language": "python",
     "metadata": {},
     "outputs": []
    },
    {
     "cell_type": "markdown",
     "metadata": {},
     "source": [
      "###polynomial kernel SVM"
     ]
    },
    {
     "cell_type": "code",
     "collapsed": false,
     "input": [
      "svm_rawmocap_poly = svm.SVC(kernel='poly', degree=2)\n",
      "svm_rawmocap_poly.fit(features_svm_train, labels_svm_train)"
     ],
     "language": "python",
     "metadata": {},
     "outputs": []
    },
    {
     "cell_type": "code",
     "collapsed": false,
     "input": [
      "labels_predicted = svm_rawmocap_poly.predict(features_svm_test)\n",
      "print labels_predicted[::100], len(labels_predicted)"
     ],
     "language": "python",
     "metadata": {},
     "outputs": []
    },
    {
     "cell_type": "code",
     "collapsed": false,
     "input": [
      "#\u6b63\u89e3\u7387\u3092\u8a08\u7b97\n",
      "count = 0\n",
      "for i in range(len(labels_predicted)):\n",
      "    if labels_predicted[i] == labels_svm_test[i]:\n",
      "        count += 1\n",
      "precision = count / np.float(len(labels_predicted))        \n",
      "print 'count=%d' % count\n",
      "print 'precision=%f' % precision"
     ],
     "language": "python",
     "metadata": {},
     "outputs": []
    },
    {
     "cell_type": "code",
     "collapsed": false,
     "input": [],
     "language": "python",
     "metadata": {},
     "outputs": []
    }
   ],
   "metadata": {}
  }
 ]
}