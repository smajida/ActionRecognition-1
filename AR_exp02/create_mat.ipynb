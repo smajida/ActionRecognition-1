{
 "metadata": {
  "name": "",
  "signature": "sha256:bc956fbcb68c1b9dc8a2e1677cc0d6e776c36e657258e5a27cd3975b690d8641"
 },
 "nbformat": 3,
 "nbformat_minor": 0,
 "worksheets": [
  {
   "cells": [
    {
     "cell_type": "markdown",
     "metadata": {},
     "source": [
      "###ELM\u7528\u306b\u5b66\u7fd2\u30c7\u30fc\u30bf\u3001\u30c6\u30b9\u30c8\u30c7\u30fc\u30bf\u306emat\u30d5\u30a1\u30a4\u30eb\u3092\u4f5c\u6210\n",
      "\u5b66\u7fd2\u30c7\u30fc\u30bf: 0-0, 0-1, 0-3, 0-7, 0-9, 0-12, 1-0, 1-1, 1-2, 1-3, 1-4, 1-5, 1-7  \n",
      "\u30c6\u30b9\u30c8\u30c7\u30fc\u30bf: 0-2, 0-4, 0-6, 0-8, 0-10, 0-11\n",
      "\n",
      "\u5b66\u7fd2\u30c7\u30fc\u30bf mocap: features_svm_train, label: labels_svm_train \n",
      "\u30c6\u30b9\u30c8\u30c7\u30fc\u30bf mocap: features_svm_test, label: labels_svm_test"
     ]
    },
    {
     "cell_type": "code",
     "collapsed": false,
     "input": [
      "import numpy as np\n",
      "from scipy import io\n",
      "from sklearn import preprocessing"
     ],
     "language": "python",
     "metadata": {},
     "outputs": [],
     "prompt_number": 29
    },
    {
     "cell_type": "code",
     "collapsed": false,
     "input": [
      "#\u5b66\u7fd2\u30c7\u30fc\u30bf(Mocap)\n",
      "data = np.genfromtxt('poses_train_exp02.bvh', delimiter=\" \")\n",
      "left_hand_data = data[:, 40:55] #\u5de6\u8155"
     ],
     "language": "python",
     "metadata": {},
     "outputs": [],
     "prompt_number": 2
    },
    {
     "cell_type": "code",
     "collapsed": false,
     "input": [
      "#\u5b66\u7fd2\u30c7\u30fc\u30bf(\u30e9\u30d9\u30eb)\n",
      "import csv\n",
      "f = open('labels_train_exp02.csv')\n",
      "reader = csv.reader(f)\n",
      "\n",
      "labels = []\n",
      "\n",
      "#lefthand\u306e\u5217\u3092labels\u306b\u62bd\u51fa\n",
      "for row in reader:\n",
      "    #print row\n",
      "    if row[0] == 'instance':\n",
      "        pass\n",
      "    else:\n",
      "        labels.append(row[1])\n",
      "\n",
      "print labels[::2000]\n",
      "print len(labels)"
     ],
     "language": "python",
     "metadata": {},
     "outputs": [
      {
       "output_type": "stream",
       "stream": "stdout",
       "text": [
        "['CarryingWhileLocomoting', 'OpeningADrawer', 'Reaching', 'CarryingWhileLocomoting', 'TakingSomething', 'ClosingADrawer', 'CarryingWhileLocomoting', 'CarryingWhileLocomoting', 'CarryingWhileLocomoting', 'CarryingWhileLocomoting', 'ClosingADoor', 'CarryingWhileLocomoting', 'CarryingWhileLocomoting', 'CarryingWhileLocomoting']\n",
        "26059\n"
       ]
      }
     ],
     "prompt_number": 3
    },
    {
     "cell_type": "code",
     "collapsed": false,
     "input": [
      "#\u30e9\u30d9\u30eb\u306e\u6570\u5024\u3078\u306e\u5909\u63db\n",
      "from sklearn import preprocessing\n",
      "le = preprocessing.LabelEncoder()\n",
      "\n",
      "le.fit(labels)\n",
      "\n",
      "print le.classes_, len(le.classes_)\n",
      "\n",
      "labels_transformed = le.transform(labels)\n",
      "print labels_transformed[::1000]"
     ],
     "language": "python",
     "metadata": {},
     "outputs": [
      {
       "output_type": "stream",
       "stream": "stdout",
       "text": [
        "['CarryingWhileLocomoting' 'ClosingADoor' 'ClosingADrawer'\n",
        " 'LoweringAnObject' 'OpeningADoor' 'OpeningADrawer' 'Reaching'\n",
        " 'ReleasingGraspOfSomething' 'TakingSomething'] 9\n",
        "[0 0 5 0 6 7 0 0 8 0 2 0 0 4 0 0 0 5 0 2 1 7 0 8 0 7 0]\n"
       ]
      }
     ],
     "prompt_number": 4
    },
    {
     "cell_type": "code",
     "collapsed": false,
     "input": [
      "#\u30c6\u30b9\u30c8\u30c7\u30fc\u30bf(Mocap)\n",
      "data00 = np.genfromtxt('poses_test_exp02.bvh', delimiter=\" \")\n",
      "#print data00\n",
      "print data00.shape\n",
      "left_hand_data00 = data00[:, 40:55]"
     ],
     "language": "python",
     "metadata": {},
     "outputs": [
      {
       "output_type": "stream",
       "stream": "stdout",
       "text": [
        "(8557, 87)\n"
       ]
      }
     ],
     "prompt_number": 6
    },
    {
     "cell_type": "code",
     "collapsed": false,
     "input": [
      "#\u30c6\u30b9\u30c8\u30c7\u30fc\u30bf(\u30e9\u30d9\u30eb)\n",
      "import csv\n",
      "f_test = open('labels_test_exp02.csv')\n",
      "reader_test = csv.reader(f_test)\n",
      "\n",
      "labels_test = []\n",
      "\n",
      "#righthand\u306e\u5217\u3092labels\u306b\u62bd\u51fa\n",
      "for row in reader_test:\n",
      "    #print row\n",
      "    if row[0] == 'instance':\n",
      "        pass\n",
      "    else:\n",
      "        labels_test.append(row[1])\n",
      "\n",
      "print labels_test[:41]\n",
      "print len(labels_test)\n",
      "\n",
      "#\u6570\u5024\u30e9\u30d9\u30eb\u3078\u306e\u5909\u63db\n",
      "labels_test_transformed = le.transform(labels_test)"
     ],
     "language": "python",
     "metadata": {},
     "outputs": [
      {
       "output_type": "stream",
       "stream": "stdout",
       "text": [
        "['CarryingWhileLocomoting', 'CarryingWhileLocomoting', 'CarryingWhileLocomoting', 'CarryingWhileLocomoting', 'CarryingWhileLocomoting', 'CarryingWhileLocomoting', 'CarryingWhileLocomoting', 'CarryingWhileLocomoting', 'CarryingWhileLocomoting', 'CarryingWhileLocomoting', 'CarryingWhileLocomoting', 'CarryingWhileLocomoting', 'CarryingWhileLocomoting', 'CarryingWhileLocomoting', 'CarryingWhileLocomoting', 'CarryingWhileLocomoting', 'CarryingWhileLocomoting', 'CarryingWhileLocomoting', 'CarryingWhileLocomoting', 'CarryingWhileLocomoting', 'CarryingWhileLocomoting', 'CarryingWhileLocomoting', 'CarryingWhileLocomoting', 'CarryingWhileLocomoting', 'CarryingWhileLocomoting', 'CarryingWhileLocomoting', 'CarryingWhileLocomoting', 'CarryingWhileLocomoting', 'Reaching', 'Reaching', 'Reaching', 'Reaching', 'Reaching', 'Reaching', 'Reaching', 'Reaching', 'Reaching', 'Reaching', 'Reaching', 'Reaching', 'Reaching']\n",
        "8557\n"
       ]
      }
     ],
     "prompt_number": 7
    },
    {
     "cell_type": "code",
     "collapsed": false,
     "input": [
      "#SVM\u5b66\u7fd2\u6642\u306e\u7279\u5fb4\u91cf\u3068\u3059\u308b\u89d2\u5ea6\u30d9\u30af\u30c8\u30eb\u306e\u30b9\u30e9\u30a4\u30c7\u30a3\u30f3\u30b0\u30a6\u30a3\u30f3\u30c9\u30a6\n",
      "\n",
      "#\u5b66\u7fd2\u30c7\u30fc\u30bf\n",
      "len_anglevec = left_hand_data.shape[1]\n",
      "window_length = 60\n",
      "features_svm_train = np.empty((len(left_hand_data)-(window_length-1), len_anglevec*window_length))\n",
      "\n",
      "for i in xrange(window_length-1, len(left_hand_data)):\n",
      "    feature_reshaped = np.reshape(left_hand_data[i-(window_length-1):i+1, :], (1, len_anglevec*window_length))\n",
      "    features_svm_train[i-(window_length-1), :] = feature_reshaped\n",
      "\n",
      "\n",
      "#print features_svm_train\n",
      "print features_svm_train.shape\n",
      "\n",
      "#features\u306e\u9577\u3055\u306b\u5408\u308f\u305b\u308b\u305f\u3081\u306b\u30e9\u30d9\u30eb\u5217\u306e\u524d9\u500b\u3092\u6d88\u53bb\n",
      "labels_svm_train = labels_transformed[window_length-1:]\n",
      "#print labels_svm_train\n",
      "print len(labels_svm_train)"
     ],
     "language": "python",
     "metadata": {},
     "outputs": [
      {
       "output_type": "stream",
       "stream": "stdout",
       "text": [
        "(26000, 900)\n",
        "26000\n"
       ]
      }
     ],
     "prompt_number": 80
    },
    {
     "cell_type": "code",
     "collapsed": false,
     "input": [
      "#\u30c6\u30b9\u30c8\u30c7\u30fc\u30bf\n",
      "len_anglevec = left_hand_data00.shape[1]\n",
      "window_length = 60\n",
      "features_svm_test = np.empty((len(left_hand_data00)-(window_length-1), len_anglevec*window_length))\n",
      "\n",
      "for i in xrange(window_length-1, len(left_hand_data00)):\n",
      "    feature_reshaped = np.reshape(left_hand_data00[i-(window_length-1):i+1, :], (1, len_anglevec*window_length))\n",
      "    features_svm_test[i-(window_length-1), :] = feature_reshaped\n",
      "\n",
      "\n",
      "#print features_svm_test\n",
      "print features_svm_test.shape\n",
      "\n",
      "#features\u306e\u9577\u3055\u306b\u5408\u308f\u305b\u308b\u305f\u3081\u306b\u30e9\u30d9\u30eb\u5217\u306e\u524d9\u500b\u3092\u6d88\u53bb\n",
      "labels_svm_test = labels_test_transformed[window_length-1:]\n",
      "#print labels_svm_test\n",
      "print len(labels_svm_test)"
     ],
     "language": "python",
     "metadata": {},
     "outputs": [
      {
       "output_type": "stream",
       "stream": "stdout",
       "text": [
        "(8498, 900)\n",
        "8498\n"
       ]
      }
     ],
     "prompt_number": 81
    },
    {
     "cell_type": "code",
     "collapsed": false,
     "input": [
      "#\u30e9\u30d9\u30eb\u30921ofK\u306b\u5909\u63db\n",
      "lb = preprocessing.LabelBinarizer()\n",
      "lb.fit(labels_svm_train)\n",
      "print lb.classes_\n",
      "train_target = lb.transform(labels_svm_train)\n",
      "test_target = lb.transform(labels_svm_test)\n",
      "print train_target.shape, test_target.shape"
     ],
     "language": "python",
     "metadata": {},
     "outputs": [
      {
       "output_type": "stream",
       "stream": "stdout",
       "text": [
        "[0 1 2 3 4 5 6 7 8]\n",
        "(26000, 9) (8498, 9)\n"
       ]
      }
     ],
     "prompt_number": 82
    },
    {
     "cell_type": "code",
     "collapsed": false,
     "input": [
      "#\u30e9\u30d9\u30eb\u306e\u578b\u5909\u63db\n",
      "train_target = train_target.astype(np.double)\n",
      "test_target = test_target.astype(np.double)\n",
      "\n",
      "print train_target.dtype, test_target.dtype\n"
     ],
     "language": "python",
     "metadata": {},
     "outputs": [
      {
       "output_type": "stream",
       "stream": "stdout",
       "text": [
        "float64 float64\n"
       ]
      }
     ],
     "prompt_number": 83
    },
    {
     "cell_type": "code",
     "collapsed": false,
     "input": [
      "io.savemat(\"tum_mocap.mat\", {\"train_data\":features_svm_train, \"train_target\":train_target, \"test_data\":features_svm_test, \"test_target\":test_target})"
     ],
     "language": "python",
     "metadata": {},
     "outputs": [],
     "prompt_number": 84
    },
    {
     "cell_type": "code",
     "collapsed": false,
     "input": [],
     "language": "python",
     "metadata": {},
     "outputs": []
    }
   ],
   "metadata": {}
  }
 ]
}